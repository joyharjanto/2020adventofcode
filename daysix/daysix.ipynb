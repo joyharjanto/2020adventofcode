{
 "cells": [
  {
   "cell_type": "markdown",
   "metadata": {},
   "source": [
    "## day six: 1/2"
   ]
  },
  {
   "cell_type": "code",
   "execution_count": 1,
   "metadata": {},
   "outputs": [],
   "source": [
    "from itertools import compress\n",
    "import pandas\n",
    "import re"
   ]
  },
  {
   "cell_type": "code",
   "execution_count": 2,
   "metadata": {},
   "outputs": [],
   "source": [
    "with open(\"test.txt\", \"r\") as fp:\n",
    "    test=fp.readlines()"
   ]
  },
  {
   "cell_type": "code",
   "execution_count": 3,
   "metadata": {},
   "outputs": [
    {
     "name": "stdout",
     "output_type": "stream",
     "text": [
      "['abc\\n', '\\n', 'a\\n', 'b\\n', 'c\\n', '\\n', 'ab\\n', 'ac\\n', '\\n', 'a\\n', 'a\\n', 'a\\n', 'a\\n', '\\n', 'b']\n"
     ]
    }
   ],
   "source": [
    "print(test)"
   ]
  },
  {
   "cell_type": "code",
   "execution_count": 4,
   "metadata": {},
   "outputs": [],
   "source": [
    "def counter_thing(lines):\n",
    "    groups = []\n",
    "    in_group = []\n",
    "    questions = ['a', 'b', 'c', 'd', 'e', 'f', 'g', 'h', 'i', 'j', 'k', 'l', 'm', 'n', 'o', 'p', 'q', 'r', 's', 't', 'u', 'v', 'w', 'x', 'y', 'z']\n",
    "    counter = 0\n",
    "\n",
    "    for entry in lines:\n",
    "        if entry != \"\\n\":\n",
    "            in_group.append(entry.split(\"\\n\")[0])\n",
    "        else: \n",
    "            groups.append(in_group)\n",
    "            in_group = []\n",
    "    if len(in_group) >= 1:\n",
    "        groups.append(in_group)\n",
    "\n",
    "    for i in range(0,len(groups)):\n",
    "        groups[i] = \"\".join(groups[i]) \n",
    "\n",
    "    for item in groups:\n",
    "        counter += len(''.join(set(item)))\n",
    "    return(counter)"
   ]
  },
  {
   "cell_type": "code",
   "execution_count": 5,
   "metadata": {},
   "outputs": [
    {
     "data": {
      "text/plain": [
       "11"
      ]
     },
     "execution_count": 5,
     "metadata": {},
     "output_type": "execute_result"
    }
   ],
   "source": [
    "counter_thing(test)"
   ]
  },
  {
   "cell_type": "code",
   "execution_count": 6,
   "metadata": {},
   "outputs": [],
   "source": [
    "with open(\"puzzle.txt\", \"r\") as fp:\n",
    "    puzzle=fp.readlines()"
   ]
  },
  {
   "cell_type": "code",
   "execution_count": 7,
   "metadata": {},
   "outputs": [
    {
     "data": {
      "text/plain": [
       "6161"
      ]
     },
     "execution_count": 7,
     "metadata": {},
     "output_type": "execute_result"
    }
   ],
   "source": [
    "counter_thing(puzzle)"
   ]
  },
  {
   "cell_type": "markdown",
   "metadata": {},
   "source": [
    "## day six: 2/2"
   ]
  },
  {
   "cell_type": "code",
   "execution_count": 8,
   "metadata": {},
   "outputs": [],
   "source": [
    "def second_puzzle(test):\n",
    "    groups = []\n",
    "    in_group = []\n",
    "    questions = ['a', 'b', 'c', 'd', 'e', 'f', 'g', 'h', 'i', 'j', 'k', 'l', 'm', 'n', 'o', 'p', 'q', 'r', 's', 't', 'u', 'v', 'w', 'x', 'y', 'z']\n",
    "    counter = 0\n",
    "\n",
    "    for entry in test:\n",
    "        if entry != \"\\n\":\n",
    "            in_group.append(entry.split(\"\\n\")[0])\n",
    "        else: \n",
    "            groups.append(in_group)\n",
    "            in_group = []\n",
    "    if len(in_group) >= 1:\n",
    "        groups.append(in_group)\n",
    "\n",
    "    for i in range(0, len(groups)):\n",
    "        entries1 = []\n",
    "        a = len(groups[i])\n",
    "        for item in groups[i]:\n",
    "            if len(item) == 1:\n",
    "                entries1.append(item)\n",
    "            else:\n",
    "                for i in item:\n",
    "                    entries1.append(i)\n",
    "        unique = [value for value in entries1 if entries1.count(value) == a]\n",
    "\n",
    "        counter += len(list(set(unique)))\n",
    "    return counter\n",
    "\n"
   ]
  },
  {
   "cell_type": "code",
   "execution_count": 9,
   "metadata": {},
   "outputs": [
    {
     "data": {
      "text/plain": [
       "6"
      ]
     },
     "execution_count": 9,
     "metadata": {},
     "output_type": "execute_result"
    }
   ],
   "source": [
    "second_puzzle(test)"
   ]
  },
  {
   "cell_type": "code",
   "execution_count": 10,
   "metadata": {},
   "outputs": [
    {
     "data": {
      "text/plain": [
       "2971"
      ]
     },
     "execution_count": 10,
     "metadata": {},
     "output_type": "execute_result"
    }
   ],
   "source": [
    "second_puzzle(puzzle)"
   ]
  }
 ],
 "metadata": {
  "kernelspec": {
   "display_name": "Python 3",
   "language": "python",
   "name": "python3"
  },
  "language_info": {
   "codemirror_mode": {
    "name": "ipython",
    "version": 3
   },
   "file_extension": ".py",
   "mimetype": "text/x-python",
   "name": "python",
   "nbconvert_exporter": "python",
   "pygments_lexer": "ipython3",
   "version": "3.7.2"
  }
 },
 "nbformat": 4,
 "nbformat_minor": 2
}
