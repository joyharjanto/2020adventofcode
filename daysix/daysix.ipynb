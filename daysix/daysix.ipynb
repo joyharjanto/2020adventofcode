{
 "cells": [
  {
   "cell_type": "markdown",
   "metadata": {},
   "source": [
    "## day six: 1/2"
   ]
  },
  {
   "cell_type": "code",
   "execution_count": 98,
   "metadata": {},
   "outputs": [],
   "source": [
    "from itertools import compress\n",
    "import pandas\n",
    "import re"
   ]
  },
  {
   "cell_type": "code",
   "execution_count": 99,
   "metadata": {},
   "outputs": [],
   "source": [
    "with open(\"test.txt\", \"r\") as fp:\n",
    "    test=fp.readlines()"
   ]
  },
  {
   "cell_type": "code",
   "execution_count": 100,
   "metadata": {},
   "outputs": [
    {
     "name": "stdout",
     "output_type": "stream",
     "text": [
      "['abc\\n', '\\n', 'a\\n', 'b\\n', 'c\\n', '\\n', 'ab\\n', 'ac\\n', '\\n', 'a\\n', 'a\\n', 'a\\n', 'a\\n', '\\n', 'b']\n"
     ]
    }
   ],
   "source": [
    "print(test)"
   ]
  },
  {
   "cell_type": "code",
   "execution_count": 106,
   "metadata": {},
   "outputs": [],
   "source": [
    "def counter_thing(lines):\n",
    "    groups = []\n",
    "    in_group = []\n",
    "    questions = ['a', 'b', 'c', 'd', 'e', 'f', 'g', 'h', 'i', 'j', 'k', 'l', 'm', 'n', 'o', 'p', 'q', 'r', 's', 't', 'u', 'v', 'w', 'x', 'y', 'z']\n",
    "    counter = 0\n",
    "\n",
    "    for entry in lines:\n",
    "        if entry != \"\\n\":\n",
    "            in_group.append(entry.split(\"\\n\")[0])\n",
    "        else: \n",
    "            groups.append(in_group)\n",
    "            in_group = []\n",
    "    if len(in_group) >= 1:\n",
    "        groups.append(in_group)\n",
    "\n",
    "    for i in range(0,len(groups)):\n",
    "        groups[i] = \"\".join(groups[i]) \n",
    "\n",
    "    for item in groups:\n",
    "        counter += len(''.join(set(item)))\n",
    "    return(counter)"
   ]
  },
  {
   "cell_type": "code",
   "execution_count": 107,
   "metadata": {},
   "outputs": [
    {
     "name": "stdout",
     "output_type": "stream",
     "text": [
      "3\n",
      "3\n",
      "3\n",
      "1\n",
      "1\n"
     ]
    },
    {
     "data": {
      "text/plain": [
       "11"
      ]
     },
     "execution_count": 107,
     "metadata": {},
     "output_type": "execute_result"
    }
   ],
   "source": [
    "counter_thing(test)"
   ]
  },
  {
   "cell_type": "code",
   "execution_count": 108,
   "metadata": {},
   "outputs": [],
   "source": [
    "with open(\"puzzle.txt\", \"r\") as fp:\n",
    "    puzzle=fp.readlines()"
   ]
  },
  {
   "cell_type": "code",
   "execution_count": 109,
   "metadata": {},
   "outputs": [
    {
     "name": "stdout",
     "output_type": "stream",
     "text": [
      "12\n",
      "11\n",
      "20\n",
      "4\n",
      "25\n",
      "7\n",
      "1\n",
      "20\n",
      "22\n",
      "15\n",
      "12\n",
      "12\n",
      "25\n",
      "6\n",
      "13\n",
      "14\n",
      "25\n",
      "7\n",
      "10\n",
      "10\n",
      "7\n",
      "11\n",
      "4\n",
      "3\n",
      "20\n",
      "11\n",
      "8\n",
      "21\n",
      "9\n",
      "26\n",
      "13\n",
      "11\n",
      "11\n",
      "12\n",
      "2\n",
      "4\n",
      "20\n",
      "13\n",
      "8\n",
      "6\n",
      "16\n",
      "15\n",
      "14\n",
      "4\n",
      "17\n",
      "13\n",
      "20\n",
      "14\n",
      "16\n",
      "9\n",
      "6\n",
      "18\n",
      "13\n",
      "9\n",
      "26\n",
      "10\n",
      "20\n",
      "8\n",
      "17\n",
      "18\n",
      "12\n",
      "15\n",
      "10\n",
      "12\n",
      "19\n",
      "22\n",
      "16\n",
      "18\n",
      "3\n",
      "15\n",
      "3\n",
      "9\n",
      "21\n",
      "17\n",
      "15\n",
      "18\n",
      "9\n",
      "4\n",
      "23\n",
      "8\n",
      "12\n",
      "23\n",
      "4\n",
      "3\n",
      "3\n",
      "4\n",
      "5\n",
      "4\n",
      "22\n",
      "20\n",
      "2\n",
      "14\n",
      "17\n",
      "17\n",
      "5\n",
      "7\n",
      "11\n",
      "2\n",
      "16\n",
      "4\n",
      "23\n",
      "2\n",
      "2\n",
      "2\n",
      "9\n",
      "14\n",
      "10\n",
      "8\n",
      "20\n",
      "10\n",
      "23\n",
      "2\n",
      "3\n",
      "6\n",
      "3\n",
      "19\n",
      "26\n",
      "7\n",
      "3\n",
      "20\n",
      "24\n",
      "25\n",
      "2\n",
      "5\n",
      "8\n",
      "4\n",
      "24\n",
      "11\n",
      "6\n",
      "20\n",
      "21\n",
      "15\n",
      "13\n",
      "17\n",
      "8\n",
      "13\n",
      "22\n",
      "9\n",
      "14\n",
      "22\n",
      "26\n",
      "16\n",
      "11\n",
      "11\n",
      "14\n",
      "20\n",
      "19\n",
      "17\n",
      "21\n",
      "18\n",
      "23\n",
      "9\n",
      "19\n",
      "3\n",
      "12\n",
      "20\n",
      "4\n",
      "2\n",
      "19\n",
      "14\n",
      "5\n",
      "26\n",
      "22\n",
      "14\n",
      "2\n",
      "3\n",
      "16\n",
      "3\n",
      "5\n",
      "1\n",
      "9\n",
      "24\n",
      "3\n",
      "21\n",
      "26\n",
      "10\n",
      "14\n",
      "12\n",
      "24\n",
      "26\n",
      "23\n",
      "11\n",
      "11\n",
      "19\n",
      "26\n",
      "23\n",
      "14\n",
      "24\n",
      "20\n",
      "20\n",
      "26\n",
      "17\n",
      "13\n",
      "9\n",
      "7\n",
      "9\n",
      "16\n",
      "4\n",
      "23\n",
      "3\n",
      "18\n",
      "20\n",
      "5\n",
      "20\n",
      "6\n",
      "23\n",
      "14\n",
      "5\n",
      "21\n",
      "22\n",
      "10\n",
      "7\n",
      "26\n",
      "7\n",
      "13\n",
      "6\n",
      "18\n",
      "9\n",
      "21\n",
      "4\n",
      "21\n",
      "13\n",
      "18\n",
      "26\n",
      "5\n",
      "17\n",
      "24\n",
      "7\n",
      "22\n",
      "2\n",
      "21\n",
      "11\n",
      "15\n",
      "25\n",
      "23\n",
      "19\n",
      "5\n",
      "10\n",
      "12\n",
      "12\n",
      "26\n",
      "18\n",
      "11\n",
      "24\n",
      "2\n",
      "1\n",
      "3\n",
      "23\n",
      "22\n",
      "23\n",
      "16\n",
      "12\n",
      "12\n",
      "14\n",
      "11\n",
      "15\n",
      "23\n",
      "22\n",
      "14\n",
      "20\n",
      "25\n",
      "22\n",
      "3\n",
      "23\n",
      "1\n",
      "4\n",
      "7\n",
      "12\n",
      "22\n",
      "16\n",
      "18\n",
      "16\n",
      "6\n",
      "19\n",
      "3\n",
      "7\n",
      "12\n",
      "2\n",
      "7\n",
      "20\n",
      "7\n",
      "24\n",
      "7\n",
      "6\n",
      "6\n",
      "19\n",
      "19\n",
      "19\n",
      "4\n",
      "4\n",
      "25\n",
      "14\n",
      "2\n",
      "22\n",
      "24\n",
      "19\n",
      "17\n",
      "20\n",
      "7\n",
      "13\n",
      "5\n",
      "1\n",
      "14\n",
      "15\n",
      "14\n",
      "4\n",
      "15\n",
      "2\n",
      "20\n",
      "2\n",
      "14\n",
      "14\n",
      "11\n",
      "18\n",
      "7\n",
      "6\n",
      "5\n",
      "2\n",
      "18\n",
      "4\n",
      "15\n",
      "4\n",
      "19\n",
      "22\n",
      "11\n",
      "17\n",
      "23\n",
      "19\n",
      "18\n",
      "25\n",
      "12\n",
      "23\n",
      "10\n",
      "25\n",
      "22\n",
      "9\n",
      "20\n",
      "20\n",
      "19\n",
      "6\n",
      "23\n",
      "1\n",
      "24\n",
      "10\n",
      "21\n",
      "22\n",
      "2\n",
      "7\n",
      "21\n",
      "9\n",
      "6\n",
      "10\n",
      "16\n",
      "24\n",
      "4\n",
      "6\n",
      "23\n",
      "1\n",
      "8\n",
      "15\n",
      "19\n",
      "4\n",
      "21\n",
      "8\n",
      "20\n",
      "2\n",
      "24\n",
      "13\n",
      "15\n",
      "9\n",
      "7\n",
      "15\n",
      "20\n",
      "22\n",
      "19\n",
      "10\n",
      "8\n",
      "21\n",
      "9\n",
      "19\n",
      "16\n",
      "18\n",
      "3\n",
      "13\n",
      "13\n",
      "23\n",
      "7\n",
      "20\n",
      "19\n",
      "22\n",
      "6\n",
      "9\n",
      "14\n",
      "22\n",
      "2\n",
      "5\n",
      "5\n",
      "7\n",
      "15\n",
      "25\n",
      "6\n",
      "20\n",
      "6\n",
      "10\n",
      "14\n",
      "15\n",
      "25\n",
      "20\n",
      "20\n",
      "19\n",
      "6\n",
      "15\n",
      "13\n",
      "23\n",
      "5\n",
      "12\n",
      "16\n",
      "25\n",
      "4\n",
      "14\n",
      "19\n",
      "12\n",
      "6\n",
      "20\n",
      "4\n",
      "9\n",
      "19\n",
      "3\n",
      "3\n",
      "15\n",
      "17\n",
      "21\n",
      "25\n",
      "13\n",
      "9\n",
      "20\n",
      "20\n",
      "3\n",
      "14\n",
      "20\n",
      "17\n",
      "1\n",
      "14\n",
      "2\n",
      "17\n",
      "5\n",
      "2\n",
      "3\n",
      "16\n",
      "5\n",
      "22\n",
      "15\n",
      "22\n",
      "12\n",
      "17\n",
      "7\n",
      "25\n",
      "10\n",
      "24\n"
     ]
    },
    {
     "data": {
      "text/plain": [
       "6161"
      ]
     },
     "execution_count": 109,
     "metadata": {},
     "output_type": "execute_result"
    }
   ],
   "source": [
    "counter_thing(puzzle)"
   ]
  },
  {
   "cell_type": "code",
   "execution_count": 122,
   "metadata": {},
   "outputs": [
    {
     "name": "stdout",
     "output_type": "stream",
     "text": [
      "[['abc'], ['a', 'b', 'c'], ['ab', 'ac'], ['a', 'a', 'a', 'a'], ['b']]\n"
     ]
    }
   ],
   "source": [
    "groups = []\n",
    "in_group = []\n",
    "questions = ['a', 'b', 'c', 'd', 'e', 'f', 'g', 'h', 'i', 'j', 'k', 'l', 'm', 'n', 'o', 'p', 'q', 'r', 's', 't', 'u', 'v', 'w', 'x', 'y', 'z']\n",
    "counter = 0\n",
    "\n",
    "for entry in test:\n",
    "    if entry != \"\\n\":\n",
    "        in_group.append(entry.split(\"\\n\")[0])\n",
    "    else: \n",
    "        groups.append(in_group)\n",
    "        in_group = []\n",
    "if len(in_group) >= 1:\n",
    "    groups.append(in_group)\n",
    "\n",
    "# for i in range(0,len(groups)):\n",
    "#     groups[i] = \"\".join(groups[i]) \n",
    "\n",
    "# for item in groups:\n",
    "#     counter += len(''.join(set(item)))\n",
    "\n",
    "print(groups)\n",
    "\n"
   ]
  },
  {
   "cell_type": "code",
   "execution_count": 121,
   "metadata": {},
   "outputs": [
    {
     "data": {
      "text/plain": [
       "1"
      ]
     },
     "execution_count": 121,
     "metadata": {},
     "output_type": "execute_result"
    }
   ],
   "source": [
    "len(groups[0])"
   ]
  },
  {
   "cell_type": "code",
   "execution_count": 128,
   "metadata": {},
   "outputs": [
    {
     "data": {
      "text/plain": [
       "['a', 'b', 'c']"
      ]
     },
     "execution_count": 128,
     "metadata": {},
     "output_type": "execute_result"
    }
   ],
   "source": [
    "groups[1]"
   ]
  },
  {
   "cell_type": "code",
   "execution_count": 134,
   "metadata": {},
   "outputs": [],
   "source": [
    "from collections import Counter"
   ]
  },
  {
   "cell_type": "code",
   "execution_count": 135,
   "metadata": {},
   "outputs": [
    {
     "ename": "IndexError",
     "evalue": "string index out of range",
     "output_type": "error",
     "traceback": [
      "\u001b[0;31m---------------------------------------------------------------------------\u001b[0m",
      "\u001b[0;31mIndexError\u001b[0m                                Traceback (most recent call last)",
      "\u001b[0;32m<ipython-input-135-c624f9ca9266>\u001b[0m in \u001b[0;36m<module>\u001b[0;34m()\u001b[0m\n\u001b[0;32m----> 1\u001b[0;31m \u001b[0mCounter\u001b[0m\u001b[0;34m(\u001b[0m\u001b[0;34m\"\"\u001b[0m\u001b[0;34m.\u001b[0m\u001b[0mjoin\u001b[0m\u001b[0;34m(\u001b[0m\u001b[0mgroup\u001b[0m\u001b[0;34m[\u001b[0m\u001b[0;36m2\u001b[0m\u001b[0;34m]\u001b[0m\u001b[0;34m)\u001b[0m\u001b[0;34m)\u001b[0m\u001b[0;34m\u001b[0m\u001b[0;34m\u001b[0m\u001b[0m\n\u001b[0m",
      "\u001b[0;31mIndexError\u001b[0m: string index out of range"
     ]
    }
   ],
   "source": [
    "Counter(\"\".join(group[2]))"
   ]
  },
  {
   "cell_type": "code",
   "execution_count": 132,
   "metadata": {},
   "outputs": [
    {
     "name": "stdout",
     "output_type": "stream",
     "text": [
      "['a']\n",
      "['b']\n",
      "['c']\n"
     ]
    }
   ],
   "source": [
    "for item in groups[1]:\n",
    "    print(list(item))"
   ]
  },
  {
   "cell_type": "code",
   "execution_count": 127,
   "metadata": {},
   "outputs": [
    {
     "data": {
      "text/plain": [
       "{'a'}"
      ]
     },
     "execution_count": 127,
     "metadata": {},
     "output_type": "execute_result"
    }
   ],
   "source": [
    "set(groups[3])"
   ]
  },
  {
   "cell_type": "code",
   "execution_count": null,
   "metadata": {},
   "outputs": [],
   "source": [
    "groups[1][1]"
   ]
  },
  {
   "cell_type": "code",
   "execution_count": null,
   "metadata": {},
   "outputs": [],
   "source": [
    "groups[1][2]"
   ]
  },
  {
   "cell_type": "code",
   "execution_count": 120,
   "metadata": {},
   "outputs": [
    {
     "data": {
      "text/plain": [
       "['ab', 'ac']"
      ]
     },
     "execution_count": 120,
     "metadata": {},
     "output_type": "execute_result"
    }
   ],
   "source": [
    "groups[2]"
   ]
  },
  {
   "cell_type": "code",
   "execution_count": null,
   "metadata": {},
   "outputs": [],
   "source": []
  }
 ],
 "metadata": {
  "kernelspec": {
   "display_name": "Python 3",
   "language": "python",
   "name": "python3"
  },
  "language_info": {
   "codemirror_mode": {
    "name": "ipython",
    "version": 3
   },
   "file_extension": ".py",
   "mimetype": "text/x-python",
   "name": "python",
   "nbconvert_exporter": "python",
   "pygments_lexer": "ipython3",
   "version": "3.7.2"
  }
 },
 "nbformat": 4,
 "nbformat_minor": 2
}
