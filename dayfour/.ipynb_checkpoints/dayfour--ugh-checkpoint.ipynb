{
 "cells": [
  {
   "cell_type": "markdown",
   "metadata": {},
   "source": [
    "## day four: 1/2"
   ]
  },
  {
   "cell_type": "code",
   "execution_count": 61,
   "metadata": {},
   "outputs": [],
   "source": [
    "import pandas"
   ]
  },
  {
   "cell_type": "code",
   "execution_count": 62,
   "metadata": {},
   "outputs": [],
   "source": [
    "csvFile = pandas.read_csv('dayfour.csv', header=None)"
   ]
  },
  {
   "cell_type": "code",
   "execution_count": 63,
   "metadata": {},
   "outputs": [
    {
     "data": {
      "text/html": [
       "<div>\n",
       "<style scoped>\n",
       "    .dataframe tbody tr th:only-of-type {\n",
       "        vertical-align: middle;\n",
       "    }\n",
       "\n",
       "    .dataframe tbody tr th {\n",
       "        vertical-align: top;\n",
       "    }\n",
       "\n",
       "    .dataframe thead th {\n",
       "        text-align: right;\n",
       "    }\n",
       "</style>\n",
       "<table border=\"1\" class=\"dataframe\">\n",
       "  <thead>\n",
       "    <tr style=\"text-align: right;\">\n",
       "      <th></th>\n",
       "      <th>0</th>\n",
       "    </tr>\n",
       "  </thead>\n",
       "  <tbody>\n",
       "    <tr>\n",
       "      <th>0</th>\n",
       "      <td>eyr:2033</td>\n",
       "    </tr>\n",
       "    <tr>\n",
       "      <th>1</th>\n",
       "      <td>hgt:177cm pid:173cm</td>\n",
       "    </tr>\n",
       "    <tr>\n",
       "      <th>2</th>\n",
       "      <td>ecl:utc byr:2029 hcl:#efcc98 iyr:2023</td>\n",
       "    </tr>\n",
       "    <tr>\n",
       "      <th>3</th>\n",
       "      <td>pid:337605855 cid:249 byr:1952 hgt:155cm</td>\n",
       "    </tr>\n",
       "    <tr>\n",
       "      <th>4</th>\n",
       "      <td>ecl:grn iyr:2017 eyr:2026 hcl:#866857</td>\n",
       "    </tr>\n",
       "    <tr>\n",
       "      <th>5</th>\n",
       "      <td>cid:242 iyr:2011 pid:953198122 eyr:2029 ecl:bl...</td>\n",
       "    </tr>\n",
       "    <tr>\n",
       "      <th>6</th>\n",
       "      <td>hgt:173cm hcl:#341e13</td>\n",
       "    </tr>\n",
       "    <tr>\n",
       "      <th>7</th>\n",
       "      <td>cid:341</td>\n",
       "    </tr>\n",
       "    <tr>\n",
       "      <th>8</th>\n",
       "      <td>pid:112086592</td>\n",
       "    </tr>\n",
       "    <tr>\n",
       "      <th>9</th>\n",
       "      <td>iyr:2012 byr:2011 ecl:amb</td>\n",
       "    </tr>\n",
       "    <tr>\n",
       "      <th>10</th>\n",
       "      <td>eyr:2030</td>\n",
       "    </tr>\n",
       "    <tr>\n",
       "      <th>11</th>\n",
       "      <td>pid:790332032</td>\n",
       "    </tr>\n",
       "    <tr>\n",
       "      <th>12</th>\n",
       "      <td>iyr:2019</td>\n",
       "    </tr>\n",
       "    <tr>\n",
       "      <th>13</th>\n",
       "      <td>eyr:2023 byr:1969 ecl:brn</td>\n",
       "    </tr>\n",
       "    <tr>\n",
       "      <th>14</th>\n",
       "      <td>hgt:163cm</td>\n",
       "    </tr>\n",
       "    <tr>\n",
       "      <th>15</th>\n",
       "      <td>hcl:#623a2f</td>\n",
       "    </tr>\n",
       "    <tr>\n",
       "      <th>16</th>\n",
       "      <td>byr:1920 eyr:2023 cid:146 pid:890112986 hgt:17...</td>\n",
       "    </tr>\n",
       "    <tr>\n",
       "      <th>17</th>\n",
       "      <td>hcl:#c0946f byr:1967 cid:199 ecl:gry</td>\n",
       "    </tr>\n",
       "    <tr>\n",
       "      <th>18</th>\n",
       "      <td>iyr:2012 pid:987409259 hgt:157cm eyr:2021</td>\n",
       "    </tr>\n",
       "    <tr>\n",
       "      <th>19</th>\n",
       "      <td>pid:316587303 iyr:2016 eyr:2023 ecl:blu byr:19...</td>\n",
       "    </tr>\n",
       "    <tr>\n",
       "      <th>20</th>\n",
       "      <td>hcl:#fffffd hgt:152cm byr:1996 ecl:gry eyr:2024</td>\n",
       "    </tr>\n",
       "    <tr>\n",
       "      <th>21</th>\n",
       "      <td>ecl:brn hgt:185cm</td>\n",
       "    </tr>\n",
       "    <tr>\n",
       "      <th>22</th>\n",
       "      <td>pid:648491325 byr:1967</td>\n",
       "    </tr>\n",
       "    <tr>\n",
       "      <th>23</th>\n",
       "      <td>hcl:#172f67 iyr:2014</td>\n",
       "    </tr>\n",
       "    <tr>\n",
       "      <th>24</th>\n",
       "      <td>eyr:2028</td>\n",
       "    </tr>\n",
       "    <tr>\n",
       "      <th>25</th>\n",
       "      <td>pid:328737320 iyr:2017 hcl:#fffffd hgt:178</td>\n",
       "    </tr>\n",
       "    <tr>\n",
       "      <th>26</th>\n",
       "      <td>ecl:#35fad5</td>\n",
       "    </tr>\n",
       "    <tr>\n",
       "      <th>27</th>\n",
       "      <td>byr:1959</td>\n",
       "    </tr>\n",
       "    <tr>\n",
       "      <th>28</th>\n",
       "      <td>iyr:2010 byr:1943 eyr:2028</td>\n",
       "    </tr>\n",
       "    <tr>\n",
       "      <th>29</th>\n",
       "      <td>hgt:178cm hcl:#888785 pid:572750267</td>\n",
       "    </tr>\n",
       "    <tr>\n",
       "      <th>...</th>\n",
       "      <td>...</td>\n",
       "    </tr>\n",
       "    <tr>\n",
       "      <th>788</th>\n",
       "      <td>iyr:2018 hgt:164cm hcl:#650d28 byr:1973 cid:10...</td>\n",
       "    </tr>\n",
       "    <tr>\n",
       "      <th>789</th>\n",
       "      <td>hcl:z</td>\n",
       "    </tr>\n",
       "    <tr>\n",
       "      <th>790</th>\n",
       "      <td>pid:315901778</td>\n",
       "    </tr>\n",
       "    <tr>\n",
       "      <th>791</th>\n",
       "      <td>iyr:2013</td>\n",
       "    </tr>\n",
       "    <tr>\n",
       "      <th>792</th>\n",
       "      <td>byr:1999 ecl:#49f691 eyr:2026 hgt:179cm</td>\n",
       "    </tr>\n",
       "    <tr>\n",
       "      <th>793</th>\n",
       "      <td>byr:1925</td>\n",
       "    </tr>\n",
       "    <tr>\n",
       "      <th>794</th>\n",
       "      <td>pid:555786686 hgt:189cm hcl:#cfa07d iyr:2012 e...</td>\n",
       "    </tr>\n",
       "    <tr>\n",
       "      <th>795</th>\n",
       "      <td>iyr:2016</td>\n",
       "    </tr>\n",
       "    <tr>\n",
       "      <th>796</th>\n",
       "      <td>hgt:168cm</td>\n",
       "    </tr>\n",
       "    <tr>\n",
       "      <th>797</th>\n",
       "      <td>eyr:2027 cid:60 ecl:gry hcl:#cfa07d</td>\n",
       "    </tr>\n",
       "    <tr>\n",
       "      <th>798</th>\n",
       "      <td>pid:322944081 byr:1993</td>\n",
       "    </tr>\n",
       "    <tr>\n",
       "      <th>799</th>\n",
       "      <td>pid:163cm</td>\n",
       "    </tr>\n",
       "    <tr>\n",
       "      <th>800</th>\n",
       "      <td>hgt:189cm iyr:1997 hcl:03db25 eyr:1970</td>\n",
       "    </tr>\n",
       "    <tr>\n",
       "      <th>801</th>\n",
       "      <td>byr:2016 ecl:#6c59eb</td>\n",
       "    </tr>\n",
       "    <tr>\n",
       "      <th>802</th>\n",
       "      <td>pid:766719295 iyr:2017</td>\n",
       "    </tr>\n",
       "    <tr>\n",
       "      <th>803</th>\n",
       "      <td>hgt:168cm</td>\n",
       "    </tr>\n",
       "    <tr>\n",
       "      <th>804</th>\n",
       "      <td>hcl:z ecl:grt</td>\n",
       "    </tr>\n",
       "    <tr>\n",
       "      <th>805</th>\n",
       "      <td>eyr:2022 byr:2010</td>\n",
       "    </tr>\n",
       "    <tr>\n",
       "      <th>806</th>\n",
       "      <td>hgt:173cm pid:247156751 cid:109 eyr:2022 iyr:2...</td>\n",
       "    </tr>\n",
       "    <tr>\n",
       "      <th>807</th>\n",
       "      <td>cid:288</td>\n",
       "    </tr>\n",
       "    <tr>\n",
       "      <th>808</th>\n",
       "      <td>hcl:77241f</td>\n",
       "    </tr>\n",
       "    <tr>\n",
       "      <th>809</th>\n",
       "      <td>hgt:157cm byr:1956 pid:587115461 iyr:2016 ecl:lzr</td>\n",
       "    </tr>\n",
       "    <tr>\n",
       "      <th>810</th>\n",
       "      <td>eyr:2034</td>\n",
       "    </tr>\n",
       "    <tr>\n",
       "      <th>811</th>\n",
       "      <td>hcl:5307c9 ecl:#cc4aff</td>\n",
       "    </tr>\n",
       "    <tr>\n",
       "      <th>812</th>\n",
       "      <td>pid:#d80d30</td>\n",
       "    </tr>\n",
       "    <tr>\n",
       "      <th>813</th>\n",
       "      <td>cid:224 hgt:72cm byr:2025 eyr:2039 iyr:2025</td>\n",
       "    </tr>\n",
       "    <tr>\n",
       "      <th>814</th>\n",
       "      <td>eyr:2027 byr:2015</td>\n",
       "    </tr>\n",
       "    <tr>\n",
       "      <th>815</th>\n",
       "      <td>hgt:184 hcl:98fb9d pid:58151347</td>\n",
       "    </tr>\n",
       "    <tr>\n",
       "      <th>816</th>\n",
       "      <td>iyr:2029</td>\n",
       "    </tr>\n",
       "    <tr>\n",
       "      <th>817</th>\n",
       "      <td>hgt:183cm cid:187 byr:2019 ecl:xry iyr:2013 pi...</td>\n",
       "    </tr>\n",
       "  </tbody>\n",
       "</table>\n",
       "<p>818 rows × 1 columns</p>\n",
       "</div>"
      ],
      "text/plain": [
       "                                                     0\n",
       "0                                             eyr:2033\n",
       "1                                  hgt:177cm pid:173cm\n",
       "2                ecl:utc byr:2029 hcl:#efcc98 iyr:2023\n",
       "3             pid:337605855 cid:249 byr:1952 hgt:155cm\n",
       "4                ecl:grn iyr:2017 eyr:2026 hcl:#866857\n",
       "5    cid:242 iyr:2011 pid:953198122 eyr:2029 ecl:bl...\n",
       "6                                hgt:173cm hcl:#341e13\n",
       "7                                              cid:341\n",
       "8                                        pid:112086592\n",
       "9                            iyr:2012 byr:2011 ecl:amb\n",
       "10                                            eyr:2030\n",
       "11                                       pid:790332032\n",
       "12                                            iyr:2019\n",
       "13                           eyr:2023 byr:1969 ecl:brn\n",
       "14                                           hgt:163cm\n",
       "15                                         hcl:#623a2f\n",
       "16   byr:1920 eyr:2023 cid:146 pid:890112986 hgt:17...\n",
       "17                hcl:#c0946f byr:1967 cid:199 ecl:gry\n",
       "18           iyr:2012 pid:987409259 hgt:157cm eyr:2021\n",
       "19   pid:316587303 iyr:2016 eyr:2023 ecl:blu byr:19...\n",
       "20     hcl:#fffffd hgt:152cm byr:1996 ecl:gry eyr:2024\n",
       "21                                   ecl:brn hgt:185cm\n",
       "22                              pid:648491325 byr:1967\n",
       "23                                hcl:#172f67 iyr:2014\n",
       "24                                            eyr:2028\n",
       "25          pid:328737320 iyr:2017 hcl:#fffffd hgt:178\n",
       "26                                         ecl:#35fad5\n",
       "27                                            byr:1959\n",
       "28                          iyr:2010 byr:1943 eyr:2028\n",
       "29                 hgt:178cm hcl:#888785 pid:572750267\n",
       "..                                                 ...\n",
       "788  iyr:2018 hgt:164cm hcl:#650d28 byr:1973 cid:10...\n",
       "789                                              hcl:z\n",
       "790                                      pid:315901778\n",
       "791                                           iyr:2013\n",
       "792            byr:1999 ecl:#49f691 eyr:2026 hgt:179cm\n",
       "793                                           byr:1925\n",
       "794  pid:555786686 hgt:189cm hcl:#cfa07d iyr:2012 e...\n",
       "795                                           iyr:2016\n",
       "796                                          hgt:168cm\n",
       "797                eyr:2027 cid:60 ecl:gry hcl:#cfa07d\n",
       "798                             pid:322944081 byr:1993\n",
       "799                                          pid:163cm\n",
       "800             hgt:189cm iyr:1997 hcl:03db25 eyr:1970\n",
       "801                               byr:2016 ecl:#6c59eb\n",
       "802                             pid:766719295 iyr:2017\n",
       "803                                          hgt:168cm\n",
       "804                                      hcl:z ecl:grt\n",
       "805                                  eyr:2022 byr:2010\n",
       "806  hgt:173cm pid:247156751 cid:109 eyr:2022 iyr:2...\n",
       "807                                            cid:288\n",
       "808                                         hcl:77241f\n",
       "809  hgt:157cm byr:1956 pid:587115461 iyr:2016 ecl:lzr\n",
       "810                                           eyr:2034\n",
       "811                             hcl:5307c9 ecl:#cc4aff\n",
       "812                                        pid:#d80d30\n",
       "813        cid:224 hgt:72cm byr:2025 eyr:2039 iyr:2025\n",
       "814                                  eyr:2027 byr:2015\n",
       "815                    hgt:184 hcl:98fb9d pid:58151347\n",
       "816                                           iyr:2029\n",
       "817  hgt:183cm cid:187 byr:2019 ecl:xry iyr:2013 pi...\n",
       "\n",
       "[818 rows x 1 columns]"
      ]
     },
     "execution_count": 63,
     "metadata": {},
     "output_type": "execute_result"
    }
   ],
   "source": [
    "csvFile"
   ]
  },
  {
   "cell_type": "code",
   "execution_count": 64,
   "metadata": {},
   "outputs": [],
   "source": [
    "ooh = []"
   ]
  },
  {
   "cell_type": "code",
   "execution_count": 65,
   "metadata": {},
   "outputs": [],
   "source": [
    "for a in range(0, len(csvFile)):\n",
    "    ooh.append(csvFile[0][a])"
   ]
  },
  {
   "cell_type": "code",
   "execution_count": 66,
   "metadata": {},
   "outputs": [],
   "source": [
    "### eight items, or seven without `cid`"
   ]
  },
  {
   "cell_type": "code",
   "execution_count": 67,
   "metadata": {},
   "outputs": [
    {
     "data": {
      "text/plain": [
       "'eyr:2033'"
      ]
     },
     "execution_count": 67,
     "metadata": {},
     "output_type": "execute_result"
    }
   ],
   "source": [
    "ooh[0]"
   ]
  },
  {
   "cell_type": "code",
   "execution_count": 68,
   "metadata": {},
   "outputs": [
    {
     "data": {
      "text/plain": [
       "'hgt:173cm pid:247156751 cid:109 eyr:2022 iyr:2012 ecl:gry byr:1989'"
      ]
     },
     "execution_count": 68,
     "metadata": {},
     "output_type": "execute_result"
    }
   ],
   "source": [
    "ooh[806]"
   ]
  },
  {
   "cell_type": "code",
   "execution_count": 69,
   "metadata": {},
   "outputs": [
    {
     "data": {
      "text/plain": [
       "7"
      ]
     },
     "execution_count": 69,
     "metadata": {},
     "output_type": "execute_result"
    }
   ],
   "source": [
    "len(ooh[806].split(\" \"))"
   ]
  },
  {
   "cell_type": "code",
   "execution_count": 70,
   "metadata": {},
   "outputs": [
    {
     "data": {
      "text/plain": [
       "['hgt:173cm',\n",
       " 'pid:247156751',\n",
       " 'cid:109',\n",
       " 'eyr:2022',\n",
       " 'iyr:2012',\n",
       " 'ecl:gry',\n",
       " 'byr:1989']"
      ]
     },
     "execution_count": 70,
     "metadata": {},
     "output_type": "execute_result"
    }
   ],
   "source": [
    "ooh[806].split(\" \")"
   ]
  },
  {
   "cell_type": "code",
   "execution_count": 71,
   "metadata": {},
   "outputs": [],
   "source": [
    "a = ooh[806].split(\" \")"
   ]
  },
  {
   "cell_type": "code",
   "execution_count": 72,
   "metadata": {},
   "outputs": [
    {
     "name": "stdout",
     "output_type": "stream",
     "text": [
      "['hgt:173cm', 'pid:247156751', 'cid:109', 'eyr:2022', 'iyr:2012', 'ecl:gry', 'byr:1989']\n"
     ]
    }
   ],
   "source": [
    "print(a)"
   ]
  },
  {
   "cell_type": "code",
   "execution_count": 73,
   "metadata": {},
   "outputs": [
    {
     "name": "stdout",
     "output_type": "stream",
     "text": [
      "7\n"
     ]
    }
   ],
   "source": [
    "print(len(a))"
   ]
  },
  {
   "cell_type": "code",
   "execution_count": 74,
   "metadata": {},
   "outputs": [
    {
     "data": {
      "text/plain": [
       "'hgt:173cm pid:247156751 cid:109 eyr:2022 iyr:2012 ecl:gry byr:1989'"
      ]
     },
     "execution_count": 74,
     "metadata": {},
     "output_type": "execute_result"
    }
   ],
   "source": [
    "ooh[806]"
   ]
  },
  {
   "cell_type": "code",
   "execution_count": 75,
   "metadata": {},
   "outputs": [
    {
     "name": "stdout",
     "output_type": "stream",
     "text": [
      "hgt\n"
     ]
    }
   ],
   "source": [
    "print(a[0][0:3])"
   ]
  },
  {
   "cell_type": "code",
   "execution_count": 109,
   "metadata": {},
   "outputs": [],
   "source": [
    "valid = []"
   ]
  },
  {
   "cell_type": "code",
   "execution_count": 110,
   "metadata": {},
   "outputs": [
    {
     "data": {
      "text/plain": [
       "'eyr:2033'"
      ]
     },
     "execution_count": 110,
     "metadata": {},
     "output_type": "execute_result"
    }
   ],
   "source": [
    "ooh[0]"
   ]
  },
  {
   "cell_type": "code",
   "execution_count": 111,
   "metadata": {},
   "outputs": [
    {
     "name": "stdout",
     "output_type": "stream",
     "text": [
      "['eyr']\n",
      "1\n",
      "false\n",
      "['hgt', 'pid']\n",
      "2\n",
      "false\n",
      "['ecl', 'byr', 'hcl', 'iyr']\n",
      "4\n",
      "false\n",
      "['pid', 'cid', 'byr', 'hgt']\n",
      "4\n",
      "false\n",
      "['ecl', 'iyr', 'eyr', 'hcl']\n",
      "4\n",
      "false\n",
      "['cid', 'iyr', 'pid', 'eyr', 'ecl', 'hcl']\n",
      "6\n",
      "false\n",
      "['hgt', 'hcl']\n",
      "2\n",
      "false\n",
      "['cid']\n",
      "1\n",
      "false\n",
      "['pid']\n",
      "1\n",
      "false\n",
      "['iyr', 'byr', 'ecl']\n",
      "3\n",
      "false\n",
      "['eyr']\n",
      "1\n",
      "false\n",
      "['pid']\n",
      "1\n",
      "false\n",
      "['iyr']\n",
      "1\n",
      "false\n",
      "['eyr', 'byr', 'ecl']\n",
      "3\n",
      "false\n",
      "['hgt']\n",
      "1\n",
      "false\n",
      "['hcl']\n",
      "1\n",
      "false\n",
      "['byr', 'eyr', 'cid', 'pid', 'hgt', 'hcl', 'iyr', 'ecl']\n",
      "8\n",
      "true\n",
      "['hcl', 'byr', 'cid', 'ecl']\n",
      "4\n",
      "false\n",
      "['iyr', 'pid', 'hgt', 'eyr']\n",
      "4\n",
      "false\n",
      "['pid', 'iyr', 'eyr', 'ecl', 'byr', 'hgt', 'hcl']\n",
      "7\n",
      "true\n",
      "['hcl', 'hgt', 'byr', 'ecl', 'eyr']\n",
      "5\n",
      "false\n",
      "['ecl', 'hgt']\n",
      "2\n",
      "false\n",
      "['pid', 'byr']\n",
      "2\n",
      "false\n",
      "['hcl', 'iyr']\n",
      "2\n",
      "false\n",
      "['eyr']\n",
      "1\n",
      "false\n",
      "['pid', 'iyr', 'hcl', 'hgt']\n",
      "4\n",
      "false\n",
      "['ecl']\n",
      "1\n",
      "false\n",
      "['byr']\n",
      "1\n",
      "false\n",
      "['iyr', 'byr', 'eyr']\n",
      "3\n",
      "false\n",
      "['hgt', 'hcl', 'pid']\n",
      "3\n",
      "false\n",
      "['cid', 'ecl', 'eyr', 'iyr']\n",
      "4\n",
      "false\n",
      "['hcl', 'byr', 'pid']\n",
      "3\n",
      "false\n",
      "['hgt']\n",
      "1\n",
      "false\n",
      "['hgt']\n",
      "1\n",
      "false\n",
      "['ecl', 'eyr', 'iyr', 'hcl', 'pid']\n",
      "5\n",
      "false\n",
      "['iyr']\n",
      "1\n",
      "false\n",
      "['hgt', 'hcl']\n",
      "2\n",
      "false\n",
      "['ecl']\n",
      "1\n",
      "false\n",
      "['cid', 'eyr', 'pid']\n",
      "3\n",
      "false\n",
      "['pid', 'ecl', 'hgt', 'cid', 'hcl', 'byr']\n",
      "6\n",
      "false\n",
      "['eyr', 'iyr']\n",
      "2\n",
      "false\n",
      "['ecl', 'hgt', 'iyr', 'pid']\n",
      "4\n",
      "false\n",
      "['byr']\n",
      "1\n",
      "false\n",
      "['eyr', 'hcl']\n",
      "2\n",
      "false\n",
      "['pid', 'eyr', 'iyr']\n",
      "3\n",
      "false\n",
      "['cid', 'byr', 'hcl', 'ecl']\n",
      "4\n",
      "false\n",
      "['ecl']\n",
      "1\n",
      "false\n",
      "['pid', 'hgt']\n",
      "2\n",
      "false\n",
      "['eyr', 'iyr', 'byr', 'cid', 'hcl']\n",
      "5\n",
      "false\n",
      "['cid', 'ecl', 'hgt', 'eyr']\n",
      "4\n",
      "false\n",
      "['iyr', 'pid', 'hcl', 'byr']\n",
      "4\n",
      "false\n",
      "['pid', 'eyr', 'iyr']\n",
      "3\n",
      "false\n",
      "['hgt', 'byr', 'hcl']\n",
      "3\n",
      "false\n",
      "['ecl']\n",
      "1\n",
      "false\n",
      "['byr', 'hgt']\n",
      "2\n",
      "false\n",
      "['iyr']\n",
      "1\n",
      "false\n",
      "['eyr', 'pid', 'ecl']\n",
      "3\n",
      "false\n",
      "['hgt', 'iyr', 'pid', 'eyr', 'ecl', 'byr']\n",
      "6\n",
      "false\n",
      "['hcl']\n",
      "1\n",
      "false\n",
      "['hgt']\n",
      "1\n",
      "false\n",
      "['iyr', 'byr', 'hcl', 'pid']\n",
      "4\n",
      "false\n",
      "['eyr', 'ecl']\n",
      "2\n",
      "false\n",
      "['eyr', 'byr']\n",
      "2\n",
      "false\n",
      "['hcl']\n",
      "1\n",
      "false\n",
      "['iyr', 'ecl', 'cid', 'pid', 'hgt']\n",
      "5\n",
      "false\n",
      "['pid']\n",
      "1\n",
      "false\n",
      "['hgt', 'iyr', 'byr', 'eyr']\n",
      "4\n",
      "false\n",
      "['hcl', 'cid', 'ecl']\n",
      "3\n",
      "false\n",
      "['byr', 'ecl', 'iyr', 'pid', 'hgt', 'eyr', 'cid', 'hcl']\n",
      "8\n",
      "true\n",
      "['cid', 'hgt']\n",
      "2\n",
      "false\n",
      "['ecl', 'hcl', 'byr']\n",
      "3\n",
      "false\n",
      "['iyr']\n",
      "1\n",
      "false\n",
      "['eyr', 'pid']\n",
      "2\n",
      "false\n",
      "['cid']\n",
      "1\n",
      "false\n",
      "['hcl']\n",
      "1\n",
      "false\n",
      "['hgt', 'pid', 'ecl', 'iyr', 'byr', 'eyr']\n",
      "6\n",
      "false\n",
      "['eyr']\n",
      "1\n",
      "false\n",
      "['pid']\n",
      "1\n",
      "false\n",
      "['hgt']\n",
      "1\n",
      "false\n",
      "['byr', 'hcl', 'iyr', 'ecl']\n",
      "4\n",
      "false\n",
      "['ecl', 'iyr', 'hcl', 'hgt']\n",
      "4\n",
      "false\n",
      "['eyr', 'pid']\n",
      "2\n",
      "false\n",
      "['iyr', 'eyr', 'byr', 'pid', 'ecl', 'hcl', 'hgt']\n",
      "7\n",
      "true\n",
      "['iyr']\n",
      "1\n",
      "false\n",
      "['eyr', 'pid', 'cid']\n",
      "3\n",
      "false\n",
      "['hcl', 'byr', 'ecl']\n",
      "3\n",
      "false\n",
      "['ecl', 'pid', 'hcl']\n",
      "3\n",
      "false\n",
      "['byr', 'cid', 'eyr', 'iyr', 'hgt']\n",
      "5\n",
      "false\n",
      "['hcl', 'cid', 'eyr', 'hgt', 'iyr']\n",
      "5\n",
      "false\n",
      "['byr', 'pid', 'ecl']\n",
      "3\n",
      "false\n",
      "['ecl', 'hgt', 'eyr', 'pid', 'byr', 'cid', 'hcl']\n",
      "7\n",
      "false\n",
      "['pid']\n",
      "1\n",
      "false\n",
      "['hcl', 'hgt', 'iyr', 'cid', 'eyr', 'byr']\n",
      "6\n",
      "false\n",
      "['ecl']\n",
      "1\n",
      "false\n",
      "['byr']\n",
      "1\n",
      "false\n",
      "['eyr']\n",
      "1\n",
      "false\n",
      "['hgt']\n",
      "1\n",
      "false\n",
      "['pid', 'ecl']\n",
      "2\n",
      "false\n",
      "['iyr', 'hcl']\n",
      "2\n",
      "false\n",
      "['byr', 'hgt']\n",
      "2\n",
      "false\n"
     ]
    }
   ],
   "source": [
    "for entry in range(0,100):\n",
    "    a = ooh[entry].split(\" \")\n",
    "    for item in range(0, len(a)):\n",
    "        a[item] = a[item][0:3]\n",
    "    print(a)\n",
    "    print(len(a))\n",
    "    if len(a) == 8 or (len(a) == 7 and \"cid\" not in a):\n",
    "        print(\"true\")\n",
    "        valid.append(1)\n",
    "    else:\n",
    "        print(\"false\")\n",
    "        valid.append(0)    "
   ]
  },
  {
   "cell_type": "code",
   "execution_count": 113,
   "metadata": {},
   "outputs": [
    {
     "data": {
      "text/plain": [
       "1"
      ]
     },
     "execution_count": 113,
     "metadata": {},
     "output_type": "execute_result"
    }
   ],
   "source": [
    "valid[16]"
   ]
  },
  {
   "cell_type": "code",
   "execution_count": 114,
   "metadata": {},
   "outputs": [
    {
     "data": {
      "text/plain": [
       "4"
      ]
     },
     "execution_count": 114,
     "metadata": {},
     "output_type": "execute_result"
    }
   ],
   "source": [
    "sum(valid)"
   ]
  },
  {
   "cell_type": "code",
   "execution_count": 115,
   "metadata": {},
   "outputs": [
    {
     "data": {
      "text/plain": [
       "100"
      ]
     },
     "execution_count": 115,
     "metadata": {},
     "output_type": "execute_result"
    }
   ],
   "source": [
    "len(valid)"
   ]
  },
  {
   "cell_type": "code",
   "execution_count": null,
   "metadata": {},
   "outputs": [],
   "source": []
  },
  {
   "cell_type": "code",
   "execution_count": null,
   "metadata": {},
   "outputs": [],
   "source": []
  }
 ],
 "metadata": {
  "kernelspec": {
   "display_name": "Python 3",
   "language": "python",
   "name": "python3"
  },
  "language_info": {
   "codemirror_mode": {
    "name": "ipython",
    "version": 3
   },
   "file_extension": ".py",
   "mimetype": "text/x-python",
   "name": "python",
   "nbconvert_exporter": "python",
   "pygments_lexer": "ipython3",
   "version": "3.7.2"
  }
 },
 "nbformat": 4,
 "nbformat_minor": 2
}
