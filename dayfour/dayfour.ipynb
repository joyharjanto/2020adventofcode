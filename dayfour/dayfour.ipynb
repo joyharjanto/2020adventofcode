{
 "cells": [
  {
   "cell_type": "markdown",
   "metadata": {},
   "source": [
    "## day four: 1/2"
   ]
  },
  {
   "cell_type": "code",
   "execution_count": 370,
   "metadata": {},
   "outputs": [],
   "source": [
    "inputfile = open('dayfour.csv', 'r')\n",
    "data = [x.strip() for x in inputfile.readlines()]"
   ]
  },
  {
   "cell_type": "code",
   "execution_count": 223,
   "metadata": {},
   "outputs": [],
   "source": [
    "import pandas"
   ]
  },
  {
   "cell_type": "code",
   "execution_count": 224,
   "metadata": {},
   "outputs": [
    {
     "name": "stdout",
     "output_type": "stream",
     "text": [
      "[]\n"
     ]
    }
   ],
   "source": [
    "item = []\n",
    "print(item)"
   ]
  },
  {
   "cell_type": "code",
   "execution_count": 225,
   "metadata": {},
   "outputs": [
    {
     "name": "stdout",
     "output_type": "stream",
     "text": [
      "eyr:2033\n",
      "hgt:177cm pid:173cm\n",
      "ecl:utc byr:2029 hcl:#efcc98 iyr:2023\n"
     ]
    }
   ],
   "source": [
    "print(data[0])\n",
    "print(data[1])\n",
    "print(data[2])"
   ]
  },
  {
   "cell_type": "code",
   "execution_count": 226,
   "metadata": {},
   "outputs": [
    {
     "name": "stdout",
     "output_type": "stream",
     "text": [
      "eyr:2033 hgt:177cm pid:173cm ecl:utc byr:2029 hcl:#efcc98 iyr:2023 \n"
     ]
    }
   ],
   "source": [
    "item = data[0] + \" \" \n",
    "item += data[1] + \" \" \n",
    "item += data[2] + \" \"\n",
    "\n",
    "print(item)"
   ]
  },
  {
   "cell_type": "code",
   "execution_count": 227,
   "metadata": {},
   "outputs": [
    {
     "data": {
      "text/plain": [
       "1104"
      ]
     },
     "execution_count": 227,
     "metadata": {},
     "output_type": "execute_result"
    }
   ],
   "source": [
    "len(data)"
   ]
  },
  {
   "cell_type": "code",
   "execution_count": 228,
   "metadata": {},
   "outputs": [
    {
     "name": "stdout",
     "output_type": "stream",
     "text": [
      "eyr:2033\n"
     ]
    }
   ],
   "source": [
    "print(data[0])"
   ]
  },
  {
   "cell_type": "code",
   "execution_count": 229,
   "metadata": {},
   "outputs": [
    {
     "name": "stdout",
     "output_type": "stream",
     "text": [
      "False\n"
     ]
    }
   ],
   "source": [
    "print(data[2]==\"\")"
   ]
  },
  {
   "cell_type": "code",
   "execution_count": 230,
   "metadata": {},
   "outputs": [],
   "source": [
    "fact = True\n",
    "result = []\n",
    "item = \"\"\n",
    "\n",
    "for j in range(0, len(data)):\n",
    "    if data[j] == \"\":\n",
    "        result.append(item)\n",
    "        item = \"\"\n",
    "    else:\n",
    "        item += data[j] + \" \"\n",
    "    if j == len(data)-1:\n",
    "        result.append(item)\n",
    "    \n"
   ]
  },
  {
   "cell_type": "code",
   "execution_count": 231,
   "metadata": {},
   "outputs": [
    {
     "data": {
      "text/plain": [
       "287"
      ]
     },
     "execution_count": 231,
     "metadata": {},
     "output_type": "execute_result"
    }
   ],
   "source": [
    "len(result)"
   ]
  },
  {
   "cell_type": "code",
   "execution_count": 232,
   "metadata": {},
   "outputs": [],
   "source": [
    "ooh = result"
   ]
  },
  {
   "cell_type": "code",
   "execution_count": 233,
   "metadata": {},
   "outputs": [
    {
     "data": {
      "text/plain": [
       "287"
      ]
     },
     "execution_count": 233,
     "metadata": {},
     "output_type": "execute_result"
    }
   ],
   "source": [
    "len(result)"
   ]
  },
  {
   "cell_type": "code",
   "execution_count": 234,
   "metadata": {},
   "outputs": [
    {
     "data": {
      "text/plain": [
       "'hgt:173cm hcl:#341e13 cid:341 pid:112086592 iyr:2012 byr:2011 ecl:amb eyr:2030 '"
      ]
     },
     "execution_count": 234,
     "metadata": {},
     "output_type": "execute_result"
    }
   ],
   "source": [
    "ooh[3]"
   ]
  },
  {
   "cell_type": "code",
   "execution_count": 235,
   "metadata": {},
   "outputs": [],
   "source": [
    "valid = []\n",
    "\n",
    "for entry in range(0,len(result)):\n",
    "    a = result[entry].strip().split(\" \")\n",
    "    for item in range(0, len(a)):\n",
    "        a[item] = a[item][0:3]\n",
    "    if len(a) == 8 or (len(a) == 7 and \"cid\" not in a):\n",
    "        valid.append(1)\n",
    "    else:\n",
    "        valid.append(0)        "
   ]
  },
  {
   "cell_type": "code",
   "execution_count": 236,
   "metadata": {},
   "outputs": [
    {
     "data": {
      "text/plain": [
       "219"
      ]
     },
     "execution_count": 236,
     "metadata": {},
     "output_type": "execute_result"
    }
   ],
   "source": [
    "sum(valid)"
   ]
  },
  {
   "cell_type": "code",
   "execution_count": 237,
   "metadata": {},
   "outputs": [
    {
     "data": {
      "text/plain": [
       "['eyr:2033 hgt:177cm pid:173cm ecl:utc byr:2029 hcl:#efcc98 iyr:2023 ',\n",
       " 'pid:337605855 cid:249 byr:1952 hgt:155cm ecl:grn iyr:2017 eyr:2026 hcl:#866857 ',\n",
       " 'cid:242 iyr:2011 pid:953198122 eyr:2029 ecl:blu hcl:#888785 ',\n",
       " 'hgt:173cm hcl:#341e13 cid:341 pid:112086592 iyr:2012 byr:2011 ecl:amb eyr:2030 ',\n",
       " 'pid:790332032 iyr:2019 eyr:2023 byr:1969 ecl:brn hgt:163cm hcl:#623a2f ',\n",
       " 'byr:1920 eyr:2023 cid:146 pid:890112986 hgt:171cm hcl:#b6652a iyr:2017 ecl:hzl ',\n",
       " 'hcl:#c0946f byr:1967 cid:199 ecl:gry iyr:2012 pid:987409259 hgt:157cm eyr:2021 ',\n",
       " 'pid:316587303 iyr:2016 eyr:2023 ecl:blu byr:1959 hgt:186cm hcl:#733820 ',\n",
       " 'hcl:#fffffd hgt:152cm byr:1996 ecl:gry eyr:2024 ',\n",
       " 'ecl:brn hgt:185cm pid:648491325 byr:1967 hcl:#172f67 iyr:2014 eyr:2028 ',\n",
       " 'pid:328737320 iyr:2017 hcl:#fffffd hgt:178 ecl:#35fad5 byr:1959 ',\n",
       " 'iyr:2010 byr:1943 eyr:2028 hgt:178cm hcl:#888785 pid:572750267 ',\n",
       " 'cid:175 ecl:brn eyr:2026 iyr:2017 hcl:#5d69b9 byr:1998 pid:289515215 hgt:151cm ',\n",
       " 'hgt:182cm ecl:blu eyr:2028 iyr:2011 hcl:#a97842 pid:758494126 ',\n",
       " 'iyr:2023 hgt:174cm hcl:cafc2f ecl:utc cid:299 eyr:2026 pid:57963956 ',\n",
       " 'pid:853993893 ecl:blu hgt:188cm cid:294 hcl:#341e13 byr:1975 eyr:2027 iyr:2015 ',\n",
       " 'ecl:amb hgt:70 iyr:2018 pid:241872490 byr:1962 eyr:2024 hcl:c5f0c3 ',\n",
       " 'pid:994754974 eyr:2029 iyr:2017 cid:137 byr:1966 hcl:#733820 ecl:blu ',\n",
       " 'ecl:utc pid:937481632 hgt:190 eyr:2025 iyr:2027 byr:1949 cid:84 hcl:d3f4f5 ',\n",
       " 'cid:129 ecl:brn hgt:91 eyr:1932 iyr:2020 pid:298540404 hcl:#888785 byr:1986 ',\n",
       " 'pid:416051368 eyr:2020 iyr:2011 hgt:93 byr:2023 hcl:#efcc98 ecl:amb ',\n",
       " 'byr:2010 hgt:181cm iyr:2020 eyr:2040 pid:785862801 ecl:#f84ccd ',\n",
       " 'hgt:152cm iyr:2013 pid:932020343 eyr:2023 ecl:hzl byr:1920 hcl:#fffffd ',\n",
       " 'hgt:152cm iyr:2020 byr:1993 hcl:#18171d pid:120354938 eyr:2021 ecl:gry ',\n",
       " 'eyr:2025 byr:1996 hcl:#623a2f iyr:2018 ecl:oth cid:177 pid:904738945 hgt:164cm ',\n",
       " 'pid:45042993 hgt:193 iyr:2018 byr:2026 eyr:2026 hcl:#623a2f cid:175 ecl:brn ',\n",
       " 'byr:1956 ecl:hzl iyr:2020 pid:892810672 hgt:164cm eyr:2021 cid:186 hcl:#efcc98 ',\n",
       " 'cid:314 hgt:180cm ecl:amb hcl:#602927 byr:2027 iyr:1958 eyr:2020 pid:#b2b732 ',\n",
       " 'cid:50 hcl:#a97842 hgt:155cm pid:667716485 ecl:gry iyr:2014 byr:1995 eyr:2029 ',\n",
       " 'eyr:2030 pid:783631610 hgt:74 byr:2014 hcl:z iyr:2003 ecl:grt ',\n",
       " 'ecl:#d4d852 iyr:2029 hcl:z hgt:185in eyr:2034 pid:#526166 ',\n",
       " 'iyr:1946 eyr:1957 byr:1941 pid:632690435 ecl:oth hcl:18a37c hgt:59cm ',\n",
       " 'iyr:2013 eyr:2026 pid:002380966 cid:95 hcl:#623a2f byr:1965 ecl:oth ',\n",
       " 'ecl:gry pid:479214778 hcl:#18171d byr:1928 cid:98 eyr:2020 iyr:2019 hgt:163cm ',\n",
       " 'hcl:#bd0f54 cid:225 eyr:2024 hgt:153cm iyr:2020 byr:1956 pid:048565668 ecl:hzl ',\n",
       " 'ecl:#5d8b3b hgt:156cm eyr:2029 pid:#3df0cc byr:1967 cid:118 hcl:e23f0f ',\n",
       " 'pid:437721309 hcl:#cfa07d hgt:181cm iyr:2019 cid:224 eyr:2028 byr:1946 ecl:gry ',\n",
       " 'byr:1962 eyr:2023 hgt:182cm pid:733248003 ecl:blu iyr:2014 hcl:#efcc98 ',\n",
       " 'byr:1966 hgt:158cm eyr:2029 hcl:#602927 iyr:2013 pid:963663665 ',\n",
       " 'pid:529595074 byr:1940 eyr:2020 hcl:#c0946f cid:113 iyr:2015 ecl:oth hgt:191cm ',\n",
       " 'ecl:hzl hcl:#a97842 hgt:157cm eyr:2025 iyr:2015 byr:1978 pid:579525362 ',\n",
       " 'ecl:oth hcl:#18171d cid:76 iyr:2011 eyr:2021 byr:1953 hgt:173cm pid:976483712 ',\n",
       " 'ecl:brn hcl:#fffffd cid:242 pid:588299934 hgt:69in byr:1947 iyr:2010 eyr:2030 ',\n",
       " 'hcl:#fffffd ecl:gry cid:93 pid:731904973 byr:1939 eyr:2029 iyr:2016 ',\n",
       " 'pid:96716037 iyr:1938 eyr:2032 hgt:192 ecl:gmt byr:2029 hcl:02edc5 ',\n",
       " 'byr:1958 iyr:2011 eyr:2029 ecl:gry pid:526931024 hcl:z hgt:59cm ',\n",
       " 'byr:1966 ecl:hzl pid:378066668 hcl:#c0946f iyr:2017 eyr:2026 cid:142 hgt:184cm ',\n",
       " 'pid:1134356373 iyr:2019 ecl:grn hcl:#ceb3a1 byr:1950 hgt:154in ',\n",
       " 'hgt:157cm ecl:zzz byr:1976 pid:5047305958 iyr:2013 hcl:#341e13 ',\n",
       " 'eyr:2024 hcl:#a97842 hgt:179cm pid:543943316 cid:214 ecl:brn byr:1999 iyr:2017 ',\n",
       " 'byr:1983 eyr:2024 hgt:177cm ecl:hzl iyr:2013 pid:328883228 hcl:#ceb3a1 ',\n",
       " 'cid:226 pid:262286178 iyr:2010 ecl:grn byr:1962 eyr:2025 hcl:#efcc98 hgt:60in ',\n",
       " 'iyr:2029 ecl:#559ffe hcl:z cid:156 byr:2003 hgt:178 pid:93994500 ',\n",
       " 'iyr:2026 hcl:#eda7f3 ecl:amb byr:1921 eyr:2021 pid:153cm ',\n",
       " 'byr:1988 ecl:amb hgt:178cm hcl:#2aea45 pid:70722502 eyr:2027 iyr:2015 ',\n",
       " 'pid:555636800 eyr:2020 hgt:182cm iyr:2019 byr:1948 cid:325 hcl:#733820 ',\n",
       " 'eyr:1973 iyr:2024 hcl:z byr:2028 ecl:dne cid:169 pid:43596015 hgt:170in ',\n",
       " 'hcl:#b6652a ecl:gry cid:264 hgt:178cm iyr:2027 pid:23042405 byr:1947 eyr:2024 ',\n",
       " 'byr:1989 pid:266274644 ecl:blu eyr:2023 hcl:#733820 hgt:192cm iyr:2018 cid:272 ',\n",
       " 'iyr:2013 hcl:z hgt:73cm byr:2014 pid:192cm ecl:#1627a7 ',\n",
       " 'pid:816749378 hgt:178cm hcl:#733820 eyr:2029 byr:1993 ',\n",
       " 'hcl:0cacc5 byr:1944 iyr:2028 eyr:2024 hgt:163in pid:74169361 ecl:dne ',\n",
       " 'hcl:#ceb3a1 ecl:grn eyr:2027 pid:481186415 hgt:176cm cid:325 byr:1986 ',\n",
       " 'eyr:2028 hgt:174cm ecl:brn hcl:#888785 iyr:2015 pid:064161451 byr:1969 ',\n",
       " 'ecl:brn cid:323 hgt:167 byr:1993 iyr:1953 hcl:z eyr:2023 pid:161542750 ',\n",
       " 'ecl:#895336 eyr:2033 hgt:67cm cid:254 iyr:1967 hcl:z byr:1954 ',\n",
       " 'ecl:#9dbea3 iyr:2018 eyr:2035 hgt:183 pid:747501524 hcl:#fd8515 cid:110 byr:1997 ',\n",
       " 'ecl:utc iyr:2014 hgt:183in byr:2007 eyr:2026 hcl:#cfa07d cid:334 ',\n",
       " 'ecl:gry hcl:#b6652a pid:250420128 eyr:2024 byr:1939 hgt:170cm ',\n",
       " 'hcl:#18171d eyr:2030 byr:1925 pid:204206116 iyr:2014 hgt:174cm ecl:hzl ',\n",
       " 'iyr:2020 hcl:#efcc98 pid:393444692 ecl:oth hgt:152cm byr:1957 eyr:2021 ',\n",
       " 'byr:1973 eyr:2024 iyr:2014 hcl:#602927 pid:832320186 hgt:166cm ecl:grn ',\n",
       " 'pid:192524664 hgt:182cm hcl:#18171d ecl:oth eyr:2030 byr:1942 iyr:2013 ',\n",
       " 'hgt:129 byr:2016 hcl:6734a1 ecl:#915282 iyr:1949 cid:130 pid:677408864 eyr:2030 ',\n",
       " 'eyr:2028 ecl:gry hgt:171cm byr:1960 iyr:2020 pid:688526729 cid:262 hcl:#733820 ',\n",
       " 'ecl:grn iyr:2019 pid:775867641 hcl:#bf1e29 byr:1920 hgt:163cm ',\n",
       " 'eyr:2029 hcl:#866857 iyr:2024 pid:170cm byr:1931 hgt:177cm ecl:hzl cid:312 ',\n",
       " 'iyr:2019 ecl:#19fef5 pid:2080468234 eyr:2008 hgt:72 hcl:e14dfe byr:1980 cid:272 ',\n",
       " 'byr:2025 cid:163 iyr:2020 pid:758946748 hgt:161cm ecl:amb eyr:2023 hcl:026d4d ',\n",
       " 'iyr:2021 cid:109 eyr:2032 byr:2010 hcl:#fffffd pid:874586711 ecl:hzl hgt:142 ',\n",
       " 'eyr:2023 hcl:z iyr:2019 byr:2013 ecl:#b42611 pid:164cm hgt:60cm ',\n",
       " 'byr:1935 cid:226 hcl:#602927 ecl:blu pid:700452129 eyr:2029 iyr:2016 hgt:180cm ',\n",
       " 'hgt:179cm pid:181cm ecl:gry cid:309 eyr:2029 hcl:#6b5442 byr:1987 iyr:2010 ',\n",
       " 'ecl:gry byr:1986 hcl:#cce4b8 pid:101583943 iyr:2010 hgt:65cm eyr:2021 ',\n",
       " 'cid:168 pid:#8556c9 hcl:413944 eyr:2036 byr:2013 iyr:2012 ecl:#66dc1c hgt:59cm ',\n",
       " 'eyr:1984 byr:2017 pid:#cbc84e hcl:z cid:189 iyr:2021 ecl:blu hgt:152cm ',\n",
       " 'byr:1993 hcl:#004c11 eyr:2026 iyr:2010 ecl:brn hgt:188cm pid:889959941 ',\n",
       " 'hgt:172 byr:2008 eyr:2030 iyr:1959 ecl:oth hcl:#a8ebbb ',\n",
       " 'iyr:2013 hcl:#8f97b1 hgt:182cm ecl:grn cid:89 eyr:2029 byr:1974 ',\n",
       " 'eyr:2025 hcl:#6b5442 pid:222418968 byr:1951 cid:105 ecl:hzl iyr:2011 hgt:181cm ',\n",
       " 'iyr:2017 ecl:brn pid:481721303 hgt:190cm eyr:2037 byr:1990 hcl:#ceb3a1 ',\n",
       " 'hcl:z pid:85905429 byr:1923 cid:260 eyr:2031 ecl:gry iyr:2022 hgt:180cm ',\n",
       " 'hcl:#fffffd hgt:76cm ecl:grn pid:39254112 byr:2010 iyr:1961 eyr:2028 ',\n",
       " 'ecl:brn iyr:2016 eyr:2027 hcl:#efcc98 pid:753268957 hgt:60in byr:1943 ',\n",
       " 'ecl:oth pid:087762106 hgt:190cm byr:1974 cid:171 hcl:#c63f21 eyr:2020 ',\n",
       " 'ecl:#8c1b6c byr:1962 iyr:2007 pid:106672731 hgt:172in cid:239 eyr:2026 hcl:#b6652a ',\n",
       " 'hgt:170cm eyr:2021 cid:219 hcl:#a97842 pid:040224991 byr:1950 iyr:2018 ',\n",
       " 'byr:2029 eyr:2036 cid:309 iyr:2016 hgt:167cm hcl:#fffffd ecl:#1ab23b ',\n",
       " 'iyr:2013 ecl:gry eyr:2020 pid:947828194 hcl:#18171d hgt:163cm byr:1971 ',\n",
       " 'hcl:#fffffd iyr:2011 pid:150105713 eyr:2029 hgt:168cm byr:1925 ecl:hzl ',\n",
       " 'cid:253 hcl:#341e13 eyr:2025 hgt:184cm pid:651786830 byr:1936 iyr:2013 ecl:hzl ',\n",
       " 'pid:7328393469 hgt:175cm ecl:gry iyr:2012 byr:1963 hcl:#623a2f eyr:2026 ',\n",
       " 'eyr:2029 pid:669044398 hgt:161cm hcl:#cfa07d ecl:gry iyr:2018 ',\n",
       " 'pid:920006222 byr:1941 ecl:grn eyr:2027 cid:87 hcl:#733820 iyr:2018 hgt:171cm ',\n",
       " 'byr:1964 hgt:157cm hcl:#a97842 pid:756972774 eyr:2024 iyr:2013 ecl:gry ',\n",
       " 'iyr:2010 cid:279 hgt:189cm byr:1959 ecl:brn eyr:2022 pid:937686753 hcl:#602927 ',\n",
       " 'iyr:2013 eyr:2027 cid:223 pid:145547438 hcl:#6e6f47 hgt:165cm ecl:amb ',\n",
       " 'byr:2009 ecl:oth hcl:#623a2f hgt:166cm eyr:2034 pid:120339592 iyr:2012 ',\n",
       " 'eyr:2026 hcl:z byr:2018 pid:7809314464 iyr:2012 hgt:158cm ecl:hzl ',\n",
       " 'cid:291 hgt:168 ecl:#7734de iyr:2021 hcl:5b4ef1 pid:3381158334 eyr:1956 byr:2003 ',\n",
       " 'iyr:2015 hcl:#cfa07d byr:1971 eyr:2023 ecl:oth pid:560419063 cid:155 hgt:170cm ',\n",
       " 'eyr:2021 hgt:189cm iyr:2014 hcl:#6b5442 ecl:brn cid:287 byr:1951 pid:936881112 ',\n",
       " 'iyr:2013 eyr:2020 ecl:hzl hgt:150cm cid:210 pid:032458640 byr:1920 hcl:#6b5442 ',\n",
       " 'hgt:180cm hcl:#cfa07d ecl:grn eyr:2027 pid:140859202 iyr:2014 cid:232 byr:1932 ',\n",
       " 'pid:68300657 byr:1988 hgt:181cm ecl:hzl iyr:1951 hcl:e18469 eyr:2013 ',\n",
       " 'pid:157572693 hgt:185cm hcl:#065fe8 ecl:gry eyr:2027 iyr:2014 ',\n",
       " 'eyr:2029 hgt:164cm hcl:z ecl:grn cid:270 iyr:2019 byr:1993 pid:338068138 ',\n",
       " 'iyr:2016 cid:131 byr:1990 hcl:#7d3b0c ecl:grn pid:066023454 hgt:154cm eyr:2025 ',\n",
       " 'iyr:2019 eyr:2024 hgt:174cm pid:855792798 byr:1920 hcl:#cfa07d ',\n",
       " 'eyr:2020 hgt:74in iyr:2013 ecl:amb byr:1920 hcl:3f6214 pid:957164804 ',\n",
       " 'pid:756767000 hcl:#220540 byr:1922 hgt:172cm eyr:2023 cid:305 ecl:hzl iyr:2019 ',\n",
       " 'hgt:193in eyr:2025 pid:117240526 iyr:2017 hcl:#888785 byr:1928 ecl:blu ',\n",
       " 'byr:1942 ecl:blu cid:347 hcl:#fffffd eyr:2023 iyr:2017 hgt:154cm pid:836554235 ',\n",
       " 'eyr:2023 hcl:#efcc98 pid:364475403 byr:1962 iyr:2015 ecl:brn hgt:59in cid:289 ',\n",
       " 'byr:2021 hcl:ca4bcf hgt:88 iyr:2017 ecl:gmt pid:181cm eyr:2032 ',\n",
       " 'byr:1937 iyr:2014 hgt:154cm ecl:brn hcl:#866857 eyr:2022 pid:234591437 ',\n",
       " 'iyr:2002 cid:139 byr:1982 hcl:#c0946f pid:#62721b hgt:159in eyr:1966 ecl:brn ',\n",
       " 'eyr:2036 ecl:oth byr:2026 hgt:96 pid:137651094 hcl:z ',\n",
       " 'pid:373485985 iyr:2030 ecl:gry byr:2011 hgt:65cm hcl:#733820 ',\n",
       " 'pid:390979357 ecl:gry hgt:164cm hcl:#ceb3a1 eyr:2029 byr:1932 iyr:2015 ',\n",
       " 'ecl:hzl hgt:68in eyr:2023 pid:829734763 iyr:2016 hcl:#733820 byr:1997 ',\n",
       " 'hgt:150cm byr:1926 iyr:2019 pid:521908229 eyr:2029 ecl:brn hcl:#623a2f ',\n",
       " 'eyr:2023 byr:1974 iyr:2018 cid:58 ecl:grn pid:310883188 hcl:#866857 hgt:164cm ',\n",
       " 'byr:1963 iyr:2019 hgt:162cm eyr:2021 hcl:#fffffd ecl:oth pid:104734523 ',\n",
       " 'hcl:#888785 cid:150 eyr:2020 byr:1988 iyr:2018 ecl:oth hgt:179cm pid:635972018 ',\n",
       " 'iyr:2014 hcl:#7d3b0c ecl:hzl pid:717760687 byr:1929 eyr:2027 hgt:183cm ',\n",
       " 'iyr:2019 byr:2000 eyr:2025 pid:506581828 hcl:#602927 ecl:oth hgt:162cm ',\n",
       " 'pid:#fd3377 ecl:#618bce hcl:#ceb3a1 iyr:1944 hgt:182cm cid:57 byr:2022 eyr:1995 ',\n",
       " 'pid:4790730010 hgt:192cm cid:222 byr:2022 hcl:4798e7 ecl:#5126d5 iyr:1954 eyr:2040 ',\n",
       " 'hcl:#b6652a ecl:brn cid:181 pid:983890186 hgt:189cm byr:1998 eyr:2022 iyr:2011 ',\n",
       " 'iyr:2018 eyr:2022 cid:58 byr:1994 hgt:169cm ecl:hzl pid:036522894 hcl:#2c9ee8 ',\n",
       " 'iyr:1979 hcl:e09b9c byr:2016 hgt:121 eyr:1962 pid:#fb14be cid:265 ecl:lzr ',\n",
       " 'eyr:2024 hgt:63in hcl:#efcc98 iyr:2018 byr:1953 pid:881102827 ecl:amb ',\n",
       " 'ecl:oth hgt:177cm eyr:2028 iyr:2011 hcl:#efcc98 pid:113579849 byr:1957 ',\n",
       " 'ecl:#fe1b74 iyr:1926 hgt:70cm pid:70807766 hcl:556dca byr:2030 eyr:2032 ',\n",
       " 'byr:1997 ecl:blu hgt:105 pid:178655906 iyr:2025 hcl:#6b5442 eyr:2021 ',\n",
       " 'eyr:2030 ecl:grt hgt:161cm hcl:#ceb3a1 iyr:2016 pid:318930966 cid:59 byr:1924 ',\n",
       " 'cid:200 hgt:67in pid:229395752 byr:1936 ecl:oth iyr:2013 eyr:2020 hcl:#c0946f ',\n",
       " 'byr:1990 iyr:2018 cid:99 hcl:#6b5442 hgt:155 pid:350832537 ecl:blu eyr:2021 ',\n",
       " 'eyr:2039 byr:2025 pid:247367429 hcl:z iyr:2013 ecl:amb cid:118 ',\n",
       " 'eyr:2027 hcl:z ecl:utc cid:274 hgt:175in iyr:2016 byr:1977 pid:478855994 ',\n",
       " 'eyr:2020 pid:636743032 hcl:#64a8b8 iyr:2018 ecl:grn hgt:68in byr:1969 ',\n",
       " 'pid:515635081 iyr:2013 byr:1980 eyr:2024 hgt:173cm ecl:gry hcl:#b6652a ',\n",
       " 'ecl:utc byr:2026 iyr:1999 eyr:1937 hgt:66cm hcl:z pid:2247643960 ',\n",
       " 'iyr:2013 byr:1942 hgt:154cm eyr:2020 hcl:#18171d cid:323 pid:302753381 ecl:oth ',\n",
       " 'ecl:xry pid:346719476 iyr:1999 eyr:2020 hgt:154cm hcl:z byr:2027 ',\n",
       " 'hgt:160cm eyr:2025 hcl:#fffffd byr:1998 pid:678119271 ecl:blu iyr:2014 ',\n",
       " 'hgt:161cm iyr:2011 ecl:blu byr:1921 pid:236833613 eyr:2021 hcl:#623a2f ',\n",
       " 'ecl:hzl hcl:#18171d hgt:151cm pid:541887993 byr:1995 iyr:2019 eyr:2021 ',\n",
       " 'pid:496474711 byr:1966 ecl:gry eyr:2025 hgt:176cm hcl:#b6652a iyr:2018 ',\n",
       " 'iyr:2010 hcl:#efcc98 pid:351846405 eyr:2024 hgt:150cm byr:1941 ',\n",
       " 'hgt:151cm ecl:gry hcl:#a97842 pid:586789406 eyr:2022 iyr:2013 byr:1982 ',\n",
       " 'byr:1994 eyr:2028 ecl:gry hcl:#888785 iyr:2010 hgt:165cm cid:183 ',\n",
       " 'iyr:2015 byr:1933 hcl:#733820 hgt:167cm ecl:blu pid:914665208 eyr:2027 ',\n",
       " 'eyr:2031 hcl:6804ef ecl:amb byr:2024 hgt:157cm iyr:1938 pid:#0418fb ',\n",
       " 'byr:1936 ecl:oth hgt:190cm cid:91 pid:711544430 iyr:2020 eyr:2025 hcl:#888785 ',\n",
       " 'pid:381452527 eyr:2027 hcl:#efcc98 ecl:brn byr:1956 hgt:63in ',\n",
       " 'ecl:oth iyr:2014 hcl:#ceb3a1 cid:254 pid:544612871 byr:1985 eyr:2023 hgt:172cm ',\n",
       " 'hcl:#efcc98 hgt:191cm byr:1948 ecl:blu eyr:2028 pid:953894279 iyr:2017 ',\n",
       " 'byr:1968 pid:875469219 hcl:#efcc98 hgt:176cm cid:141 iyr:2017 ',\n",
       " 'eyr:2022 hcl:#733820 ecl:hzl pid:870733357 iyr:2013 byr:1949 hgt:150cm cid:252 ',\n",
       " 'ecl:gry hcl:#602927 pid:632246684 byr:1986 eyr:2030 hgt:152cm iyr:2013 ',\n",
       " 'eyr:2029 iyr:2016 byr:1969 pid:595125675 ecl:gry hcl:#cfa07d hgt:184cm ',\n",
       " 'byr:1947 hcl:z cid:188 eyr:2038 pid:177cm iyr:2011 hgt:166cm ecl:#c1376b ',\n",
       " 'ecl:hzl hgt:170cm cid:307 eyr:2022 byr:1971 hcl:#b6652a pid:047040501 ',\n",
       " 'hgt:126 ecl:zzz byr:2019 pid:170207910 eyr:2035 hcl:23df48 iyr:1932 ',\n",
       " 'hgt:152cm cid:270 eyr:2036 ecl:#408f6e iyr:1952 pid:5808880830 byr:2022 hcl:0b1ba6 ',\n",
       " 'eyr:2021 hgt:179cm byr:1938 pid:140937061 iyr:2030 hcl:#a97842 ecl:oth ',\n",
       " 'hgt:67cm eyr:2028 pid:816355657 iyr:2019 byr:2008 hcl:z ecl:#5b4f31 ',\n",
       " 'cid:192 iyr:2018 eyr:2020 byr:1983 pid:873720366 ecl:grn hgt:187cm hcl:#6b5442 ',\n",
       " 'byr:1955 hgt:71in iyr:2018 pid:320019385 hcl:#6b5442 cid:324 eyr:2027 ',\n",
       " 'pid:957860464 hcl:#602927 iyr:2011 byr:2026 cid:261 eyr:2006 ',\n",
       " 'byr:1989 ecl:gry cid:143 pid:258434299 eyr:2027 hgt:192cm iyr:2017 hcl:#7d3b0c ',\n",
       " 'pid:#1742ae ecl:#a61090 iyr:2028 hcl:717dd0 hgt:139 cid:183 eyr:2035 ',\n",
       " 'eyr:2028 pid:039325804 hgt:167cm hcl:#888785 ecl:oth cid:155 iyr:2013 byr:1923 ',\n",
       " 'byr:1956 iyr:2010 hcl:#d683bf eyr:2023 hgt:70in cid:197 pid:143320690 ecl:hzl ',\n",
       " 'ecl:#4004e3 cid:278 iyr:1950 pid:745107377 byr:2007 eyr:2036 hcl:8447eb hgt:74cm ',\n",
       " 'hcl:#ceb3a1 hgt:177cm iyr:2010 pid:640032134 ecl:gry eyr:2027 byr:1958 ',\n",
       " 'hgt:187cm iyr:1921 ecl:#1c7d96 eyr:1987 byr:2028 pid:#28e5a1 cid:144 hcl:9fc25d ',\n",
       " 'iyr:2012 byr:1996 cid:289 hgt:177cm hcl:#fffffd pid:687240168 eyr:2030 ecl:gry ',\n",
       " 'pid:860410143 ecl:dne eyr:2031 cid:206 hgt:187in byr:1927 hcl:8c2149 iyr:2012 ',\n",
       " 'iyr:2010 byr:1963 cid:139 pid:160019759 eyr:2030 hgt:172cm hcl:#602927 ',\n",
       " 'pid:309851270 iyr:2014 ecl:hzl byr:1939 cid:71 eyr:2030 hcl:#b216fb hgt:161cm ',\n",
       " 'ecl:gry cid:138 iyr:2014 hgt:177cm byr:1942 pid:900269082 eyr:2024 hcl:#fffffd ',\n",
       " 'iyr:2019 hgt:158cm hcl:#18171d pid:941939350 eyr:2024 ecl:brn byr:1944 ',\n",
       " 'byr:2023 ecl:brn cid:101 eyr:2016 pid:190078757 hgt:188in ',\n",
       " 'cid:188 ecl:blu pid:075499609 byr:1970 hcl:#fffffd hgt:164cm eyr:2028 iyr:2015 ',\n",
       " 'byr:2011 hcl:z ecl:gry pid:408316491 hgt:64cm iyr:2017 eyr:1968 ',\n",
       " 'ecl:oth hcl:#6b5442 pid:623099801 hgt:163cm byr:1928 ',\n",
       " 'pid:165230004 ecl:grn byr:1935 hcl:#c0946f iyr:2012 hgt:185cm ',\n",
       " 'hgt:162cm pid:069876432 byr:1960 cid:326 iyr:2013 hcl:#cfa07d eyr:2021 ecl:grn ',\n",
       " 'ecl:#f3d8ba hgt:182cm eyr:2020 byr:2007 hcl:z iyr:2014 pid:6141297559 ',\n",
       " 'pid:867747198 hcl:#efcc98 eyr:2030 byr:1989 hgt:181cm ',\n",
       " 'byr:2000 eyr:2021 hgt:166cm hcl:#fffffd iyr:2019 pid:546346187 cid:111 ecl:grn ',\n",
       " 'eyr:2034 hcl:#623a2f byr:1958 pid:60553207 ecl:#76b538 hgt:59 cid:75 ',\n",
       " 'hcl:#623a2f eyr:2023 pid:251940892 byr:1998 iyr:2012 hgt:181cm ecl:gry ',\n",
       " 'iyr:2020 cid:83 byr:1938 eyr:2024 ecl:amb pid:046668488 hgt:181cm hcl:#341e13 ',\n",
       " 'ecl:grn eyr:2036 iyr:1951 byr:2029 hcl:z hgt:177in pid:135470038 ',\n",
       " 'iyr:2015 eyr:2023 byr:1961 cid:81 hcl:#a97842 pid:710065884 hgt:152cm ecl:#1f9801 ',\n",
       " 'byr:2014 pid:25253929 hcl:z ecl:#f3fb41 eyr:2025 cid:255 iyr:1998 hgt:155cm ',\n",
       " 'ecl:gry pid:919070381 hcl:#efcc98 iyr:2019 eyr:2021 byr:1995 ',\n",
       " 'byr:1942 eyr:2029 hgt:191cm hcl:#18171d pid:649719423 iyr:2018 ecl:brn ',\n",
       " 'ecl:gry byr:1963 iyr:2016 hgt:188cm pid:024539026 eyr:2022 ',\n",
       " 'hgt:176cm ecl:hzl eyr:1923 pid:176188310 hcl:#b6652a byr:1939 iyr:2011 ',\n",
       " 'iyr:2011 hcl:#888785 eyr:2030 ecl:gry byr:1920 ',\n",
       " 'pid:#0468a7 hcl:851fe0 eyr:2036 hgt:60cm byr:2030 iyr:1995 ecl:utc ',\n",
       " 'hcl:#866857 iyr:2016 ecl:oth pid:414233531 eyr:2022 byr:1957 hgt:169cm cid:229 ',\n",
       " 'cid:185 ecl:#5f6f53 pid:#20f317 byr:2024 eyr:1988 hcl:z iyr:2023 hgt:158in ',\n",
       " 'pid:015894427 eyr:2027 hgt:177cm ecl:blu cid:222 hcl:#c0946f iyr:2010 byr:1993 ',\n",
       " 'cid:101 hgt:162cm hcl:#c0946f pid:666662343 ecl:grn byr:1974 iyr:2019 eyr:2029 ',\n",
       " 'pid:782547454 hcl:z ecl:#b0805f iyr:2013 eyr:2023 hgt:159cm byr:1935 cid:230 ',\n",
       " 'pid:298008321 hcl:231e1b hgt:166cm ecl:oth iyr:2026 eyr:2020 ',\n",
       " 'pid:230201309 iyr:2010 eyr:2025 hcl:#6b5442 cid:238 ecl:grn hgt:174cm ',\n",
       " 'cid:287 eyr:2026 hcl:#733820 pid:201750712 iyr:2010 ecl:oth byr:1985 hgt:185cm ',\n",
       " 'hcl:#a97842 hgt:70in eyr:2029 pid:419407059 ecl:grn byr:1987 iyr:2016 ',\n",
       " 'hgt:191cm byr:1951 eyr:2027 hcl:#8a9477 iyr:2015 ecl:amb pid:769071985 ',\n",
       " 'hcl:#6b5442 iyr:2012 ecl:blu cid:336 pid:391608810 byr:1995 eyr:2022 hgt:161cm ',\n",
       " 'iyr:2020 byr:1938 pid:927067439 eyr:2027 hgt:173cm hcl:306963 ecl:xry ',\n",
       " 'byr:1991 iyr:2021 hgt:175cm hcl:68b4f3 ecl:utc pid:037777327 eyr:2026 ',\n",
       " 'hgt:64in eyr:2025 hcl:#da6977 cid:137 byr:1990 iyr:2013 pid:918997697 ecl:amb ',\n",
       " 'iyr:2011 ecl:gry hgt:173cm eyr:2023 pid:802831612 hcl:#733820 byr:1976 ',\n",
       " 'byr:1938 eyr:2021 pid:575395401 cid:234 hcl:#866857 ecl:hzl hgt:176cm ',\n",
       " 'hcl:#ceb3a1 ecl:hzl eyr:2035 iyr:2014 byr:2019 ',\n",
       " 'ecl:hzl pid:961361236 hgt:193cm hcl:#efcc98 iyr:2011 eyr:2030 byr:1967 ',\n",
       " 'eyr:1936 ecl:blu hgt:153cm hcl:98d3f0 pid:7296832671 byr:1931 iyr:1962 ',\n",
       " 'iyr:2016 eyr:2024 hcl:#6b5442 ecl:grn pid:265815316 byr:1966 hgt:165cm ',\n",
       " 'pid:203025149 eyr:2029 iyr:2010 cid:124 byr:1999 ecl:blu ',\n",
       " 'iyr:2011 eyr:2028 pid:#7e0612 byr:1924 hcl:#7d3b0c ecl:oth hgt:82 ',\n",
       " 'ecl:hzl byr:1941 hcl:#b6652a eyr:2020 pid:409573276 iyr:1976 hgt:166cm ',\n",
       " 'ecl:grn eyr:2030 hgt:163cm iyr:2011 pid:121609314 byr:1961 hcl:#426e1a ',\n",
       " 'pid:#49ea2c eyr:2029 hcl:#6b5442 iyr:1931 hgt:62cm ecl:brn byr:2012 ',\n",
       " 'eyr:2038 hcl:8d1f49 ecl:#6d4ea1 pid:0853660207 byr:2020 hgt:71cm ',\n",
       " 'ecl:hzl hgt:170cm iyr:2011 byr:1966 eyr:2028 pid:609548717 hcl:#c0946f ',\n",
       " 'byr:1921 hcl:#c0946f ecl:blu iyr:2019 eyr:2024 pid:643387204 ',\n",
       " 'cid:324 hgt:162cm ecl:amb hcl:#18171d byr:1961 eyr:2027 iyr:2010 pid:939720354 ',\n",
       " 'byr:1933 hcl:#fffffd pid:353343882 eyr:2025 hgt:171cm ecl:amb cid:329 iyr:2017 ',\n",
       " 'byr:2004 iyr:2022 pid:157cm eyr:2035 ecl:#eafe47 hgt:129 hcl:z ',\n",
       " 'cid:55 iyr:2025 hgt:177in pid:493884348 hcl:#888785 byr:1925 ecl:#b11d27 eyr:2036 ',\n",
       " 'ecl:hzl hgt:171cm iyr:2012 pid:479669573 cid:335 hcl:#fffffd byr:1953 eyr:2029 ',\n",
       " 'byr:1930 hcl:5bdf31 pid:#b21f8a hgt:164cm cid:134 iyr:2023 ecl:lzr ',\n",
       " 'iyr:2018 eyr:2026 ecl:grn pid:541667478 hcl:#6b5442 byr:1992 hgt:155cm ',\n",
       " 'hcl:2a1c4f iyr:2011 hgt:192cm eyr:2028 byr:2029 cid:270 ecl:dne pid:7995627426 ',\n",
       " 'byr:1929 ecl:oth pid:954905104 iyr:2016 hgt:68in hcl:#7d3b0c eyr:2020 ',\n",
       " 'cid:167 byr:2000 hgt:186cm iyr:2013 hcl:#ff4019 pid:384287209 eyr:2024 ecl:amb ',\n",
       " 'eyr:2022 iyr:2018 byr:1972 cid:290 hgt:170cm ecl:grn pid:127269636 ',\n",
       " 'byr:1997 ecl:amb hgt:150cm pid:056368047 hcl:#fffffd eyr:2020 iyr:2020 ',\n",
       " 'ecl:gry hgt:167in byr:2020 cid:131 pid:651833067 hcl:#623a2f iyr:2027 eyr:2038 ',\n",
       " 'hcl:#56c370 iyr:2014 byr:1941 pid:654258425 hgt:184cm eyr:2025 ecl:hzl ',\n",
       " 'pid:571765355 byr:2021 hcl:z eyr:1921 cid:106 iyr:1978 ecl:#1162c5 hgt:184in ',\n",
       " 'iyr:2015 hcl:#18171d cid:237 pid:348578306 ecl:blu byr:1988 eyr:2025 hgt:155cm ',\n",
       " 'byr:1963 hcl:#733820 cid:145 eyr:2030 ecl:oth pid:964094037 hgt:164cm iyr:2018 ',\n",
       " 'pid:595618708 ecl:amb hcl:#866857 hgt:186cm eyr:2024 byr:1924 iyr:2014 ',\n",
       " 'ecl:hzl pid:484466493 hgt:176cm iyr:2016 byr:1983 hcl:#ceb3a1 ',\n",
       " 'ecl:gry hcl:#6b5442 hgt:185cm eyr:2029 pid:045583320 byr:1974 iyr:2020 ',\n",
       " 'ecl:brn hcl:352cf1 cid:149 hgt:184cm byr:2011 eyr:2031 pid:21942403 iyr:2028 ',\n",
       " 'ecl:brn eyr:2029 pid:083295950 byr:1995 hgt:176cm hcl:#c0946f cid:68 iyr:2014 ',\n",
       " 'hgt:170cm byr:1945 hcl:#623a2f iyr:2013 pid:912213595 ecl:gry eyr:2020 ',\n",
       " 'ecl:gry hcl:#18171d iyr:2015 hgt:185cm eyr:2023 byr:1950 ',\n",
       " 'byr:1997 hgt:68in pid:368643584 hcl:#623a2f ecl:hzl eyr:2029 iyr:2012 cid:239 ',\n",
       " 'iyr:2003 eyr:2020 cid:99 byr:2027 hcl:2c10a6 hgt:74cm ecl:brn ',\n",
       " 'pid:151cm hcl:46a5fd eyr:2031 iyr:2014 byr:2005 ecl:xry hgt:176cm ',\n",
       " 'byr:2011 ecl:oth pid:821123244 iyr:2022 hcl:839b47 eyr:2039 hgt:150in ',\n",
       " 'pid:604669618 hgt:152cm iyr:2013 byr:1954 eyr:2021 ecl:amb hcl:#623a2f ',\n",
       " 'hgt:182cm byr:1993 cid:177 hcl:#b6652a ecl:gry iyr:2011 pid:441649857 eyr:2027 ',\n",
       " 'cid:296 hgt:98 ecl:grt iyr:2028 hcl:#a97842 byr:2022 pid:69736889 eyr:1935 ',\n",
       " 'iyr:2016 hcl:#cfa07d byr:1941 hgt:182cm pid:720595987 ecl:gry eyr:2022 ',\n",
       " 'iyr:2018 hgt:164cm hcl:#650d28 byr:1973 cid:108 pid:#b0df80 ecl:blu eyr:2020 ',\n",
       " 'hcl:z pid:315901778 iyr:2013 byr:1999 ecl:#49f691 eyr:2026 hgt:179cm ',\n",
       " 'byr:1925 pid:555786686 hgt:189cm hcl:#cfa07d iyr:2012 ecl:gry eyr:2028 ',\n",
       " 'iyr:2016 hgt:168cm eyr:2027 cid:60 ecl:gry hcl:#cfa07d pid:322944081 byr:1993 ',\n",
       " 'pid:163cm hgt:189cm iyr:1997 hcl:03db25 eyr:1970 byr:2016 ecl:#6c59eb ',\n",
       " 'pid:766719295 iyr:2017 hgt:168cm hcl:z ecl:grt eyr:2022 byr:2010 ',\n",
       " 'hgt:173cm pid:247156751 cid:109 eyr:2022 iyr:2012 ecl:gry byr:1989 ',\n",
       " 'cid:288 hcl:77241f hgt:157cm byr:1956 pid:587115461 iyr:2016 ecl:lzr eyr:2034 ',\n",
       " 'hcl:5307c9 ecl:#cc4aff pid:#d80d30 cid:224 hgt:72cm byr:2025 eyr:2039 iyr:2025 ',\n",
       " 'eyr:2027 byr:2015 hgt:184 hcl:98fb9d pid:58151347 iyr:2029 ',\n",
       " 'hgt:183cm cid:187 byr:2019 ecl:xry iyr:2013 pid:164cm hcl:#18171d eyr:2021 ']"
      ]
     },
     "execution_count": 237,
     "metadata": {},
     "output_type": "execute_result"
    }
   ],
   "source": [
    "result"
   ]
  },
  {
   "cell_type": "markdown",
   "metadata": {},
   "source": [
    "## day four: 2/2"
   ]
  },
  {
   "cell_type": "code",
   "execution_count": 407,
   "metadata": {},
   "outputs": [
    {
     "name": "stdout",
     "output_type": "stream",
     "text": [
      "['eyr:2033', 'hgt:177cm pid:173cm', 'ecl:utc byr:2029 hcl:#efcc98 iyr:2023', '', 'pid:337605855 cid:249 byr:1952 hgt:155cm', 'ecl:grn iyr:2017 eyr:2026 hcl:#866857', '', 'cid:242 iyr:2011 pid:953198122 eyr:2029 ecl:blu hcl:#888785', '', 'hgt:173cm hcl:#341e13', 'cid:341', 'pid:112086592', 'iyr:2012 byr:2011 ecl:amb', 'eyr:2030', '', 'pid:790332032', 'iyr:2019', 'eyr:2023 byr:1969 ecl:brn', 'hgt:163cm', 'hcl:#623a2f', '', 'byr:1920 eyr:2023 cid:146 pid:890112986 hgt:171cm hcl:#b6652a iyr:2017 ecl:hzl', '', 'hcl:#c0946f byr:1967 cid:199 ecl:gry', 'iyr:2012 pid:987409259 hgt:157cm eyr:2021', '', 'pid:316587303 iyr:2016 eyr:2023 ecl:blu byr:1959 hgt:186cm hcl:#733820', '', 'hcl:#fffffd hgt:152cm byr:1996 ecl:gry eyr:2024', '', 'ecl:brn hgt:185cm', 'pid:648491325 byr:1967', 'hcl:#172f67 iyr:2014', 'eyr:2028', '', 'pid:328737320 iyr:2017 hcl:#fffffd hgt:178', 'ecl:#35fad5', 'byr:1959', '', 'iyr:2010 byr:1943 eyr:2028', 'hgt:178cm hcl:#888785 pid:572750267', '', 'cid:175 ecl:brn eyr:2026 iyr:2017', 'hcl:#5d69b9 byr:1998 pid:289515215', 'hgt:151cm', '', 'hgt:182cm', 'ecl:blu eyr:2028 iyr:2011 hcl:#a97842 pid:758494126', '', 'iyr:2023', 'hgt:174cm hcl:cafc2f', 'ecl:utc', 'cid:299 eyr:2026 pid:57963956', '', 'pid:853993893 ecl:blu hgt:188cm cid:294 hcl:#341e13 byr:1975', 'eyr:2027 iyr:2015', '', 'ecl:amb hgt:70 iyr:2018 pid:241872490', 'byr:1962', 'eyr:2024 hcl:c5f0c3', '', 'pid:994754974 eyr:2029 iyr:2017', 'cid:137 byr:1966 hcl:#733820 ecl:blu', '', 'ecl:utc', 'pid:937481632 hgt:190', 'eyr:2025 iyr:2027 byr:1949 cid:84 hcl:d3f4f5', '', 'cid:129 ecl:brn hgt:91 eyr:1932', 'iyr:2020 pid:298540404 hcl:#888785 byr:1986', '', 'pid:416051368 eyr:2020 iyr:2011', 'hgt:93 byr:2023 hcl:#efcc98', 'ecl:amb', '', 'byr:2010 hgt:181cm', 'iyr:2020', 'eyr:2040 pid:785862801 ecl:#f84ccd', '', 'hgt:152cm iyr:2013 pid:932020343 eyr:2023 ecl:hzl byr:1920', 'hcl:#fffffd', '', 'hgt:152cm', 'iyr:2020 byr:1993 hcl:#18171d pid:120354938', 'eyr:2021 ecl:gry', '', 'eyr:2025 byr:1996', 'hcl:#623a2f', 'iyr:2018 ecl:oth cid:177 pid:904738945 hgt:164cm', '', 'pid:45042993', 'hgt:193 iyr:2018 byr:2026 eyr:2026', 'hcl:#623a2f cid:175 ecl:brn', '', 'byr:1956 ecl:hzl iyr:2020 pid:892810672 hgt:164cm eyr:2021 cid:186 hcl:#efcc98', '', 'cid:314 hgt:180cm', 'ecl:amb hcl:#602927 byr:2027', 'iyr:1958', 'eyr:2020 pid:#b2b732', '', 'cid:50', 'hcl:#a97842', 'hgt:155cm pid:667716485 ecl:gry iyr:2014 byr:1995 eyr:2029', '', 'eyr:2030', 'pid:783631610', 'hgt:74', 'byr:2014 hcl:z iyr:2003 ecl:grt', '', 'ecl:#d4d852 iyr:2029 hcl:z hgt:185in', 'eyr:2034 pid:#526166', '', 'iyr:1946 eyr:1957 byr:1941 pid:632690435 ecl:oth hcl:18a37c hgt:59cm', '', 'iyr:2013', 'eyr:2026 pid:002380966 cid:95', 'hcl:#623a2f byr:1965 ecl:oth', '', 'ecl:gry pid:479214778 hcl:#18171d', 'byr:1928 cid:98 eyr:2020 iyr:2019 hgt:163cm', '', 'hcl:#bd0f54 cid:225 eyr:2024 hgt:153cm iyr:2020', 'byr:1956 pid:048565668 ecl:hzl', '', 'ecl:#5d8b3b hgt:156cm eyr:2029 pid:#3df0cc byr:1967 cid:118 hcl:e23f0f', '', 'pid:437721309', 'hcl:#cfa07d hgt:181cm iyr:2019 cid:224 eyr:2028 byr:1946', 'ecl:gry', '', 'byr:1962', 'eyr:2023', 'hgt:182cm', 'pid:733248003 ecl:blu', 'iyr:2014 hcl:#efcc98', '', 'byr:1966 hgt:158cm', 'eyr:2029 hcl:#602927 iyr:2013', 'pid:963663665', '', 'pid:529595074 byr:1940 eyr:2020 hcl:#c0946f cid:113 iyr:2015 ecl:oth', 'hgt:191cm', '', 'ecl:hzl', 'hcl:#a97842', 'hgt:157cm eyr:2025 iyr:2015 byr:1978 pid:579525362', '', 'ecl:oth hcl:#18171d cid:76 iyr:2011 eyr:2021', 'byr:1953 hgt:173cm pid:976483712', '', 'ecl:brn hcl:#fffffd cid:242 pid:588299934', 'hgt:69in byr:1947', 'iyr:2010 eyr:2030', '', 'hcl:#fffffd ecl:gry cid:93', 'pid:731904973 byr:1939 eyr:2029 iyr:2016', '', 'pid:96716037 iyr:1938 eyr:2032', 'hgt:192 ecl:gmt byr:2029 hcl:02edc5', '', 'byr:1958', 'iyr:2011 eyr:2029 ecl:gry', 'pid:526931024', 'hcl:z', 'hgt:59cm', '', 'byr:1966 ecl:hzl', 'pid:378066668 hcl:#c0946f', 'iyr:2017 eyr:2026 cid:142 hgt:184cm', '', 'pid:1134356373', 'iyr:2019', 'ecl:grn', 'hcl:#ceb3a1 byr:1950', 'hgt:154in', '', 'hgt:157cm ecl:zzz byr:1976', 'pid:5047305958', 'iyr:2013 hcl:#341e13', '', 'eyr:2024', 'hcl:#a97842 hgt:179cm pid:543943316 cid:214 ecl:brn', 'byr:1999', 'iyr:2017', '', 'byr:1983 eyr:2024 hgt:177cm', 'ecl:hzl', 'iyr:2013 pid:328883228 hcl:#ceb3a1', '', 'cid:226 pid:262286178 iyr:2010 ecl:grn byr:1962 eyr:2025 hcl:#efcc98', 'hgt:60in', '', 'iyr:2029 ecl:#559ffe hcl:z', 'cid:156', 'byr:2003', 'hgt:178', 'pid:93994500', '', 'iyr:2026 hcl:#eda7f3 ecl:amb', 'byr:1921 eyr:2021 pid:153cm', '', 'byr:1988', 'ecl:amb hgt:178cm hcl:#2aea45', 'pid:70722502 eyr:2027 iyr:2015', '', 'pid:555636800 eyr:2020 hgt:182cm iyr:2019 byr:1948 cid:325', 'hcl:#733820', '', 'eyr:1973', 'iyr:2024 hcl:z byr:2028 ecl:dne cid:169', 'pid:43596015 hgt:170in', '', 'hcl:#b6652a ecl:gry', 'cid:264', 'hgt:178cm iyr:2027 pid:23042405 byr:1947 eyr:2024', '', 'byr:1989', 'pid:266274644 ecl:blu eyr:2023 hcl:#733820', 'hgt:192cm iyr:2018 cid:272', '', 'iyr:2013 hcl:z hgt:73cm byr:2014 pid:192cm ecl:#1627a7', '', 'pid:816749378 hgt:178cm', 'hcl:#733820 eyr:2029', 'byr:1993', '', 'hcl:0cacc5 byr:1944 iyr:2028 eyr:2024 hgt:163in pid:74169361', 'ecl:dne', '', 'hcl:#ceb3a1', 'ecl:grn', 'eyr:2027 pid:481186415 hgt:176cm cid:325', 'byr:1986', '', 'eyr:2028 hgt:174cm ecl:brn', 'hcl:#888785 iyr:2015 pid:064161451 byr:1969', '', 'ecl:brn cid:323 hgt:167', 'byr:1993 iyr:1953', 'hcl:z eyr:2023 pid:161542750', '', 'ecl:#895336 eyr:2033 hgt:67cm cid:254 iyr:1967 hcl:z byr:1954', '', 'ecl:#9dbea3 iyr:2018 eyr:2035', 'hgt:183', 'pid:747501524 hcl:#fd8515 cid:110', 'byr:1997', '', 'ecl:utc', 'iyr:2014 hgt:183in byr:2007 eyr:2026 hcl:#cfa07d', 'cid:334', '', 'ecl:gry hcl:#b6652a pid:250420128', 'eyr:2024 byr:1939 hgt:170cm', '', 'hcl:#18171d eyr:2030 byr:1925 pid:204206116', 'iyr:2014 hgt:174cm ecl:hzl', '', 'iyr:2020 hcl:#efcc98', 'pid:393444692', 'ecl:oth hgt:152cm byr:1957 eyr:2021', '', 'byr:1973 eyr:2024 iyr:2014 hcl:#602927', 'pid:832320186 hgt:166cm ecl:grn', '', 'pid:192524664 hgt:182cm', 'hcl:#18171d', 'ecl:oth eyr:2030 byr:1942 iyr:2013', '', 'hgt:129 byr:2016 hcl:6734a1 ecl:#915282 iyr:1949 cid:130 pid:677408864 eyr:2030', '', 'eyr:2028 ecl:gry hgt:171cm byr:1960 iyr:2020 pid:688526729 cid:262 hcl:#733820', '', 'ecl:grn iyr:2019 pid:775867641 hcl:#bf1e29', 'byr:1920 hgt:163cm', '', 'eyr:2029 hcl:#866857', 'iyr:2024', 'pid:170cm byr:1931', 'hgt:177cm ecl:hzl cid:312', '', 'iyr:2019 ecl:#19fef5 pid:2080468234', 'eyr:2008 hgt:72', 'hcl:e14dfe', 'byr:1980 cid:272', '', 'byr:2025', 'cid:163', 'iyr:2020 pid:758946748 hgt:161cm', 'ecl:amb eyr:2023 hcl:026d4d', '', 'iyr:2021 cid:109', 'eyr:2032 byr:2010', 'hcl:#fffffd pid:874586711 ecl:hzl hgt:142', '', 'eyr:2023', 'hcl:z iyr:2019 byr:2013 ecl:#b42611 pid:164cm hgt:60cm', '', 'byr:1935 cid:226 hcl:#602927 ecl:blu pid:700452129 eyr:2029', 'iyr:2016 hgt:180cm', '', 'hgt:179cm', 'pid:181cm', 'ecl:gry cid:309', 'eyr:2029', 'hcl:#6b5442', 'byr:1987', 'iyr:2010', '', 'ecl:gry byr:1986 hcl:#cce4b8', 'pid:101583943 iyr:2010 hgt:65cm eyr:2021', '', 'cid:168', 'pid:#8556c9 hcl:413944 eyr:2036 byr:2013 iyr:2012', 'ecl:#66dc1c hgt:59cm', '', 'eyr:1984 byr:2017 pid:#cbc84e hcl:z', 'cid:189 iyr:2021 ecl:blu', 'hgt:152cm', '', 'byr:1993 hcl:#004c11 eyr:2026', 'iyr:2010', 'ecl:brn hgt:188cm', 'pid:889959941', '', 'hgt:172 byr:2008 eyr:2030 iyr:1959', 'ecl:oth hcl:#a8ebbb', '', 'iyr:2013 hcl:#8f97b1 hgt:182cm ecl:grn cid:89', 'eyr:2029', 'byr:1974', '', 'eyr:2025 hcl:#6b5442 pid:222418968 byr:1951 cid:105 ecl:hzl iyr:2011 hgt:181cm', '', 'iyr:2017', 'ecl:brn pid:481721303 hgt:190cm', 'eyr:2037 byr:1990 hcl:#ceb3a1', '', 'hcl:z', 'pid:85905429', 'byr:1923 cid:260', 'eyr:2031 ecl:gry', 'iyr:2022 hgt:180cm', '', 'hcl:#fffffd hgt:76cm', 'ecl:grn', 'pid:39254112 byr:2010 iyr:1961 eyr:2028', '', 'ecl:brn iyr:2016', 'eyr:2027 hcl:#efcc98 pid:753268957 hgt:60in byr:1943', '', 'ecl:oth', 'pid:087762106 hgt:190cm', 'byr:1974 cid:171 hcl:#c63f21', 'eyr:2020', '', 'ecl:#8c1b6c', 'byr:1962 iyr:2007 pid:106672731', 'hgt:172in cid:239 eyr:2026 hcl:#b6652a', '', 'hgt:170cm eyr:2021', 'cid:219 hcl:#a97842 pid:040224991 byr:1950 iyr:2018', '', 'byr:2029', 'eyr:2036 cid:309', 'iyr:2016 hgt:167cm hcl:#fffffd', 'ecl:#1ab23b', '', 'iyr:2013 ecl:gry eyr:2020 pid:947828194', 'hcl:#18171d hgt:163cm byr:1971', '', 'hcl:#fffffd iyr:2011', 'pid:150105713 eyr:2029', 'hgt:168cm byr:1925 ecl:hzl', '', 'cid:253', 'hcl:#341e13', 'eyr:2025 hgt:184cm', 'pid:651786830 byr:1936 iyr:2013', 'ecl:hzl', '', 'pid:7328393469', 'hgt:175cm ecl:gry iyr:2012 byr:1963 hcl:#623a2f eyr:2026', '', 'eyr:2029 pid:669044398 hgt:161cm hcl:#cfa07d ecl:gry iyr:2018', '', 'pid:920006222 byr:1941 ecl:grn eyr:2027 cid:87 hcl:#733820', 'iyr:2018 hgt:171cm', '', 'byr:1964 hgt:157cm hcl:#a97842', 'pid:756972774 eyr:2024 iyr:2013 ecl:gry', '', 'iyr:2010 cid:279', 'hgt:189cm byr:1959', 'ecl:brn eyr:2022 pid:937686753 hcl:#602927', '', 'iyr:2013', 'eyr:2027 cid:223 pid:145547438', 'hcl:#6e6f47 hgt:165cm ecl:amb', '', 'byr:2009', 'ecl:oth hcl:#623a2f', 'hgt:166cm eyr:2034 pid:120339592', 'iyr:2012', '', 'eyr:2026 hcl:z byr:2018 pid:7809314464 iyr:2012 hgt:158cm ecl:hzl', '', 'cid:291 hgt:168', 'ecl:#7734de iyr:2021 hcl:5b4ef1 pid:3381158334 eyr:1956 byr:2003', '', 'iyr:2015 hcl:#cfa07d', 'byr:1971 eyr:2023', 'ecl:oth pid:560419063 cid:155 hgt:170cm', '', 'eyr:2021 hgt:189cm iyr:2014 hcl:#6b5442 ecl:brn cid:287', 'byr:1951 pid:936881112', '', 'iyr:2013', 'eyr:2020 ecl:hzl hgt:150cm cid:210', 'pid:032458640 byr:1920 hcl:#6b5442', '', 'hgt:180cm hcl:#cfa07d ecl:grn eyr:2027', 'pid:140859202 iyr:2014 cid:232', 'byr:1932', '', 'pid:68300657 byr:1988 hgt:181cm', 'ecl:hzl iyr:1951 hcl:e18469', 'eyr:2013', '', 'pid:157572693 hgt:185cm', 'hcl:#065fe8 ecl:gry eyr:2027', 'iyr:2014', '', 'eyr:2029 hgt:164cm hcl:z ecl:grn cid:270 iyr:2019 byr:1993 pid:338068138', '', 'iyr:2016 cid:131 byr:1990 hcl:#7d3b0c ecl:grn pid:066023454 hgt:154cm', 'eyr:2025', '', 'iyr:2019 eyr:2024 hgt:174cm', 'pid:855792798 byr:1920 hcl:#cfa07d', '', 'eyr:2020', 'hgt:74in iyr:2013 ecl:amb', 'byr:1920 hcl:3f6214', 'pid:957164804', '', 'pid:756767000 hcl:#220540 byr:1922 hgt:172cm', 'eyr:2023 cid:305 ecl:hzl iyr:2019', '', 'hgt:193in eyr:2025 pid:117240526 iyr:2017 hcl:#888785 byr:1928 ecl:blu', '', 'byr:1942', 'ecl:blu', 'cid:347', 'hcl:#fffffd eyr:2023 iyr:2017', 'hgt:154cm pid:836554235', '', 'eyr:2023 hcl:#efcc98', 'pid:364475403 byr:1962 iyr:2015', 'ecl:brn hgt:59in cid:289', '', 'byr:2021 hcl:ca4bcf hgt:88 iyr:2017 ecl:gmt pid:181cm eyr:2032', '', 'byr:1937 iyr:2014 hgt:154cm ecl:brn', 'hcl:#866857', 'eyr:2022 pid:234591437', '', 'iyr:2002 cid:139 byr:1982', 'hcl:#c0946f', 'pid:#62721b hgt:159in eyr:1966 ecl:brn', '', 'eyr:2036 ecl:oth byr:2026 hgt:96', 'pid:137651094', 'hcl:z', '', 'pid:373485985', 'iyr:2030 ecl:gry byr:2011 hgt:65cm', 'hcl:#733820', '', 'pid:390979357', 'ecl:gry hgt:164cm', 'hcl:#ceb3a1 eyr:2029 byr:1932 iyr:2015', '', 'ecl:hzl hgt:68in eyr:2023 pid:829734763 iyr:2016 hcl:#733820 byr:1997', '', 'hgt:150cm byr:1926 iyr:2019 pid:521908229 eyr:2029 ecl:brn hcl:#623a2f', '', 'eyr:2023 byr:1974', 'iyr:2018 cid:58', 'ecl:grn', 'pid:310883188 hcl:#866857', 'hgt:164cm', '', 'byr:1963 iyr:2019', 'hgt:162cm', 'eyr:2021', 'hcl:#fffffd ecl:oth pid:104734523', '', 'hcl:#888785 cid:150', 'eyr:2020 byr:1988', 'iyr:2018', 'ecl:oth', 'hgt:179cm pid:635972018', '', 'iyr:2014 hcl:#7d3b0c ecl:hzl pid:717760687', 'byr:1929 eyr:2027 hgt:183cm', '', 'iyr:2019 byr:2000', 'eyr:2025 pid:506581828 hcl:#602927 ecl:oth', 'hgt:162cm', '', 'pid:#fd3377 ecl:#618bce hcl:#ceb3a1', 'iyr:1944 hgt:182cm cid:57', 'byr:2022 eyr:1995', '', 'pid:4790730010', 'hgt:192cm', 'cid:222 byr:2022', 'hcl:4798e7 ecl:#5126d5 iyr:1954 eyr:2040', '', 'hcl:#b6652a', 'ecl:brn cid:181 pid:983890186 hgt:189cm byr:1998', 'eyr:2022 iyr:2011', '', 'iyr:2018 eyr:2022', 'cid:58 byr:1994 hgt:169cm ecl:hzl pid:036522894', 'hcl:#2c9ee8', '', 'iyr:1979', 'hcl:e09b9c byr:2016', 'hgt:121 eyr:1962 pid:#fb14be cid:265 ecl:lzr', '', 'eyr:2024 hgt:63in hcl:#efcc98 iyr:2018', 'byr:1953 pid:881102827 ecl:amb', '', 'ecl:oth hgt:177cm eyr:2028 iyr:2011', 'hcl:#efcc98 pid:113579849 byr:1957', '', 'ecl:#fe1b74 iyr:1926 hgt:70cm', 'pid:70807766 hcl:556dca byr:2030', 'eyr:2032', '', 'byr:1997 ecl:blu hgt:105', 'pid:178655906 iyr:2025', 'hcl:#6b5442', 'eyr:2021', '', 'eyr:2030 ecl:grt hgt:161cm hcl:#ceb3a1 iyr:2016', 'pid:318930966 cid:59 byr:1924', '', 'cid:200 hgt:67in', 'pid:229395752 byr:1936 ecl:oth iyr:2013 eyr:2020 hcl:#c0946f', '', 'byr:1990 iyr:2018', 'cid:99 hcl:#6b5442 hgt:155 pid:350832537 ecl:blu eyr:2021', '', 'eyr:2039 byr:2025 pid:247367429 hcl:z iyr:2013 ecl:amb', 'cid:118', '', 'eyr:2027 hcl:z ecl:utc', 'cid:274 hgt:175in iyr:2016 byr:1977 pid:478855994', '', 'eyr:2020 pid:636743032', 'hcl:#64a8b8 iyr:2018 ecl:grn hgt:68in byr:1969', '', 'pid:515635081 iyr:2013 byr:1980 eyr:2024 hgt:173cm ecl:gry', 'hcl:#b6652a', '', 'ecl:utc byr:2026 iyr:1999 eyr:1937', 'hgt:66cm', 'hcl:z', 'pid:2247643960', '', 'iyr:2013 byr:1942 hgt:154cm eyr:2020 hcl:#18171d cid:323 pid:302753381 ecl:oth', '', 'ecl:xry pid:346719476', 'iyr:1999', 'eyr:2020 hgt:154cm hcl:z', 'byr:2027', '', 'hgt:160cm eyr:2025 hcl:#fffffd byr:1998', 'pid:678119271 ecl:blu iyr:2014', '', 'hgt:161cm iyr:2011', 'ecl:blu', 'byr:1921 pid:236833613 eyr:2021', 'hcl:#623a2f', '', 'ecl:hzl hcl:#18171d hgt:151cm pid:541887993', 'byr:1995 iyr:2019 eyr:2021', '', 'pid:496474711 byr:1966 ecl:gry eyr:2025 hgt:176cm', 'hcl:#b6652a iyr:2018', '', 'iyr:2010 hcl:#efcc98 pid:351846405', 'eyr:2024 hgt:150cm', 'byr:1941', '', 'hgt:151cm ecl:gry hcl:#a97842 pid:586789406', 'eyr:2022 iyr:2013 byr:1982', '', 'byr:1994 eyr:2028 ecl:gry', 'hcl:#888785 iyr:2010', 'hgt:165cm cid:183', '', 'iyr:2015', 'byr:1933 hcl:#733820 hgt:167cm', 'ecl:blu pid:914665208 eyr:2027', '', 'eyr:2031 hcl:6804ef', 'ecl:amb', 'byr:2024', 'hgt:157cm iyr:1938', 'pid:#0418fb', '', 'byr:1936', 'ecl:oth hgt:190cm cid:91', 'pid:711544430 iyr:2020', 'eyr:2025 hcl:#888785', '', 'pid:381452527', 'eyr:2027 hcl:#efcc98 ecl:brn', 'byr:1956 hgt:63in', '', 'ecl:oth', 'iyr:2014 hcl:#ceb3a1', 'cid:254', 'pid:544612871 byr:1985 eyr:2023 hgt:172cm', '', 'hcl:#efcc98', 'hgt:191cm byr:1948', 'ecl:blu eyr:2028', 'pid:953894279 iyr:2017', '', 'byr:1968 pid:875469219', 'hcl:#efcc98 hgt:176cm cid:141 iyr:2017', '', 'eyr:2022 hcl:#733820 ecl:hzl', 'pid:870733357 iyr:2013', 'byr:1949 hgt:150cm cid:252', '', 'ecl:gry', 'hcl:#602927 pid:632246684 byr:1986', 'eyr:2030 hgt:152cm iyr:2013', '', 'eyr:2029', 'iyr:2016', 'byr:1969 pid:595125675 ecl:gry hcl:#cfa07d hgt:184cm', '', 'byr:1947 hcl:z', 'cid:188 eyr:2038 pid:177cm iyr:2011 hgt:166cm ecl:#c1376b', '', 'ecl:hzl hgt:170cm cid:307 eyr:2022', 'byr:1971', 'hcl:#b6652a pid:047040501', '', 'hgt:126 ecl:zzz', 'byr:2019', 'pid:170207910 eyr:2035 hcl:23df48', 'iyr:1932', '', 'hgt:152cm cid:270 eyr:2036 ecl:#408f6e iyr:1952 pid:5808880830 byr:2022', 'hcl:0b1ba6', '', 'eyr:2021 hgt:179cm', 'byr:1938 pid:140937061 iyr:2030 hcl:#a97842 ecl:oth', '', 'hgt:67cm eyr:2028 pid:816355657', 'iyr:2019 byr:2008 hcl:z ecl:#5b4f31', '', 'cid:192', 'iyr:2018 eyr:2020 byr:1983 pid:873720366', 'ecl:grn hgt:187cm hcl:#6b5442', '', 'byr:1955 hgt:71in iyr:2018 pid:320019385 hcl:#6b5442', 'cid:324 eyr:2027', '', 'pid:957860464', 'hcl:#602927', 'iyr:2011', 'byr:2026 cid:261 eyr:2006', '', 'byr:1989 ecl:gry cid:143 pid:258434299 eyr:2027 hgt:192cm iyr:2017 hcl:#7d3b0c', '', 'pid:#1742ae', 'ecl:#a61090', 'iyr:2028 hcl:717dd0 hgt:139 cid:183', 'eyr:2035', '', 'eyr:2028 pid:039325804 hgt:167cm hcl:#888785 ecl:oth cid:155 iyr:2013 byr:1923', '', 'byr:1956 iyr:2010', 'hcl:#d683bf', 'eyr:2023', 'hgt:70in', 'cid:197 pid:143320690', 'ecl:hzl', '', 'ecl:#4004e3 cid:278', 'iyr:1950 pid:745107377', 'byr:2007 eyr:2036', 'hcl:8447eb hgt:74cm', '', 'hcl:#ceb3a1 hgt:177cm iyr:2010 pid:640032134', 'ecl:gry', 'eyr:2027 byr:1958', '', 'hgt:187cm', 'iyr:1921 ecl:#1c7d96', 'eyr:1987', 'byr:2028 pid:#28e5a1 cid:144 hcl:9fc25d', '', 'iyr:2012 byr:1996 cid:289 hgt:177cm hcl:#fffffd pid:687240168 eyr:2030 ecl:gry', '', 'pid:860410143 ecl:dne eyr:2031 cid:206 hgt:187in byr:1927', 'hcl:8c2149 iyr:2012', '', 'iyr:2010', 'byr:1963 cid:139 pid:160019759', 'eyr:2030 hgt:172cm hcl:#602927', '', 'pid:309851270', 'iyr:2014', 'ecl:hzl byr:1939', 'cid:71', 'eyr:2030', 'hcl:#b216fb', 'hgt:161cm', '', 'ecl:gry', 'cid:138', 'iyr:2014', 'hgt:177cm byr:1942', 'pid:900269082 eyr:2024 hcl:#fffffd', '', 'iyr:2019 hgt:158cm', 'hcl:#18171d pid:941939350 eyr:2024 ecl:brn byr:1944', '', 'byr:2023 ecl:brn', 'cid:101 eyr:2016 pid:190078757 hgt:188in', '', 'cid:188', 'ecl:blu pid:075499609', 'byr:1970', 'hcl:#fffffd hgt:164cm eyr:2028 iyr:2015', '', 'byr:2011 hcl:z', 'ecl:gry', 'pid:408316491 hgt:64cm iyr:2017 eyr:1968', '', 'ecl:oth hcl:#6b5442', 'pid:623099801', 'hgt:163cm', 'byr:1928', '', 'pid:165230004', 'ecl:grn byr:1935 hcl:#c0946f iyr:2012', 'hgt:185cm', '', 'hgt:162cm pid:069876432 byr:1960 cid:326 iyr:2013', 'hcl:#cfa07d eyr:2021', 'ecl:grn', '', 'ecl:#f3d8ba hgt:182cm eyr:2020 byr:2007', 'hcl:z iyr:2014 pid:6141297559', '', 'pid:867747198', 'hcl:#efcc98', 'eyr:2030 byr:1989', 'hgt:181cm', '', 'byr:2000 eyr:2021 hgt:166cm', 'hcl:#fffffd iyr:2019 pid:546346187 cid:111 ecl:grn', '', 'eyr:2034 hcl:#623a2f', 'byr:1958', 'pid:60553207 ecl:#76b538 hgt:59 cid:75', '', 'hcl:#623a2f', 'eyr:2023 pid:251940892 byr:1998', 'iyr:2012', 'hgt:181cm ecl:gry', '', 'iyr:2020 cid:83', 'byr:1938 eyr:2024 ecl:amb pid:046668488 hgt:181cm hcl:#341e13', '', 'ecl:grn', 'eyr:2036 iyr:1951 byr:2029 hcl:z hgt:177in', 'pid:135470038', '', 'iyr:2015 eyr:2023', 'byr:1961', 'cid:81 hcl:#a97842 pid:710065884', 'hgt:152cm', 'ecl:#1f9801', '', 'byr:2014', 'pid:25253929 hcl:z', 'ecl:#f3fb41 eyr:2025 cid:255 iyr:1998', 'hgt:155cm', '', 'ecl:gry pid:919070381 hcl:#efcc98 iyr:2019 eyr:2021 byr:1995', '', 'byr:1942', 'eyr:2029', 'hgt:191cm hcl:#18171d', 'pid:649719423 iyr:2018 ecl:brn', '', 'ecl:gry', 'byr:1963 iyr:2016 hgt:188cm pid:024539026 eyr:2022', '', 'hgt:176cm', 'ecl:hzl eyr:1923 pid:176188310 hcl:#b6652a', 'byr:1939', 'iyr:2011', '', 'iyr:2011 hcl:#888785 eyr:2030 ecl:gry byr:1920', '', 'pid:#0468a7 hcl:851fe0 eyr:2036 hgt:60cm', 'byr:2030', 'iyr:1995', 'ecl:utc', '', 'hcl:#866857 iyr:2016 ecl:oth', 'pid:414233531 eyr:2022 byr:1957', 'hgt:169cm cid:229', '', 'cid:185 ecl:#5f6f53', 'pid:#20f317 byr:2024 eyr:1988 hcl:z iyr:2023 hgt:158in', '', 'pid:015894427 eyr:2027 hgt:177cm ecl:blu', 'cid:222', 'hcl:#c0946f iyr:2010 byr:1993', '', 'cid:101 hgt:162cm hcl:#c0946f pid:666662343 ecl:grn', 'byr:1974', 'iyr:2019', 'eyr:2029', '', 'pid:782547454 hcl:z ecl:#b0805f', 'iyr:2013 eyr:2023', 'hgt:159cm', 'byr:1935', 'cid:230', '', 'pid:298008321 hcl:231e1b hgt:166cm ecl:oth', 'iyr:2026 eyr:2020', '', 'pid:230201309 iyr:2010 eyr:2025 hcl:#6b5442', 'cid:238', 'ecl:grn', 'hgt:174cm', '', 'cid:287 eyr:2026 hcl:#733820', 'pid:201750712 iyr:2010', 'ecl:oth byr:1985', 'hgt:185cm', '', 'hcl:#a97842 hgt:70in eyr:2029', 'pid:419407059 ecl:grn byr:1987', 'iyr:2016', '', 'hgt:191cm byr:1951', 'eyr:2027 hcl:#8a9477 iyr:2015 ecl:amb pid:769071985', '', 'hcl:#6b5442', 'iyr:2012 ecl:blu', 'cid:336 pid:391608810 byr:1995', 'eyr:2022', 'hgt:161cm', '', 'iyr:2020', 'byr:1938', 'pid:927067439 eyr:2027 hgt:173cm', 'hcl:306963 ecl:xry', '', 'byr:1991', 'iyr:2021 hgt:175cm hcl:68b4f3 ecl:utc', 'pid:037777327 eyr:2026', '', 'hgt:64in', 'eyr:2025 hcl:#da6977 cid:137 byr:1990 iyr:2013 pid:918997697 ecl:amb', '', 'iyr:2011 ecl:gry hgt:173cm eyr:2023 pid:802831612', 'hcl:#733820 byr:1976', '', 'byr:1938 eyr:2021 pid:575395401 cid:234', 'hcl:#866857 ecl:hzl hgt:176cm', '', 'hcl:#ceb3a1 ecl:hzl', 'eyr:2035', 'iyr:2014', 'byr:2019', '', 'ecl:hzl pid:961361236', 'hgt:193cm hcl:#efcc98', 'iyr:2011 eyr:2030 byr:1967', '', 'eyr:1936 ecl:blu', 'hgt:153cm hcl:98d3f0 pid:7296832671', 'byr:1931 iyr:1962', '', 'iyr:2016 eyr:2024 hcl:#6b5442 ecl:grn', 'pid:265815316 byr:1966', 'hgt:165cm', '', 'pid:203025149', 'eyr:2029', 'iyr:2010 cid:124 byr:1999 ecl:blu', '', 'iyr:2011 eyr:2028 pid:#7e0612 byr:1924 hcl:#7d3b0c ecl:oth', 'hgt:82', '', 'ecl:hzl', 'byr:1941', 'hcl:#b6652a eyr:2020 pid:409573276', 'iyr:1976 hgt:166cm', '', 'ecl:grn eyr:2030', 'hgt:163cm iyr:2011 pid:121609314 byr:1961 hcl:#426e1a', '', 'pid:#49ea2c', 'eyr:2029 hcl:#6b5442 iyr:1931', 'hgt:62cm ecl:brn', 'byr:2012', '', 'eyr:2038 hcl:8d1f49 ecl:#6d4ea1 pid:0853660207 byr:2020 hgt:71cm', '', 'ecl:hzl hgt:170cm', 'iyr:2011', 'byr:1966 eyr:2028', 'pid:609548717 hcl:#c0946f', '', 'byr:1921 hcl:#c0946f ecl:blu iyr:2019 eyr:2024 pid:643387204', '', 'cid:324 hgt:162cm ecl:amb', 'hcl:#18171d byr:1961', 'eyr:2027 iyr:2010 pid:939720354', '', 'byr:1933 hcl:#fffffd', 'pid:353343882', 'eyr:2025 hgt:171cm ecl:amb cid:329', 'iyr:2017', '', 'byr:2004 iyr:2022', 'pid:157cm eyr:2035', 'ecl:#eafe47 hgt:129', 'hcl:z', '', 'cid:55 iyr:2025 hgt:177in pid:493884348', 'hcl:#888785 byr:1925 ecl:#b11d27 eyr:2036', '', 'ecl:hzl', 'hgt:171cm', 'iyr:2012 pid:479669573 cid:335 hcl:#fffffd byr:1953', 'eyr:2029', '', 'byr:1930 hcl:5bdf31', 'pid:#b21f8a hgt:164cm', 'cid:134', 'iyr:2023 ecl:lzr', '', 'iyr:2018 eyr:2026 ecl:grn', 'pid:541667478 hcl:#6b5442 byr:1992 hgt:155cm', '', 'hcl:2a1c4f iyr:2011', 'hgt:192cm eyr:2028 byr:2029 cid:270 ecl:dne pid:7995627426', '', 'byr:1929 ecl:oth', 'pid:954905104 iyr:2016', 'hgt:68in hcl:#7d3b0c eyr:2020', '', 'cid:167 byr:2000 hgt:186cm iyr:2013 hcl:#ff4019 pid:384287209', 'eyr:2024 ecl:amb', '', 'eyr:2022', 'iyr:2018 byr:1972 cid:290', 'hgt:170cm ecl:grn pid:127269636', '', 'byr:1997', 'ecl:amb hgt:150cm', 'pid:056368047 hcl:#fffffd eyr:2020 iyr:2020', '', 'ecl:gry hgt:167in byr:2020 cid:131 pid:651833067 hcl:#623a2f iyr:2027 eyr:2038', '', 'hcl:#56c370', 'iyr:2014', 'byr:1941', 'pid:654258425 hgt:184cm', 'eyr:2025 ecl:hzl', '', 'pid:571765355', 'byr:2021', 'hcl:z', 'eyr:1921 cid:106 iyr:1978', 'ecl:#1162c5', 'hgt:184in', '', 'iyr:2015 hcl:#18171d cid:237 pid:348578306 ecl:blu', 'byr:1988 eyr:2025 hgt:155cm', '', 'byr:1963 hcl:#733820 cid:145 eyr:2030 ecl:oth pid:964094037 hgt:164cm iyr:2018', '', 'pid:595618708 ecl:amb', 'hcl:#866857', 'hgt:186cm eyr:2024 byr:1924 iyr:2014', '', 'ecl:hzl pid:484466493', 'hgt:176cm iyr:2016 byr:1983 hcl:#ceb3a1', '', 'ecl:gry hcl:#6b5442', 'hgt:185cm', 'eyr:2029', 'pid:045583320 byr:1974 iyr:2020', '', 'ecl:brn hcl:352cf1 cid:149', 'hgt:184cm byr:2011', 'eyr:2031', 'pid:21942403 iyr:2028', '', 'ecl:brn eyr:2029 pid:083295950 byr:1995 hgt:176cm hcl:#c0946f', 'cid:68 iyr:2014', '', 'hgt:170cm', 'byr:1945 hcl:#623a2f', 'iyr:2013 pid:912213595 ecl:gry eyr:2020', '', 'ecl:gry', 'hcl:#18171d iyr:2015 hgt:185cm eyr:2023', 'byr:1950', '', 'byr:1997 hgt:68in pid:368643584 hcl:#623a2f ecl:hzl eyr:2029 iyr:2012', 'cid:239', '', 'iyr:2003 eyr:2020 cid:99 byr:2027 hcl:2c10a6 hgt:74cm', 'ecl:brn', '', 'pid:151cm hcl:46a5fd eyr:2031', 'iyr:2014', 'byr:2005 ecl:xry hgt:176cm', '', 'byr:2011 ecl:oth pid:821123244', 'iyr:2022', 'hcl:839b47 eyr:2039 hgt:150in', '', 'pid:604669618 hgt:152cm iyr:2013', 'byr:1954', 'eyr:2021 ecl:amb hcl:#623a2f', '', 'hgt:182cm', 'byr:1993', 'cid:177 hcl:#b6652a ecl:gry iyr:2011 pid:441649857 eyr:2027', '', 'cid:296 hgt:98', 'ecl:grt iyr:2028 hcl:#a97842 byr:2022', 'pid:69736889 eyr:1935', '', 'iyr:2016 hcl:#cfa07d', 'byr:1941', 'hgt:182cm', 'pid:720595987 ecl:gry', 'eyr:2022', '', 'iyr:2018 hgt:164cm hcl:#650d28 byr:1973 cid:108 pid:#b0df80 ecl:blu eyr:2020', '', 'hcl:z', 'pid:315901778', 'iyr:2013', 'byr:1999 ecl:#49f691 eyr:2026 hgt:179cm', '', 'byr:1925', 'pid:555786686 hgt:189cm hcl:#cfa07d iyr:2012 ecl:gry eyr:2028', '', 'iyr:2016', 'hgt:168cm', 'eyr:2027 cid:60 ecl:gry hcl:#cfa07d', 'pid:322944081 byr:1993', '', 'pid:163cm', 'hgt:189cm iyr:1997 hcl:03db25 eyr:1970', 'byr:2016 ecl:#6c59eb', '', 'pid:766719295 iyr:2017', 'hgt:168cm', 'hcl:z ecl:grt', 'eyr:2022 byr:2010', '', 'hgt:173cm pid:247156751 cid:109 eyr:2022 iyr:2012 ecl:gry byr:1989', '', 'cid:288', 'hcl:77241f', 'hgt:157cm byr:1956 pid:587115461 iyr:2016 ecl:lzr', 'eyr:2034', '', 'hcl:5307c9 ecl:#cc4aff', 'pid:#d80d30', 'cid:224 hgt:72cm byr:2025 eyr:2039 iyr:2025', '', 'eyr:2027 byr:2015', 'hgt:184 hcl:98fb9d pid:58151347', 'iyr:2029', '', 'hgt:183cm cid:187 byr:2019 ecl:xry iyr:2013 pid:164cm hcl:#18171d eyr:2021']\n"
     ]
    }
   ],
   "source": [
    "ooh = data\n",
    "print(ooh)"
   ]
  },
  {
   "cell_type": "code",
   "execution_count": 239,
   "metadata": {},
   "outputs": [
    {
     "data": {
      "text/plain": [
       "['eyr:2033',\n",
       " 'hgt:177cm',\n",
       " 'pid:173cm',\n",
       " 'ecl:utc',\n",
       " 'byr:2029',\n",
       " 'hcl:#efcc98',\n",
       " 'iyr:2023',\n",
       " '']"
      ]
     },
     "execution_count": 239,
     "metadata": {},
     "output_type": "execute_result"
    }
   ],
   "source": [
    "thingy = ooh[0].split(\" \")\n",
    "thingy"
   ]
  },
  {
   "cell_type": "code",
   "execution_count": 240,
   "metadata": {},
   "outputs": [],
   "source": [
    "while(\"\" in thingy) : \n",
    "    thingy.remove(\"\") "
   ]
  },
  {
   "cell_type": "code",
   "execution_count": 241,
   "metadata": {},
   "outputs": [
    {
     "data": {
      "text/plain": [
       "['eyr:2033',\n",
       " 'hgt:177cm',\n",
       " 'pid:173cm',\n",
       " 'ecl:utc',\n",
       " 'byr:2029',\n",
       " 'hcl:#efcc98',\n",
       " 'iyr:2023']"
      ]
     },
     "execution_count": 241,
     "metadata": {},
     "output_type": "execute_result"
    }
   ],
   "source": [
    "thingy"
   ]
  },
  {
   "cell_type": "code",
   "execution_count": 242,
   "metadata": {},
   "outputs": [],
   "source": [
    "full_thingy = []"
   ]
  },
  {
   "cell_type": "code",
   "execution_count": 243,
   "metadata": {},
   "outputs": [],
   "source": [
    "for item in thingy:\n",
    "    full_thingy.append(item.split(':'))"
   ]
  },
  {
   "cell_type": "code",
   "execution_count": 244,
   "metadata": {},
   "outputs": [
    {
     "data": {
      "text/plain": [
       "[['eyr', '2033'],\n",
       " ['hgt', '177cm'],\n",
       " ['pid', '173cm'],\n",
       " ['ecl', 'utc'],\n",
       " ['byr', '2029'],\n",
       " ['hcl', '#efcc98'],\n",
       " ['iyr', '2023']]"
      ]
     },
     "execution_count": 244,
     "metadata": {},
     "output_type": "execute_result"
    }
   ],
   "source": [
    "full_thingy"
   ]
  },
  {
   "cell_type": "code",
   "execution_count": 245,
   "metadata": {},
   "outputs": [
    {
     "data": {
      "text/plain": [
       "'2033'"
      ]
     },
     "execution_count": 245,
     "metadata": {},
     "output_type": "execute_result"
    }
   ],
   "source": [
    "full_thingy[0][1] "
   ]
  },
  {
   "cell_type": "code",
   "execution_count": 246,
   "metadata": {},
   "outputs": [
    {
     "data": {
      "text/plain": [
       "'177cm'"
      ]
     },
     "execution_count": 246,
     "metadata": {},
     "output_type": "execute_result"
    }
   ],
   "source": [
    "full_thingy[1][1]"
   ]
  },
  {
   "cell_type": "code",
   "execution_count": 247,
   "metadata": {},
   "outputs": [
    {
     "data": {
      "text/plain": [
       "'cm'"
      ]
     },
     "execution_count": 247,
     "metadata": {},
     "output_type": "execute_result"
    }
   ],
   "source": [
    "full_thingy[1][1][3:]"
   ]
  },
  {
   "cell_type": "code",
   "execution_count": 248,
   "metadata": {},
   "outputs": [],
   "source": [
    "accuracy = 0"
   ]
  },
  {
   "cell_type": "code",
   "execution_count": 382,
   "metadata": {},
   "outputs": [],
   "source": [
    "inputfile = open('part2testdata.csv', 'r')\n",
    "testdata = [x.strip() for x in inputfile.readlines()]"
   ]
  },
  {
   "cell_type": "code",
   "execution_count": null,
   "metadata": {},
   "outputs": [],
   "source": [
    "ooh"
   ]
  },
  {
   "cell_type": "code",
   "execution_count": 372,
   "metadata": {},
   "outputs": [],
   "source": [
    "def clean_results(data):\n",
    "    fact = True\n",
    "    result = []\n",
    "    item = \"\"\n",
    "    for j in range(0, len(data)):\n",
    "        if data[j] == \"\":\n",
    "            result.append(item)\n",
    "            item = \"\"\n",
    "        else:\n",
    "            item += data[j] + \" \"\n",
    "        if j == len(data)-1:\n",
    "            result.append(item)\n",
    "    return(result)"
   ]
  },
  {
   "cell_type": "code",
   "execution_count": 373,
   "metadata": {},
   "outputs": [
    {
     "name": "stdout",
     "output_type": "stream",
     "text": [
      "287\n"
     ]
    }
   ],
   "source": [
    "print(len(clean_results(ooh)))"
   ]
  },
  {
   "cell_type": "code",
   "execution_count": 383,
   "metadata": {},
   "outputs": [],
   "source": [
    "testdata = clean_results(testdata)"
   ]
  },
  {
   "cell_type": "code",
   "execution_count": 384,
   "metadata": {},
   "outputs": [
    {
     "data": {
      "text/plain": [
       "['eyr:1972 cid:100 hcl:#18171d ecl:amb hgt:170 pid:186cm iyr:2018 byr:1926 ',\n",
       " 'iyr:2019 hcl:#602927 eyr:1967 hgt:170cm ecl:grn pid:012533040 byr:1946 ',\n",
       " 'hcl:dab227 iyr:2012 ecl:brn hgt:182cm pid:021572410 eyr:2020 byr:1992 cid:277 ',\n",
       " 'hgt:59cm ecl:zzz eyr:2038 hcl:74454a iyr:2023 pid:3556412378 byr:2007 ',\n",
       " 'pid:087499704 hgt:74in ecl:grn iyr:2012 eyr:2030 byr:1980 hcl:#623a2f ',\n",
       " 'eyr:2029 ecl:blu cid:129 byr:1989 iyr:2014 pid:896056539 hcl:#a97842 hgt:165cm ',\n",
       " 'hcl:#888785 hgt:164cm byr:2001 iyr:2015 cid:88 pid:545766238 ecl:hzl eyr:2022 ',\n",
       " 'iyr:2010 hgt:158cm hcl:#b6652a ecl:blu byr:1944 eyr:2021 pid:093154719 ']"
      ]
     },
     "execution_count": 384,
     "metadata": {},
     "output_type": "execute_result"
    }
   ],
   "source": [
    "testdata"
   ]
  },
  {
   "cell_type": "code",
   "execution_count": 311,
   "metadata": {},
   "outputs": [],
   "source": [
    "###run from here"
   ]
  },
  {
   "cell_type": "code",
   "execution_count": 425,
   "metadata": {},
   "outputs": [],
   "source": [
    "item = testdata[0]"
   ]
  },
  {
   "cell_type": "code",
   "execution_count": 426,
   "metadata": {},
   "outputs": [],
   "source": [
    "not_item = testdata[5]"
   ]
  },
  {
   "cell_type": "code",
   "execution_count": 438,
   "metadata": {},
   "outputs": [
    {
     "name": "stdout",
     "output_type": "stream",
     "text": [
      "{'eyr': '1972', 'cid': '100', 'hcl': '#18171d', 'ecl': 'amb', 'hgt': '170', 'pid': '186cm', 'iyr': '2018', 'byr': '1926'}\n"
     ]
    }
   ],
   "source": [
    "print(item)"
   ]
  },
  {
   "cell_type": "code",
   "execution_count": 439,
   "metadata": {},
   "outputs": [
    {
     "name": "stdout",
     "output_type": "stream",
     "text": [
      "{'eyr': '2029', 'ecl': 'blu', 'cid': '129', 'byr': '1989', 'iyr': '2014', 'pid': '896056539', 'hcl': '#a97842', 'hgt': '165cm'}\n"
     ]
    }
   ],
   "source": [
    "print(not_item)"
   ]
  },
  {
   "cell_type": "code",
   "execution_count": 441,
   "metadata": {},
   "outputs": [],
   "source": [
    "def to_dict_funct(a):\n",
    "    to_dict = []\n",
    "    a = a.split(\" \")\n",
    "    while(\"\" in a): \n",
    "        a.remove(\"\") \n",
    "    for b in a:\n",
    "        to_dict.append(b.split(\":\")) \n",
    "    keys = []\n",
    "    value = []\n",
    "#     print(to_dict)\n",
    "    for i in range(0, len(to_dict)):\n",
    "        keys.append(to_dict[i][0])\n",
    "    for j in range(0, len(to_dict)):\n",
    "        value.append(to_dict[j][1])\n",
    "    dictitems = zip(keys,value)\n",
    "    dictitems = dict(dictitems)\n",
    "    print(dictitems)\n",
    "    return dictitems\n",
    "# item = to_dict_funct(item)\n",
    "# not_item = to_dict_funct(not_item)\n",
    "# print(item)\n",
    "# print(not_item)"
   ]
  },
  {
   "cell_type": "code",
   "execution_count": 458,
   "metadata": {},
   "outputs": [
    {
     "name": "stdout",
     "output_type": "stream",
     "text": [
      "{'cid': '242', 'iyr': '2011', 'pid': '953198122', 'eyr': '2029', 'ecl': 'blu', 'hcl': '#888785'}\n"
     ]
    }
   ],
   "source": [
    "bug = to_dict_funct(ooh[2])"
   ]
  },
  {
   "cell_type": "code",
   "execution_count": 461,
   "metadata": {},
   "outputs": [
    {
     "data": {
      "text/plain": [
       "['byr', 'iyr', 'eyr', 'hgt', 'hcl', 'ecl', 'pid']"
      ]
     },
     "execution_count": 461,
     "metadata": {},
     "output_type": "execute_result"
    }
   ],
   "source": [
    "fields"
   ]
  },
  {
   "cell_type": "code",
   "execution_count": 478,
   "metadata": {},
   "outputs": [
    {
     "name": "stdout",
     "output_type": "stream",
     "text": [
      "no bug exists\n"
     ]
    }
   ],
   "source": [
    "if not (all(f in ooh[0] for f in fields)):\n",
    "    print(\"supposed to go here\")\n",
    "else:\n",
    "    print(\"no bug exists\")"
   ]
  },
  {
   "cell_type": "code",
   "execution_count": 475,
   "metadata": {},
   "outputs": [
    {
     "name": "stdout",
     "output_type": "stream",
     "text": [
      "{'eyr': '2033', 'hgt': '177cm', 'pid': '173cm', 'ecl': 'utc', 'byr': '2029', 'hcl': '#efcc98', 'iyr': '2023'}\n",
      "7\n",
      "{'pid': '337605855', 'cid': '249', 'byr': '1952', 'hgt': '155cm', 'ecl': 'grn', 'iyr': '2017', 'eyr': '2026', 'hcl': '#866857'}\n",
      "8\n",
      "{'cid': '242', 'iyr': '2011', 'pid': '953198122', 'eyr': '2029', 'ecl': 'blu', 'hcl': '#888785'}\n",
      "6\n",
      "{'hgt': '173cm', 'hcl': '#341e13', 'cid': '341', 'pid': '112086592', 'iyr': '2012', 'byr': '2011', 'ecl': 'amb', 'eyr': '2030'}\n",
      "8\n",
      "{'pid': '790332032', 'iyr': '2019', 'eyr': '2023', 'byr': '1969', 'ecl': 'brn', 'hgt': '163cm', 'hcl': '#623a2f'}\n",
      "7\n",
      "{'byr': '1920', 'eyr': '2023', 'cid': '146', 'pid': '890112986', 'hgt': '171cm', 'hcl': '#b6652a', 'iyr': '2017', 'ecl': 'hzl'}\n",
      "8\n",
      "{'hcl': '#c0946f', 'byr': '1967', 'cid': '199', 'ecl': 'gry', 'iyr': '2012', 'pid': '987409259', 'hgt': '157cm', 'eyr': '2021'}\n",
      "8\n",
      "{'pid': '316587303', 'iyr': '2016', 'eyr': '2023', 'ecl': 'blu', 'byr': '1959', 'hgt': '186cm', 'hcl': '#733820'}\n",
      "7\n",
      "{'hcl': '#fffffd', 'hgt': '152cm', 'byr': '1996', 'ecl': 'gry', 'eyr': '2024'}\n",
      "5\n",
      "{'ecl': 'brn', 'hgt': '185cm', 'pid': '648491325', 'byr': '1967', 'hcl': '#172f67', 'iyr': '2014', 'eyr': '2028'}\n",
      "7\n",
      "{'pid': '328737320', 'iyr': '2017', 'hcl': '#fffffd', 'hgt': '178', 'ecl': '#35fad5', 'byr': '1959'}\n",
      "6\n",
      "{'iyr': '2010', 'byr': '1943', 'eyr': '2028', 'hgt': '178cm', 'hcl': '#888785', 'pid': '572750267'}\n",
      "6\n",
      "{'cid': '175', 'ecl': 'brn', 'eyr': '2026', 'iyr': '2017', 'hcl': '#5d69b9', 'byr': '1998', 'pid': '289515215', 'hgt': '151cm'}\n",
      "8\n",
      "{'hgt': '182cm', 'ecl': 'blu', 'eyr': '2028', 'iyr': '2011', 'hcl': '#a97842', 'pid': '758494126'}\n",
      "6\n",
      "{'iyr': '2023', 'hgt': '174cm', 'hcl': 'cafc2f', 'ecl': 'utc', 'cid': '299', 'eyr': '2026', 'pid': '57963956'}\n",
      "7\n",
      "{'pid': '853993893', 'ecl': 'blu', 'hgt': '188cm', 'cid': '294', 'hcl': '#341e13', 'byr': '1975', 'eyr': '2027', 'iyr': '2015'}\n",
      "8\n",
      "{'ecl': 'amb', 'hgt': '70', 'iyr': '2018', 'pid': '241872490', 'byr': '1962', 'eyr': '2024', 'hcl': 'c5f0c3'}\n",
      "7\n",
      "{'pid': '994754974', 'eyr': '2029', 'iyr': '2017', 'cid': '137', 'byr': '1966', 'hcl': '#733820', 'ecl': 'blu'}\n",
      "7\n",
      "{'ecl': 'utc', 'pid': '937481632', 'hgt': '190', 'eyr': '2025', 'iyr': '2027', 'byr': '1949', 'cid': '84', 'hcl': 'd3f4f5'}\n",
      "8\n",
      "{'cid': '129', 'ecl': 'brn', 'hgt': '91', 'eyr': '1932', 'iyr': '2020', 'pid': '298540404', 'hcl': '#888785', 'byr': '1986'}\n",
      "8\n",
      "{'pid': '416051368', 'eyr': '2020', 'iyr': '2011', 'hgt': '93', 'byr': '2023', 'hcl': '#efcc98', 'ecl': 'amb'}\n",
      "7\n",
      "{'byr': '2010', 'hgt': '181cm', 'iyr': '2020', 'eyr': '2040', 'pid': '785862801', 'ecl': '#f84ccd'}\n",
      "6\n",
      "{'hgt': '152cm', 'iyr': '2013', 'pid': '932020343', 'eyr': '2023', 'ecl': 'hzl', 'byr': '1920', 'hcl': '#fffffd'}\n",
      "7\n",
      "{'hgt': '152cm', 'iyr': '2020', 'byr': '1993', 'hcl': '#18171d', 'pid': '120354938', 'eyr': '2021', 'ecl': 'gry'}\n",
      "7\n",
      "{'eyr': '2025', 'byr': '1996', 'hcl': '#623a2f', 'iyr': '2018', 'ecl': 'oth', 'cid': '177', 'pid': '904738945', 'hgt': '164cm'}\n",
      "8\n",
      "{'pid': '45042993', 'hgt': '193', 'iyr': '2018', 'byr': '2026', 'eyr': '2026', 'hcl': '#623a2f', 'cid': '175', 'ecl': 'brn'}\n",
      "8\n",
      "{'byr': '1956', 'ecl': 'hzl', 'iyr': '2020', 'pid': '892810672', 'hgt': '164cm', 'eyr': '2021', 'cid': '186', 'hcl': '#efcc98'}\n",
      "8\n",
      "{'cid': '314', 'hgt': '180cm', 'ecl': 'amb', 'hcl': '#602927', 'byr': '2027', 'iyr': '1958', 'eyr': '2020', 'pid': '#b2b732'}\n",
      "8\n",
      "{'cid': '50', 'hcl': '#a97842', 'hgt': '155cm', 'pid': '667716485', 'ecl': 'gry', 'iyr': '2014', 'byr': '1995', 'eyr': '2029'}\n",
      "8\n",
      "{'eyr': '2030', 'pid': '783631610', 'hgt': '74', 'byr': '2014', 'hcl': 'z', 'iyr': '2003', 'ecl': 'grt'}\n",
      "7\n",
      "{'ecl': '#d4d852', 'iyr': '2029', 'hcl': 'z', 'hgt': '185in', 'eyr': '2034', 'pid': '#526166'}\n",
      "6\n",
      "{'iyr': '1946', 'eyr': '1957', 'byr': '1941', 'pid': '632690435', 'ecl': 'oth', 'hcl': '18a37c', 'hgt': '59cm'}\n",
      "7\n",
      "{'iyr': '2013', 'eyr': '2026', 'pid': '002380966', 'cid': '95', 'hcl': '#623a2f', 'byr': '1965', 'ecl': 'oth'}\n",
      "7\n",
      "{'ecl': 'gry', 'pid': '479214778', 'hcl': '#18171d', 'byr': '1928', 'cid': '98', 'eyr': '2020', 'iyr': '2019', 'hgt': '163cm'}\n",
      "8\n",
      "{'hcl': '#bd0f54', 'cid': '225', 'eyr': '2024', 'hgt': '153cm', 'iyr': '2020', 'byr': '1956', 'pid': '048565668', 'ecl': 'hzl'}\n",
      "8\n",
      "{'ecl': '#5d8b3b', 'hgt': '156cm', 'eyr': '2029', 'pid': '#3df0cc', 'byr': '1967', 'cid': '118', 'hcl': 'e23f0f'}\n",
      "7\n",
      "{'pid': '437721309', 'hcl': '#cfa07d', 'hgt': '181cm', 'iyr': '2019', 'cid': '224', 'eyr': '2028', 'byr': '1946', 'ecl': 'gry'}\n",
      "8\n",
      "{'byr': '1962', 'eyr': '2023', 'hgt': '182cm', 'pid': '733248003', 'ecl': 'blu', 'iyr': '2014', 'hcl': '#efcc98'}\n",
      "7\n",
      "{'byr': '1966', 'hgt': '158cm', 'eyr': '2029', 'hcl': '#602927', 'iyr': '2013', 'pid': '963663665'}\n",
      "6\n",
      "{'pid': '529595074', 'byr': '1940', 'eyr': '2020', 'hcl': '#c0946f', 'cid': '113', 'iyr': '2015', 'ecl': 'oth', 'hgt': '191cm'}\n",
      "8\n",
      "{'ecl': 'hzl', 'hcl': '#a97842', 'hgt': '157cm', 'eyr': '2025', 'iyr': '2015', 'byr': '1978', 'pid': '579525362'}\n",
      "7\n",
      "{'ecl': 'oth', 'hcl': '#18171d', 'cid': '76', 'iyr': '2011', 'eyr': '2021', 'byr': '1953', 'hgt': '173cm', 'pid': '976483712'}\n",
      "8\n",
      "{'ecl': 'brn', 'hcl': '#fffffd', 'cid': '242', 'pid': '588299934', 'hgt': '69in', 'byr': '1947', 'iyr': '2010', 'eyr': '2030'}\n",
      "8\n",
      "{'hcl': '#fffffd', 'ecl': 'gry', 'cid': '93', 'pid': '731904973', 'byr': '1939', 'eyr': '2029', 'iyr': '2016'}\n",
      "7\n",
      "{'pid': '96716037', 'iyr': '1938', 'eyr': '2032', 'hgt': '192', 'ecl': 'gmt', 'byr': '2029', 'hcl': '02edc5'}\n",
      "7\n",
      "{'byr': '1958', 'iyr': '2011', 'eyr': '2029', 'ecl': 'gry', 'pid': '526931024', 'hcl': 'z', 'hgt': '59cm'}\n",
      "7\n",
      "{'byr': '1966', 'ecl': 'hzl', 'pid': '378066668', 'hcl': '#c0946f', 'iyr': '2017', 'eyr': '2026', 'cid': '142', 'hgt': '184cm'}\n",
      "8\n",
      "{'pid': '1134356373', 'iyr': '2019', 'ecl': 'grn', 'hcl': '#ceb3a1', 'byr': '1950', 'hgt': '154in'}\n",
      "6\n",
      "{'hgt': '157cm', 'ecl': 'zzz', 'byr': '1976', 'pid': '5047305958', 'iyr': '2013', 'hcl': '#341e13'}\n",
      "6\n",
      "{'eyr': '2024', 'hcl': '#a97842', 'hgt': '179cm', 'pid': '543943316', 'cid': '214', 'ecl': 'brn', 'byr': '1999', 'iyr': '2017'}\n",
      "8\n",
      "{'byr': '1983', 'eyr': '2024', 'hgt': '177cm', 'ecl': 'hzl', 'iyr': '2013', 'pid': '328883228', 'hcl': '#ceb3a1'}\n",
      "7\n",
      "{'cid': '226', 'pid': '262286178', 'iyr': '2010', 'ecl': 'grn', 'byr': '1962', 'eyr': '2025', 'hcl': '#efcc98', 'hgt': '60in'}\n",
      "8\n",
      "{'iyr': '2029', 'ecl': '#559ffe', 'hcl': 'z', 'cid': '156', 'byr': '2003', 'hgt': '178', 'pid': '93994500'}\n",
      "7\n",
      "{'iyr': '2026', 'hcl': '#eda7f3', 'ecl': 'amb', 'byr': '1921', 'eyr': '2021', 'pid': '153cm'}\n",
      "6\n",
      "{'byr': '1988', 'ecl': 'amb', 'hgt': '178cm', 'hcl': '#2aea45', 'pid': '70722502', 'eyr': '2027', 'iyr': '2015'}\n",
      "7\n",
      "{'pid': '555636800', 'eyr': '2020', 'hgt': '182cm', 'iyr': '2019', 'byr': '1948', 'cid': '325', 'hcl': '#733820'}\n",
      "7\n",
      "{'eyr': '1973', 'iyr': '2024', 'hcl': 'z', 'byr': '2028', 'ecl': 'dne', 'cid': '169', 'pid': '43596015', 'hgt': '170in'}\n",
      "8\n",
      "{'hcl': '#b6652a', 'ecl': 'gry', 'cid': '264', 'hgt': '178cm', 'iyr': '2027', 'pid': '23042405', 'byr': '1947', 'eyr': '2024'}\n",
      "8\n",
      "{'byr': '1989', 'pid': '266274644', 'ecl': 'blu', 'eyr': '2023', 'hcl': '#733820', 'hgt': '192cm', 'iyr': '2018', 'cid': '272'}\n",
      "8\n",
      "{'iyr': '2013', 'hcl': 'z', 'hgt': '73cm', 'byr': '2014', 'pid': '192cm', 'ecl': '#1627a7'}\n",
      "6\n",
      "{'pid': '816749378', 'hgt': '178cm', 'hcl': '#733820', 'eyr': '2029', 'byr': '1993'}\n",
      "5\n",
      "{'hcl': '0cacc5', 'byr': '1944', 'iyr': '2028', 'eyr': '2024', 'hgt': '163in', 'pid': '74169361', 'ecl': 'dne'}\n",
      "7\n",
      "{'hcl': '#ceb3a1', 'ecl': 'grn', 'eyr': '2027', 'pid': '481186415', 'hgt': '176cm', 'cid': '325', 'byr': '1986'}\n",
      "7\n",
      "{'eyr': '2028', 'hgt': '174cm', 'ecl': 'brn', 'hcl': '#888785', 'iyr': '2015', 'pid': '064161451', 'byr': '1969'}\n",
      "7\n",
      "{'ecl': 'brn', 'cid': '323', 'hgt': '167', 'byr': '1993', 'iyr': '1953', 'hcl': 'z', 'eyr': '2023', 'pid': '161542750'}\n",
      "8\n",
      "{'ecl': '#895336', 'eyr': '2033', 'hgt': '67cm', 'cid': '254', 'iyr': '1967', 'hcl': 'z', 'byr': '1954'}\n",
      "7\n",
      "{'ecl': '#9dbea3', 'iyr': '2018', 'eyr': '2035', 'hgt': '183', 'pid': '747501524', 'hcl': '#fd8515', 'cid': '110', 'byr': '1997'}\n",
      "8\n",
      "{'ecl': 'utc', 'iyr': '2014', 'hgt': '183in', 'byr': '2007', 'eyr': '2026', 'hcl': '#cfa07d', 'cid': '334'}\n",
      "7\n",
      "{'ecl': 'gry', 'hcl': '#b6652a', 'pid': '250420128', 'eyr': '2024', 'byr': '1939', 'hgt': '170cm'}\n",
      "6\n",
      "{'hcl': '#18171d', 'eyr': '2030', 'byr': '1925', 'pid': '204206116', 'iyr': '2014', 'hgt': '174cm', 'ecl': 'hzl'}\n",
      "7\n",
      "{'iyr': '2020', 'hcl': '#efcc98', 'pid': '393444692', 'ecl': 'oth', 'hgt': '152cm', 'byr': '1957', 'eyr': '2021'}\n",
      "7\n",
      "{'byr': '1973', 'eyr': '2024', 'iyr': '2014', 'hcl': '#602927', 'pid': '832320186', 'hgt': '166cm', 'ecl': 'grn'}\n",
      "7\n",
      "{'pid': '192524664', 'hgt': '182cm', 'hcl': '#18171d', 'ecl': 'oth', 'eyr': '2030', 'byr': '1942', 'iyr': '2013'}\n",
      "7\n",
      "{'hgt': '129', 'byr': '2016', 'hcl': '6734a1', 'ecl': '#915282', 'iyr': '1949', 'cid': '130', 'pid': '677408864', 'eyr': '2030'}\n",
      "8\n",
      "{'eyr': '2028', 'ecl': 'gry', 'hgt': '171cm', 'byr': '1960', 'iyr': '2020', 'pid': '688526729', 'cid': '262', 'hcl': '#733820'}\n",
      "8\n",
      "{'ecl': 'grn', 'iyr': '2019', 'pid': '775867641', 'hcl': '#bf1e29', 'byr': '1920', 'hgt': '163cm'}\n",
      "6\n",
      "{'eyr': '2029', 'hcl': '#866857', 'iyr': '2024', 'pid': '170cm', 'byr': '1931', 'hgt': '177cm', 'ecl': 'hzl', 'cid': '312'}\n",
      "8\n",
      "{'iyr': '2019', 'ecl': '#19fef5', 'pid': '2080468234', 'eyr': '2008', 'hgt': '72', 'hcl': 'e14dfe', 'byr': '1980', 'cid': '272'}\n",
      "8\n",
      "{'byr': '2025', 'cid': '163', 'iyr': '2020', 'pid': '758946748', 'hgt': '161cm', 'ecl': 'amb', 'eyr': '2023', 'hcl': '026d4d'}\n",
      "8\n",
      "{'iyr': '2021', 'cid': '109', 'eyr': '2032', 'byr': '2010', 'hcl': '#fffffd', 'pid': '874586711', 'ecl': 'hzl', 'hgt': '142'}\n",
      "8\n",
      "{'eyr': '2023', 'hcl': 'z', 'iyr': '2019', 'byr': '2013', 'ecl': '#b42611', 'pid': '164cm', 'hgt': '60cm'}\n",
      "7\n",
      "{'byr': '1935', 'cid': '226', 'hcl': '#602927', 'ecl': 'blu', 'pid': '700452129', 'eyr': '2029', 'iyr': '2016', 'hgt': '180cm'}\n",
      "8\n",
      "{'hgt': '179cm', 'pid': '181cm', 'ecl': 'gry', 'cid': '309', 'eyr': '2029', 'hcl': '#6b5442', 'byr': '1987', 'iyr': '2010'}\n",
      "8\n",
      "{'ecl': 'gry', 'byr': '1986', 'hcl': '#cce4b8', 'pid': '101583943', 'iyr': '2010', 'hgt': '65cm', 'eyr': '2021'}\n",
      "7\n",
      "{'cid': '168', 'pid': '#8556c9', 'hcl': '413944', 'eyr': '2036', 'byr': '2013', 'iyr': '2012', 'ecl': '#66dc1c', 'hgt': '59cm'}\n",
      "8\n",
      "{'eyr': '1984', 'byr': '2017', 'pid': '#cbc84e', 'hcl': 'z', 'cid': '189', 'iyr': '2021', 'ecl': 'blu', 'hgt': '152cm'}\n",
      "8\n",
      "{'byr': '1993', 'hcl': '#004c11', 'eyr': '2026', 'iyr': '2010', 'ecl': 'brn', 'hgt': '188cm', 'pid': '889959941'}\n",
      "7\n",
      "{'hgt': '172', 'byr': '2008', 'eyr': '2030', 'iyr': '1959', 'ecl': 'oth', 'hcl': '#a8ebbb'}\n",
      "6\n",
      "{'iyr': '2013', 'hcl': '#8f97b1', 'hgt': '182cm', 'ecl': 'grn', 'cid': '89', 'eyr': '2029', 'byr': '1974'}\n",
      "7\n",
      "{'eyr': '2025', 'hcl': '#6b5442', 'pid': '222418968', 'byr': '1951', 'cid': '105', 'ecl': 'hzl', 'iyr': '2011', 'hgt': '181cm'}\n",
      "8\n",
      "{'iyr': '2017', 'ecl': 'brn', 'pid': '481721303', 'hgt': '190cm', 'eyr': '2037', 'byr': '1990', 'hcl': '#ceb3a1'}\n",
      "7\n",
      "{'hcl': 'z', 'pid': '85905429', 'byr': '1923', 'cid': '260', 'eyr': '2031', 'ecl': 'gry', 'iyr': '2022', 'hgt': '180cm'}\n",
      "8\n",
      "{'hcl': '#fffffd', 'hgt': '76cm', 'ecl': 'grn', 'pid': '39254112', 'byr': '2010', 'iyr': '1961', 'eyr': '2028'}\n",
      "7\n",
      "{'ecl': 'brn', 'iyr': '2016', 'eyr': '2027', 'hcl': '#efcc98', 'pid': '753268957', 'hgt': '60in', 'byr': '1943'}\n",
      "7\n",
      "{'ecl': 'oth', 'pid': '087762106', 'hgt': '190cm', 'byr': '1974', 'cid': '171', 'hcl': '#c63f21', 'eyr': '2020'}\n",
      "7\n",
      "{'ecl': '#8c1b6c', 'byr': '1962', 'iyr': '2007', 'pid': '106672731', 'hgt': '172in', 'cid': '239', 'eyr': '2026', 'hcl': '#b6652a'}\n",
      "8\n",
      "{'hgt': '170cm', 'eyr': '2021', 'cid': '219', 'hcl': '#a97842', 'pid': '040224991', 'byr': '1950', 'iyr': '2018'}\n",
      "7\n",
      "{'byr': '2029', 'eyr': '2036', 'cid': '309', 'iyr': '2016', 'hgt': '167cm', 'hcl': '#fffffd', 'ecl': '#1ab23b'}\n",
      "7\n",
      "{'iyr': '2013', 'ecl': 'gry', 'eyr': '2020', 'pid': '947828194', 'hcl': '#18171d', 'hgt': '163cm', 'byr': '1971'}\n",
      "7\n",
      "{'hcl': '#fffffd', 'iyr': '2011', 'pid': '150105713', 'eyr': '2029', 'hgt': '168cm', 'byr': '1925', 'ecl': 'hzl'}\n",
      "7\n",
      "{'cid': '253', 'hcl': '#341e13', 'eyr': '2025', 'hgt': '184cm', 'pid': '651786830', 'byr': '1936', 'iyr': '2013', 'ecl': 'hzl'}\n",
      "8\n",
      "{'pid': '7328393469', 'hgt': '175cm', 'ecl': 'gry', 'iyr': '2012', 'byr': '1963', 'hcl': '#623a2f', 'eyr': '2026'}\n",
      "7\n",
      "{'eyr': '2029', 'pid': '669044398', 'hgt': '161cm', 'hcl': '#cfa07d', 'ecl': 'gry', 'iyr': '2018'}\n",
      "6\n",
      "{'pid': '920006222', 'byr': '1941', 'ecl': 'grn', 'eyr': '2027', 'cid': '87', 'hcl': '#733820', 'iyr': '2018', 'hgt': '171cm'}\n",
      "8\n",
      "{'byr': '1964', 'hgt': '157cm', 'hcl': '#a97842', 'pid': '756972774', 'eyr': '2024', 'iyr': '2013', 'ecl': 'gry'}\n",
      "7\n",
      "{'iyr': '2010', 'cid': '279', 'hgt': '189cm', 'byr': '1959', 'ecl': 'brn', 'eyr': '2022', 'pid': '937686753', 'hcl': '#602927'}\n",
      "8\n",
      "{'iyr': '2013', 'eyr': '2027', 'cid': '223', 'pid': '145547438', 'hcl': '#6e6f47', 'hgt': '165cm', 'ecl': 'amb'}\n",
      "7\n",
      "{'byr': '2009', 'ecl': 'oth', 'hcl': '#623a2f', 'hgt': '166cm', 'eyr': '2034', 'pid': '120339592', 'iyr': '2012'}\n",
      "7\n",
      "{'eyr': '2026', 'hcl': 'z', 'byr': '2018', 'pid': '7809314464', 'iyr': '2012', 'hgt': '158cm', 'ecl': 'hzl'}\n",
      "7\n",
      "{'cid': '291', 'hgt': '168', 'ecl': '#7734de', 'iyr': '2021', 'hcl': '5b4ef1', 'pid': '3381158334', 'eyr': '1956', 'byr': '2003'}\n",
      "8\n",
      "{'iyr': '2015', 'hcl': '#cfa07d', 'byr': '1971', 'eyr': '2023', 'ecl': 'oth', 'pid': '560419063', 'cid': '155', 'hgt': '170cm'}\n",
      "8\n",
      "{'eyr': '2021', 'hgt': '189cm', 'iyr': '2014', 'hcl': '#6b5442', 'ecl': 'brn', 'cid': '287', 'byr': '1951', 'pid': '936881112'}\n",
      "8\n",
      "{'iyr': '2013', 'eyr': '2020', 'ecl': 'hzl', 'hgt': '150cm', 'cid': '210', 'pid': '032458640', 'byr': '1920', 'hcl': '#6b5442'}\n",
      "8\n",
      "{'hgt': '180cm', 'hcl': '#cfa07d', 'ecl': 'grn', 'eyr': '2027', 'pid': '140859202', 'iyr': '2014', 'cid': '232', 'byr': '1932'}\n",
      "8\n",
      "{'pid': '68300657', 'byr': '1988', 'hgt': '181cm', 'ecl': 'hzl', 'iyr': '1951', 'hcl': 'e18469', 'eyr': '2013'}\n",
      "7\n",
      "{'pid': '157572693', 'hgt': '185cm', 'hcl': '#065fe8', 'ecl': 'gry', 'eyr': '2027', 'iyr': '2014'}\n",
      "6\n",
      "{'eyr': '2029', 'hgt': '164cm', 'hcl': 'z', 'ecl': 'grn', 'cid': '270', 'iyr': '2019', 'byr': '1993', 'pid': '338068138'}\n",
      "8\n",
      "{'iyr': '2016', 'cid': '131', 'byr': '1990', 'hcl': '#7d3b0c', 'ecl': 'grn', 'pid': '066023454', 'hgt': '154cm', 'eyr': '2025'}\n",
      "8\n",
      "{'iyr': '2019', 'eyr': '2024', 'hgt': '174cm', 'pid': '855792798', 'byr': '1920', 'hcl': '#cfa07d'}\n",
      "6\n",
      "{'eyr': '2020', 'hgt': '74in', 'iyr': '2013', 'ecl': 'amb', 'byr': '1920', 'hcl': '3f6214', 'pid': '957164804'}\n",
      "7\n",
      "{'pid': '756767000', 'hcl': '#220540', 'byr': '1922', 'hgt': '172cm', 'eyr': '2023', 'cid': '305', 'ecl': 'hzl', 'iyr': '2019'}\n",
      "8\n",
      "{'hgt': '193in', 'eyr': '2025', 'pid': '117240526', 'iyr': '2017', 'hcl': '#888785', 'byr': '1928', 'ecl': 'blu'}\n",
      "7\n",
      "{'byr': '1942', 'ecl': 'blu', 'cid': '347', 'hcl': '#fffffd', 'eyr': '2023', 'iyr': '2017', 'hgt': '154cm', 'pid': '836554235'}\n",
      "8\n",
      "{'eyr': '2023', 'hcl': '#efcc98', 'pid': '364475403', 'byr': '1962', 'iyr': '2015', 'ecl': 'brn', 'hgt': '59in', 'cid': '289'}\n",
      "8\n",
      "{'byr': '2021', 'hcl': 'ca4bcf', 'hgt': '88', 'iyr': '2017', 'ecl': 'gmt', 'pid': '181cm', 'eyr': '2032'}\n",
      "7\n",
      "{'byr': '1937', 'iyr': '2014', 'hgt': '154cm', 'ecl': 'brn', 'hcl': '#866857', 'eyr': '2022', 'pid': '234591437'}\n",
      "7\n",
      "{'iyr': '2002', 'cid': '139', 'byr': '1982', 'hcl': '#c0946f', 'pid': '#62721b', 'hgt': '159in', 'eyr': '1966', 'ecl': 'brn'}\n",
      "8\n",
      "{'eyr': '2036', 'ecl': 'oth', 'byr': '2026', 'hgt': '96', 'pid': '137651094', 'hcl': 'z'}\n",
      "6\n",
      "{'pid': '373485985', 'iyr': '2030', 'ecl': 'gry', 'byr': '2011', 'hgt': '65cm', 'hcl': '#733820'}\n",
      "6\n",
      "{'pid': '390979357', 'ecl': 'gry', 'hgt': '164cm', 'hcl': '#ceb3a1', 'eyr': '2029', 'byr': '1932', 'iyr': '2015'}\n",
      "7\n",
      "{'ecl': 'hzl', 'hgt': '68in', 'eyr': '2023', 'pid': '829734763', 'iyr': '2016', 'hcl': '#733820', 'byr': '1997'}\n",
      "7\n",
      "{'hgt': '150cm', 'byr': '1926', 'iyr': '2019', 'pid': '521908229', 'eyr': '2029', 'ecl': 'brn', 'hcl': '#623a2f'}\n",
      "7\n",
      "{'eyr': '2023', 'byr': '1974', 'iyr': '2018', 'cid': '58', 'ecl': 'grn', 'pid': '310883188', 'hcl': '#866857', 'hgt': '164cm'}\n",
      "8\n",
      "{'byr': '1963', 'iyr': '2019', 'hgt': '162cm', 'eyr': '2021', 'hcl': '#fffffd', 'ecl': 'oth', 'pid': '104734523'}\n",
      "7\n",
      "{'hcl': '#888785', 'cid': '150', 'eyr': '2020', 'byr': '1988', 'iyr': '2018', 'ecl': 'oth', 'hgt': '179cm', 'pid': '635972018'}\n",
      "8\n",
      "{'iyr': '2014', 'hcl': '#7d3b0c', 'ecl': 'hzl', 'pid': '717760687', 'byr': '1929', 'eyr': '2027', 'hgt': '183cm'}\n",
      "7\n",
      "{'iyr': '2019', 'byr': '2000', 'eyr': '2025', 'pid': '506581828', 'hcl': '#602927', 'ecl': 'oth', 'hgt': '162cm'}\n",
      "7\n",
      "{'pid': '#fd3377', 'ecl': '#618bce', 'hcl': '#ceb3a1', 'iyr': '1944', 'hgt': '182cm', 'cid': '57', 'byr': '2022', 'eyr': '1995'}\n",
      "8\n",
      "{'pid': '4790730010', 'hgt': '192cm', 'cid': '222', 'byr': '2022', 'hcl': '4798e7', 'ecl': '#5126d5', 'iyr': '1954', 'eyr': '2040'}\n",
      "8\n",
      "{'hcl': '#b6652a', 'ecl': 'brn', 'cid': '181', 'pid': '983890186', 'hgt': '189cm', 'byr': '1998', 'eyr': '2022', 'iyr': '2011'}\n",
      "8\n",
      "{'iyr': '2018', 'eyr': '2022', 'cid': '58', 'byr': '1994', 'hgt': '169cm', 'ecl': 'hzl', 'pid': '036522894', 'hcl': '#2c9ee8'}\n",
      "8\n",
      "{'iyr': '1979', 'hcl': 'e09b9c', 'byr': '2016', 'hgt': '121', 'eyr': '1962', 'pid': '#fb14be', 'cid': '265', 'ecl': 'lzr'}\n",
      "8\n",
      "{'eyr': '2024', 'hgt': '63in', 'hcl': '#efcc98', 'iyr': '2018', 'byr': '1953', 'pid': '881102827', 'ecl': 'amb'}\n",
      "7\n",
      "{'ecl': 'oth', 'hgt': '177cm', 'eyr': '2028', 'iyr': '2011', 'hcl': '#efcc98', 'pid': '113579849', 'byr': '1957'}\n",
      "7\n",
      "{'ecl': '#fe1b74', 'iyr': '1926', 'hgt': '70cm', 'pid': '70807766', 'hcl': '556dca', 'byr': '2030', 'eyr': '2032'}\n",
      "7\n",
      "{'byr': '1997', 'ecl': 'blu', 'hgt': '105', 'pid': '178655906', 'iyr': '2025', 'hcl': '#6b5442', 'eyr': '2021'}\n",
      "7\n",
      "{'eyr': '2030', 'ecl': 'grt', 'hgt': '161cm', 'hcl': '#ceb3a1', 'iyr': '2016', 'pid': '318930966', 'cid': '59', 'byr': '1924'}\n",
      "8\n",
      "{'cid': '200', 'hgt': '67in', 'pid': '229395752', 'byr': '1936', 'ecl': 'oth', 'iyr': '2013', 'eyr': '2020', 'hcl': '#c0946f'}\n",
      "8\n",
      "{'byr': '1990', 'iyr': '2018', 'cid': '99', 'hcl': '#6b5442', 'hgt': '155', 'pid': '350832537', 'ecl': 'blu', 'eyr': '2021'}\n",
      "8\n",
      "{'eyr': '2039', 'byr': '2025', 'pid': '247367429', 'hcl': 'z', 'iyr': '2013', 'ecl': 'amb', 'cid': '118'}\n",
      "7\n",
      "{'eyr': '2027', 'hcl': 'z', 'ecl': 'utc', 'cid': '274', 'hgt': '175in', 'iyr': '2016', 'byr': '1977', 'pid': '478855994'}\n",
      "8\n",
      "{'eyr': '2020', 'pid': '636743032', 'hcl': '#64a8b8', 'iyr': '2018', 'ecl': 'grn', 'hgt': '68in', 'byr': '1969'}\n",
      "7\n",
      "{'pid': '515635081', 'iyr': '2013', 'byr': '1980', 'eyr': '2024', 'hgt': '173cm', 'ecl': 'gry', 'hcl': '#b6652a'}\n",
      "7\n",
      "{'ecl': 'utc', 'byr': '2026', 'iyr': '1999', 'eyr': '1937', 'hgt': '66cm', 'hcl': 'z', 'pid': '2247643960'}\n",
      "7\n",
      "{'iyr': '2013', 'byr': '1942', 'hgt': '154cm', 'eyr': '2020', 'hcl': '#18171d', 'cid': '323', 'pid': '302753381', 'ecl': 'oth'}\n",
      "8\n",
      "{'ecl': 'xry', 'pid': '346719476', 'iyr': '1999', 'eyr': '2020', 'hgt': '154cm', 'hcl': 'z', 'byr': '2027'}\n",
      "7\n",
      "{'hgt': '160cm', 'eyr': '2025', 'hcl': '#fffffd', 'byr': '1998', 'pid': '678119271', 'ecl': 'blu', 'iyr': '2014'}\n",
      "7\n",
      "{'hgt': '161cm', 'iyr': '2011', 'ecl': 'blu', 'byr': '1921', 'pid': '236833613', 'eyr': '2021', 'hcl': '#623a2f'}\n",
      "7\n",
      "{'ecl': 'hzl', 'hcl': '#18171d', 'hgt': '151cm', 'pid': '541887993', 'byr': '1995', 'iyr': '2019', 'eyr': '2021'}\n",
      "7\n",
      "{'pid': '496474711', 'byr': '1966', 'ecl': 'gry', 'eyr': '2025', 'hgt': '176cm', 'hcl': '#b6652a', 'iyr': '2018'}\n",
      "7\n",
      "{'iyr': '2010', 'hcl': '#efcc98', 'pid': '351846405', 'eyr': '2024', 'hgt': '150cm', 'byr': '1941'}\n",
      "6\n",
      "{'hgt': '151cm', 'ecl': 'gry', 'hcl': '#a97842', 'pid': '586789406', 'eyr': '2022', 'iyr': '2013', 'byr': '1982'}\n",
      "7\n",
      "{'byr': '1994', 'eyr': '2028', 'ecl': 'gry', 'hcl': '#888785', 'iyr': '2010', 'hgt': '165cm', 'cid': '183'}\n",
      "7\n",
      "{'iyr': '2015', 'byr': '1933', 'hcl': '#733820', 'hgt': '167cm', 'ecl': 'blu', 'pid': '914665208', 'eyr': '2027'}\n",
      "7\n",
      "{'eyr': '2031', 'hcl': '6804ef', 'ecl': 'amb', 'byr': '2024', 'hgt': '157cm', 'iyr': '1938', 'pid': '#0418fb'}\n",
      "7\n",
      "{'byr': '1936', 'ecl': 'oth', 'hgt': '190cm', 'cid': '91', 'pid': '711544430', 'iyr': '2020', 'eyr': '2025', 'hcl': '#888785'}\n",
      "8\n",
      "{'pid': '381452527', 'eyr': '2027', 'hcl': '#efcc98', 'ecl': 'brn', 'byr': '1956', 'hgt': '63in'}\n",
      "6\n",
      "{'ecl': 'oth', 'iyr': '2014', 'hcl': '#ceb3a1', 'cid': '254', 'pid': '544612871', 'byr': '1985', 'eyr': '2023', 'hgt': '172cm'}\n",
      "8\n",
      "{'hcl': '#efcc98', 'hgt': '191cm', 'byr': '1948', 'ecl': 'blu', 'eyr': '2028', 'pid': '953894279', 'iyr': '2017'}\n",
      "7\n",
      "{'byr': '1968', 'pid': '875469219', 'hcl': '#efcc98', 'hgt': '176cm', 'cid': '141', 'iyr': '2017'}\n",
      "6\n",
      "{'eyr': '2022', 'hcl': '#733820', 'ecl': 'hzl', 'pid': '870733357', 'iyr': '2013', 'byr': '1949', 'hgt': '150cm', 'cid': '252'}\n",
      "8\n",
      "{'ecl': 'gry', 'hcl': '#602927', 'pid': '632246684', 'byr': '1986', 'eyr': '2030', 'hgt': '152cm', 'iyr': '2013'}\n",
      "7\n",
      "{'eyr': '2029', 'iyr': '2016', 'byr': '1969', 'pid': '595125675', 'ecl': 'gry', 'hcl': '#cfa07d', 'hgt': '184cm'}\n",
      "7\n",
      "{'byr': '1947', 'hcl': 'z', 'cid': '188', 'eyr': '2038', 'pid': '177cm', 'iyr': '2011', 'hgt': '166cm', 'ecl': '#c1376b'}\n",
      "8\n",
      "{'ecl': 'hzl', 'hgt': '170cm', 'cid': '307', 'eyr': '2022', 'byr': '1971', 'hcl': '#b6652a', 'pid': '047040501'}\n",
      "7\n",
      "{'hgt': '126', 'ecl': 'zzz', 'byr': '2019', 'pid': '170207910', 'eyr': '2035', 'hcl': '23df48', 'iyr': '1932'}\n",
      "7\n",
      "{'hgt': '152cm', 'cid': '270', 'eyr': '2036', 'ecl': '#408f6e', 'iyr': '1952', 'pid': '5808880830', 'byr': '2022', 'hcl': '0b1ba6'}\n",
      "8\n",
      "{'eyr': '2021', 'hgt': '179cm', 'byr': '1938', 'pid': '140937061', 'iyr': '2030', 'hcl': '#a97842', 'ecl': 'oth'}\n",
      "7\n",
      "{'hgt': '67cm', 'eyr': '2028', 'pid': '816355657', 'iyr': '2019', 'byr': '2008', 'hcl': 'z', 'ecl': '#5b4f31'}\n",
      "7\n",
      "{'cid': '192', 'iyr': '2018', 'eyr': '2020', 'byr': '1983', 'pid': '873720366', 'ecl': 'grn', 'hgt': '187cm', 'hcl': '#6b5442'}\n",
      "8\n",
      "{'byr': '1955', 'hgt': '71in', 'iyr': '2018', 'pid': '320019385', 'hcl': '#6b5442', 'cid': '324', 'eyr': '2027'}\n",
      "7\n",
      "{'pid': '957860464', 'hcl': '#602927', 'iyr': '2011', 'byr': '2026', 'cid': '261', 'eyr': '2006'}\n",
      "6\n",
      "{'byr': '1989', 'ecl': 'gry', 'cid': '143', 'pid': '258434299', 'eyr': '2027', 'hgt': '192cm', 'iyr': '2017', 'hcl': '#7d3b0c'}\n",
      "8\n",
      "{'pid': '#1742ae', 'ecl': '#a61090', 'iyr': '2028', 'hcl': '717dd0', 'hgt': '139', 'cid': '183', 'eyr': '2035'}\n",
      "7\n",
      "{'eyr': '2028', 'pid': '039325804', 'hgt': '167cm', 'hcl': '#888785', 'ecl': 'oth', 'cid': '155', 'iyr': '2013', 'byr': '1923'}\n",
      "8\n",
      "{'byr': '1956', 'iyr': '2010', 'hcl': '#d683bf', 'eyr': '2023', 'hgt': '70in', 'cid': '197', 'pid': '143320690', 'ecl': 'hzl'}\n",
      "8\n",
      "{'ecl': '#4004e3', 'cid': '278', 'iyr': '1950', 'pid': '745107377', 'byr': '2007', 'eyr': '2036', 'hcl': '8447eb', 'hgt': '74cm'}\n",
      "8\n",
      "{'hcl': '#ceb3a1', 'hgt': '177cm', 'iyr': '2010', 'pid': '640032134', 'ecl': 'gry', 'eyr': '2027', 'byr': '1958'}\n",
      "7\n",
      "{'hgt': '187cm', 'iyr': '1921', 'ecl': '#1c7d96', 'eyr': '1987', 'byr': '2028', 'pid': '#28e5a1', 'cid': '144', 'hcl': '9fc25d'}\n",
      "8\n",
      "{'iyr': '2012', 'byr': '1996', 'cid': '289', 'hgt': '177cm', 'hcl': '#fffffd', 'pid': '687240168', 'eyr': '2030', 'ecl': 'gry'}\n",
      "8\n",
      "{'pid': '860410143', 'ecl': 'dne', 'eyr': '2031', 'cid': '206', 'hgt': '187in', 'byr': '1927', 'hcl': '8c2149', 'iyr': '2012'}\n",
      "8\n",
      "{'iyr': '2010', 'byr': '1963', 'cid': '139', 'pid': '160019759', 'eyr': '2030', 'hgt': '172cm', 'hcl': '#602927'}\n",
      "7\n",
      "{'pid': '309851270', 'iyr': '2014', 'ecl': 'hzl', 'byr': '1939', 'cid': '71', 'eyr': '2030', 'hcl': '#b216fb', 'hgt': '161cm'}\n",
      "8\n",
      "{'ecl': 'gry', 'cid': '138', 'iyr': '2014', 'hgt': '177cm', 'byr': '1942', 'pid': '900269082', 'eyr': '2024', 'hcl': '#fffffd'}\n",
      "8\n",
      "{'iyr': '2019', 'hgt': '158cm', 'hcl': '#18171d', 'pid': '941939350', 'eyr': '2024', 'ecl': 'brn', 'byr': '1944'}\n",
      "7\n",
      "{'byr': '2023', 'ecl': 'brn', 'cid': '101', 'eyr': '2016', 'pid': '190078757', 'hgt': '188in'}\n",
      "6\n",
      "{'cid': '188', 'ecl': 'blu', 'pid': '075499609', 'byr': '1970', 'hcl': '#fffffd', 'hgt': '164cm', 'eyr': '2028', 'iyr': '2015'}\n",
      "8\n",
      "{'byr': '2011', 'hcl': 'z', 'ecl': 'gry', 'pid': '408316491', 'hgt': '64cm', 'iyr': '2017', 'eyr': '1968'}\n",
      "7\n",
      "{'ecl': 'oth', 'hcl': '#6b5442', 'pid': '623099801', 'hgt': '163cm', 'byr': '1928'}\n",
      "5\n",
      "{'pid': '165230004', 'ecl': 'grn', 'byr': '1935', 'hcl': '#c0946f', 'iyr': '2012', 'hgt': '185cm'}\n",
      "6\n",
      "{'hgt': '162cm', 'pid': '069876432', 'byr': '1960', 'cid': '326', 'iyr': '2013', 'hcl': '#cfa07d', 'eyr': '2021', 'ecl': 'grn'}\n",
      "8\n",
      "{'ecl': '#f3d8ba', 'hgt': '182cm', 'eyr': '2020', 'byr': '2007', 'hcl': 'z', 'iyr': '2014', 'pid': '6141297559'}\n",
      "7\n",
      "{'pid': '867747198', 'hcl': '#efcc98', 'eyr': '2030', 'byr': '1989', 'hgt': '181cm'}\n",
      "5\n",
      "{'byr': '2000', 'eyr': '2021', 'hgt': '166cm', 'hcl': '#fffffd', 'iyr': '2019', 'pid': '546346187', 'cid': '111', 'ecl': 'grn'}\n",
      "8\n",
      "{'eyr': '2034', 'hcl': '#623a2f', 'byr': '1958', 'pid': '60553207', 'ecl': '#76b538', 'hgt': '59', 'cid': '75'}\n",
      "7\n",
      "{'hcl': '#623a2f', 'eyr': '2023', 'pid': '251940892', 'byr': '1998', 'iyr': '2012', 'hgt': '181cm', 'ecl': 'gry'}\n",
      "7\n",
      "{'iyr': '2020', 'cid': '83', 'byr': '1938', 'eyr': '2024', 'ecl': 'amb', 'pid': '046668488', 'hgt': '181cm', 'hcl': '#341e13'}\n",
      "8\n",
      "{'ecl': 'grn', 'eyr': '2036', 'iyr': '1951', 'byr': '2029', 'hcl': 'z', 'hgt': '177in', 'pid': '135470038'}\n",
      "7\n",
      "{'iyr': '2015', 'eyr': '2023', 'byr': '1961', 'cid': '81', 'hcl': '#a97842', 'pid': '710065884', 'hgt': '152cm', 'ecl': '#1f9801'}\n",
      "8\n",
      "{'byr': '2014', 'pid': '25253929', 'hcl': 'z', 'ecl': '#f3fb41', 'eyr': '2025', 'cid': '255', 'iyr': '1998', 'hgt': '155cm'}\n",
      "8\n",
      "{'ecl': 'gry', 'pid': '919070381', 'hcl': '#efcc98', 'iyr': '2019', 'eyr': '2021', 'byr': '1995'}\n",
      "6\n",
      "{'byr': '1942', 'eyr': '2029', 'hgt': '191cm', 'hcl': '#18171d', 'pid': '649719423', 'iyr': '2018', 'ecl': 'brn'}\n",
      "7\n",
      "{'ecl': 'gry', 'byr': '1963', 'iyr': '2016', 'hgt': '188cm', 'pid': '024539026', 'eyr': '2022'}\n",
      "6\n",
      "{'hgt': '176cm', 'ecl': 'hzl', 'eyr': '1923', 'pid': '176188310', 'hcl': '#b6652a', 'byr': '1939', 'iyr': '2011'}\n",
      "7\n",
      "{'iyr': '2011', 'hcl': '#888785', 'eyr': '2030', 'ecl': 'gry', 'byr': '1920'}\n",
      "5\n",
      "{'pid': '#0468a7', 'hcl': '851fe0', 'eyr': '2036', 'hgt': '60cm', 'byr': '2030', 'iyr': '1995', 'ecl': 'utc'}\n",
      "7\n",
      "{'hcl': '#866857', 'iyr': '2016', 'ecl': 'oth', 'pid': '414233531', 'eyr': '2022', 'byr': '1957', 'hgt': '169cm', 'cid': '229'}\n",
      "8\n",
      "{'cid': '185', 'ecl': '#5f6f53', 'pid': '#20f317', 'byr': '2024', 'eyr': '1988', 'hcl': 'z', 'iyr': '2023', 'hgt': '158in'}\n",
      "8\n",
      "{'pid': '015894427', 'eyr': '2027', 'hgt': '177cm', 'ecl': 'blu', 'cid': '222', 'hcl': '#c0946f', 'iyr': '2010', 'byr': '1993'}\n",
      "8\n",
      "{'cid': '101', 'hgt': '162cm', 'hcl': '#c0946f', 'pid': '666662343', 'ecl': 'grn', 'byr': '1974', 'iyr': '2019', 'eyr': '2029'}\n",
      "8\n",
      "{'pid': '782547454', 'hcl': 'z', 'ecl': '#b0805f', 'iyr': '2013', 'eyr': '2023', 'hgt': '159cm', 'byr': '1935', 'cid': '230'}\n",
      "8\n",
      "{'pid': '298008321', 'hcl': '231e1b', 'hgt': '166cm', 'ecl': 'oth', 'iyr': '2026', 'eyr': '2020'}\n",
      "6\n",
      "{'pid': '230201309', 'iyr': '2010', 'eyr': '2025', 'hcl': '#6b5442', 'cid': '238', 'ecl': 'grn', 'hgt': '174cm'}\n",
      "7\n",
      "{'cid': '287', 'eyr': '2026', 'hcl': '#733820', 'pid': '201750712', 'iyr': '2010', 'ecl': 'oth', 'byr': '1985', 'hgt': '185cm'}\n",
      "8\n",
      "{'hcl': '#a97842', 'hgt': '70in', 'eyr': '2029', 'pid': '419407059', 'ecl': 'grn', 'byr': '1987', 'iyr': '2016'}\n",
      "7\n",
      "{'hgt': '191cm', 'byr': '1951', 'eyr': '2027', 'hcl': '#8a9477', 'iyr': '2015', 'ecl': 'amb', 'pid': '769071985'}\n",
      "7\n",
      "{'hcl': '#6b5442', 'iyr': '2012', 'ecl': 'blu', 'cid': '336', 'pid': '391608810', 'byr': '1995', 'eyr': '2022', 'hgt': '161cm'}\n",
      "8\n",
      "{'iyr': '2020', 'byr': '1938', 'pid': '927067439', 'eyr': '2027', 'hgt': '173cm', 'hcl': '306963', 'ecl': 'xry'}\n",
      "7\n",
      "{'byr': '1991', 'iyr': '2021', 'hgt': '175cm', 'hcl': '68b4f3', 'ecl': 'utc', 'pid': '037777327', 'eyr': '2026'}\n",
      "7\n",
      "{'hgt': '64in', 'eyr': '2025', 'hcl': '#da6977', 'cid': '137', 'byr': '1990', 'iyr': '2013', 'pid': '918997697', 'ecl': 'amb'}\n",
      "8\n",
      "{'iyr': '2011', 'ecl': 'gry', 'hgt': '173cm', 'eyr': '2023', 'pid': '802831612', 'hcl': '#733820', 'byr': '1976'}\n",
      "7\n",
      "{'byr': '1938', 'eyr': '2021', 'pid': '575395401', 'cid': '234', 'hcl': '#866857', 'ecl': 'hzl', 'hgt': '176cm'}\n",
      "7\n",
      "{'hcl': '#ceb3a1', 'ecl': 'hzl', 'eyr': '2035', 'iyr': '2014', 'byr': '2019'}\n",
      "5\n",
      "{'ecl': 'hzl', 'pid': '961361236', 'hgt': '193cm', 'hcl': '#efcc98', 'iyr': '2011', 'eyr': '2030', 'byr': '1967'}\n",
      "7\n",
      "{'eyr': '1936', 'ecl': 'blu', 'hgt': '153cm', 'hcl': '98d3f0', 'pid': '7296832671', 'byr': '1931', 'iyr': '1962'}\n",
      "7\n",
      "{'iyr': '2016', 'eyr': '2024', 'hcl': '#6b5442', 'ecl': 'grn', 'pid': '265815316', 'byr': '1966', 'hgt': '165cm'}\n",
      "7\n",
      "{'pid': '203025149', 'eyr': '2029', 'iyr': '2010', 'cid': '124', 'byr': '1999', 'ecl': 'blu'}\n",
      "6\n",
      "{'iyr': '2011', 'eyr': '2028', 'pid': '#7e0612', 'byr': '1924', 'hcl': '#7d3b0c', 'ecl': 'oth', 'hgt': '82'}\n",
      "7\n",
      "{'ecl': 'hzl', 'byr': '1941', 'hcl': '#b6652a', 'eyr': '2020', 'pid': '409573276', 'iyr': '1976', 'hgt': '166cm'}\n",
      "7\n",
      "{'ecl': 'grn', 'eyr': '2030', 'hgt': '163cm', 'iyr': '2011', 'pid': '121609314', 'byr': '1961', 'hcl': '#426e1a'}\n",
      "7\n",
      "{'pid': '#49ea2c', 'eyr': '2029', 'hcl': '#6b5442', 'iyr': '1931', 'hgt': '62cm', 'ecl': 'brn', 'byr': '2012'}\n",
      "7\n",
      "{'eyr': '2038', 'hcl': '8d1f49', 'ecl': '#6d4ea1', 'pid': '0853660207', 'byr': '2020', 'hgt': '71cm'}\n",
      "6\n",
      "{'ecl': 'hzl', 'hgt': '170cm', 'iyr': '2011', 'byr': '1966', 'eyr': '2028', 'pid': '609548717', 'hcl': '#c0946f'}\n",
      "7\n",
      "{'byr': '1921', 'hcl': '#c0946f', 'ecl': 'blu', 'iyr': '2019', 'eyr': '2024', 'pid': '643387204'}\n",
      "6\n",
      "{'cid': '324', 'hgt': '162cm', 'ecl': 'amb', 'hcl': '#18171d', 'byr': '1961', 'eyr': '2027', 'iyr': '2010', 'pid': '939720354'}\n",
      "8\n",
      "{'byr': '1933', 'hcl': '#fffffd', 'pid': '353343882', 'eyr': '2025', 'hgt': '171cm', 'ecl': 'amb', 'cid': '329', 'iyr': '2017'}\n",
      "8\n",
      "{'byr': '2004', 'iyr': '2022', 'pid': '157cm', 'eyr': '2035', 'ecl': '#eafe47', 'hgt': '129', 'hcl': 'z'}\n",
      "7\n",
      "{'cid': '55', 'iyr': '2025', 'hgt': '177in', 'pid': '493884348', 'hcl': '#888785', 'byr': '1925', 'ecl': '#b11d27', 'eyr': '2036'}\n",
      "8\n",
      "{'ecl': 'hzl', 'hgt': '171cm', 'iyr': '2012', 'pid': '479669573', 'cid': '335', 'hcl': '#fffffd', 'byr': '1953', 'eyr': '2029'}\n",
      "8\n",
      "{'byr': '1930', 'hcl': '5bdf31', 'pid': '#b21f8a', 'hgt': '164cm', 'cid': '134', 'iyr': '2023', 'ecl': 'lzr'}\n",
      "7\n",
      "{'iyr': '2018', 'eyr': '2026', 'ecl': 'grn', 'pid': '541667478', 'hcl': '#6b5442', 'byr': '1992', 'hgt': '155cm'}\n",
      "7\n",
      "{'hcl': '2a1c4f', 'iyr': '2011', 'hgt': '192cm', 'eyr': '2028', 'byr': '2029', 'cid': '270', 'ecl': 'dne', 'pid': '7995627426'}\n",
      "8\n",
      "{'byr': '1929', 'ecl': 'oth', 'pid': '954905104', 'iyr': '2016', 'hgt': '68in', 'hcl': '#7d3b0c', 'eyr': '2020'}\n",
      "7\n",
      "{'cid': '167', 'byr': '2000', 'hgt': '186cm', 'iyr': '2013', 'hcl': '#ff4019', 'pid': '384287209', 'eyr': '2024', 'ecl': 'amb'}\n",
      "8\n",
      "{'eyr': '2022', 'iyr': '2018', 'byr': '1972', 'cid': '290', 'hgt': '170cm', 'ecl': 'grn', 'pid': '127269636'}\n",
      "7\n",
      "{'byr': '1997', 'ecl': 'amb', 'hgt': '150cm', 'pid': '056368047', 'hcl': '#fffffd', 'eyr': '2020', 'iyr': '2020'}\n",
      "7\n",
      "{'ecl': 'gry', 'hgt': '167in', 'byr': '2020', 'cid': '131', 'pid': '651833067', 'hcl': '#623a2f', 'iyr': '2027', 'eyr': '2038'}\n",
      "8\n",
      "{'hcl': '#56c370', 'iyr': '2014', 'byr': '1941', 'pid': '654258425', 'hgt': '184cm', 'eyr': '2025', 'ecl': 'hzl'}\n",
      "7\n",
      "{'pid': '571765355', 'byr': '2021', 'hcl': 'z', 'eyr': '1921', 'cid': '106', 'iyr': '1978', 'ecl': '#1162c5', 'hgt': '184in'}\n",
      "8\n",
      "{'iyr': '2015', 'hcl': '#18171d', 'cid': '237', 'pid': '348578306', 'ecl': 'blu', 'byr': '1988', 'eyr': '2025', 'hgt': '155cm'}\n",
      "8\n",
      "{'byr': '1963', 'hcl': '#733820', 'cid': '145', 'eyr': '2030', 'ecl': 'oth', 'pid': '964094037', 'hgt': '164cm', 'iyr': '2018'}\n",
      "8\n",
      "{'pid': '595618708', 'ecl': 'amb', 'hcl': '#866857', 'hgt': '186cm', 'eyr': '2024', 'byr': '1924', 'iyr': '2014'}\n",
      "7\n",
      "{'ecl': 'hzl', 'pid': '484466493', 'hgt': '176cm', 'iyr': '2016', 'byr': '1983', 'hcl': '#ceb3a1'}\n",
      "6\n",
      "{'ecl': 'gry', 'hcl': '#6b5442', 'hgt': '185cm', 'eyr': '2029', 'pid': '045583320', 'byr': '1974', 'iyr': '2020'}\n",
      "7\n",
      "{'ecl': 'brn', 'hcl': '352cf1', 'cid': '149', 'hgt': '184cm', 'byr': '2011', 'eyr': '2031', 'pid': '21942403', 'iyr': '2028'}\n",
      "8\n",
      "{'ecl': 'brn', 'eyr': '2029', 'pid': '083295950', 'byr': '1995', 'hgt': '176cm', 'hcl': '#c0946f', 'cid': '68', 'iyr': '2014'}\n",
      "8\n",
      "{'hgt': '170cm', 'byr': '1945', 'hcl': '#623a2f', 'iyr': '2013', 'pid': '912213595', 'ecl': 'gry', 'eyr': '2020'}\n",
      "7\n",
      "{'ecl': 'gry', 'hcl': '#18171d', 'iyr': '2015', 'hgt': '185cm', 'eyr': '2023', 'byr': '1950'}\n",
      "6\n",
      "{'byr': '1997', 'hgt': '68in', 'pid': '368643584', 'hcl': '#623a2f', 'ecl': 'hzl', 'eyr': '2029', 'iyr': '2012', 'cid': '239'}\n",
      "8\n",
      "{'iyr': '2003', 'eyr': '2020', 'cid': '99', 'byr': '2027', 'hcl': '2c10a6', 'hgt': '74cm', 'ecl': 'brn'}\n",
      "7\n",
      "{'pid': '151cm', 'hcl': '46a5fd', 'eyr': '2031', 'iyr': '2014', 'byr': '2005', 'ecl': 'xry', 'hgt': '176cm'}\n",
      "7\n",
      "{'byr': '2011', 'ecl': 'oth', 'pid': '821123244', 'iyr': '2022', 'hcl': '839b47', 'eyr': '2039', 'hgt': '150in'}\n",
      "7\n",
      "{'pid': '604669618', 'hgt': '152cm', 'iyr': '2013', 'byr': '1954', 'eyr': '2021', 'ecl': 'amb', 'hcl': '#623a2f'}\n",
      "7\n",
      "{'hgt': '182cm', 'byr': '1993', 'cid': '177', 'hcl': '#b6652a', 'ecl': 'gry', 'iyr': '2011', 'pid': '441649857', 'eyr': '2027'}\n",
      "8\n",
      "{'cid': '296', 'hgt': '98', 'ecl': 'grt', 'iyr': '2028', 'hcl': '#a97842', 'byr': '2022', 'pid': '69736889', 'eyr': '1935'}\n",
      "8\n",
      "{'iyr': '2016', 'hcl': '#cfa07d', 'byr': '1941', 'hgt': '182cm', 'pid': '720595987', 'ecl': 'gry', 'eyr': '2022'}\n",
      "7\n",
      "{'iyr': '2018', 'hgt': '164cm', 'hcl': '#650d28', 'byr': '1973', 'cid': '108', 'pid': '#b0df80', 'ecl': 'blu', 'eyr': '2020'}\n",
      "8\n",
      "{'hcl': 'z', 'pid': '315901778', 'iyr': '2013', 'byr': '1999', 'ecl': '#49f691', 'eyr': '2026', 'hgt': '179cm'}\n",
      "7\n",
      "{'byr': '1925', 'pid': '555786686', 'hgt': '189cm', 'hcl': '#cfa07d', 'iyr': '2012', 'ecl': 'gry', 'eyr': '2028'}\n",
      "7\n",
      "{'iyr': '2016', 'hgt': '168cm', 'eyr': '2027', 'cid': '60', 'ecl': 'gry', 'hcl': '#cfa07d', 'pid': '322944081', 'byr': '1993'}\n",
      "8\n",
      "{'pid': '163cm', 'hgt': '189cm', 'iyr': '1997', 'hcl': '03db25', 'eyr': '1970', 'byr': '2016', 'ecl': '#6c59eb'}\n",
      "7\n",
      "{'pid': '766719295', 'iyr': '2017', 'hgt': '168cm', 'hcl': 'z', 'ecl': 'grt', 'eyr': '2022', 'byr': '2010'}\n",
      "7\n",
      "{'hgt': '173cm', 'pid': '247156751', 'cid': '109', 'eyr': '2022', 'iyr': '2012', 'ecl': 'gry', 'byr': '1989'}\n",
      "7\n",
      "{'cid': '288', 'hcl': '77241f', 'hgt': '157cm', 'byr': '1956', 'pid': '587115461', 'iyr': '2016', 'ecl': 'lzr', 'eyr': '2034'}\n",
      "8\n",
      "{'hcl': '5307c9', 'ecl': '#cc4aff', 'pid': '#d80d30', 'cid': '224', 'hgt': '72cm', 'byr': '2025', 'eyr': '2039', 'iyr': '2025'}\n",
      "8\n",
      "{'eyr': '2027', 'byr': '2015', 'hgt': '184', 'hcl': '98fb9d', 'pid': '58151347', 'iyr': '2029'}\n",
      "6\n",
      "{'hgt': '183cm', 'cid': '187', 'byr': '2019', 'ecl': 'xry', 'iyr': '2013', 'pid': '164cm', 'hcl': '#18171d', 'eyr': '2021'}\n",
      "8\n"
     ]
    }
   ],
   "source": [
    "for hm in ooh:\n",
    "    print(len(to_dict_funct(hm)))"
   ]
  },
  {
   "cell_type": "code",
   "execution_count": 448,
   "metadata": {},
   "outputs": [
    {
     "name": "stdout",
     "output_type": "stream",
     "text": [
      "0\n",
      "{'eyr': '2033', 'hgt': '177cm', 'pid': '173cm', 'ecl': 'utc', 'byr': '2029', 'hcl': '#efcc98', 'iyr': '2023'}\n",
      "1\n",
      "{'pid': '337605855', 'cid': '249', 'byr': '1952', 'hgt': '155cm', 'ecl': 'grn', 'iyr': '2017', 'eyr': '2026', 'hcl': '#866857'}\n",
      "2\n",
      "{'cid': '242', 'iyr': '2011', 'pid': '953198122', 'eyr': '2029', 'ecl': 'blu', 'hcl': '#888785'}\n"
     ]
    },
    {
     "ename": "KeyError",
     "evalue": "'byr'",
     "output_type": "error",
     "traceback": [
      "\u001b[0;31m---------------------------------------------------------------------------\u001b[0m",
      "\u001b[0;31mKeyError\u001b[0m                                  Traceback (most recent call last)",
      "\u001b[0;32m<ipython-input-448-50722fc77211>\u001b[0m in \u001b[0;36m<module>\u001b[0;34m()\u001b[0m\n\u001b[1;32m      4\u001b[0m     \u001b[0mprint\u001b[0m\u001b[0;34m(\u001b[0m\u001b[0mi\u001b[0m\u001b[0;34m)\u001b[0m\u001b[0;34m\u001b[0m\u001b[0;34m\u001b[0m\u001b[0m\n\u001b[1;32m      5\u001b[0m     \u001b[0mi\u001b[0m\u001b[0;34m+=\u001b[0m\u001b[0;36m1\u001b[0m\u001b[0;34m\u001b[0m\u001b[0;34m\u001b[0m\u001b[0m\n\u001b[0;32m----> 6\u001b[0;31m     \u001b[0mvalidity\u001b[0m\u001b[0;34m(\u001b[0m\u001b[0mto_dict_funct\u001b[0m\u001b[0;34m(\u001b[0m\u001b[0mhm\u001b[0m\u001b[0;34m)\u001b[0m\u001b[0;34m)\u001b[0m\u001b[0;34m\u001b[0m\u001b[0;34m\u001b[0m\u001b[0m\n\u001b[0m",
      "\u001b[0;32m<ipython-input-390-b370b97fa902>\u001b[0m in \u001b[0;36mvalidity\u001b[0;34m(passport)\u001b[0m\n\u001b[1;32m      5\u001b[0m         \u001b[0;32mreturn\u001b[0m \u001b[0;32mFalse\u001b[0m\u001b[0;34m\u001b[0m\u001b[0;34m\u001b[0m\u001b[0m\n\u001b[1;32m      6\u001b[0m     \u001b[0;31m#numeric validation\u001b[0m\u001b[0;34m\u001b[0m\u001b[0;34m\u001b[0m\u001b[0;34m\u001b[0m\u001b[0m\n\u001b[0;32m----> 7\u001b[0;31m     \u001b[0;32mif\u001b[0m \u001b[0;32mnot\u001b[0m \u001b[0;34m(\u001b[0m \u001b[0;36m1920\u001b[0m \u001b[0;34m<=\u001b[0m \u001b[0mint\u001b[0m\u001b[0;34m(\u001b[0m\u001b[0mpassport\u001b[0m\u001b[0;34m[\u001b[0m\u001b[0;34m'byr'\u001b[0m\u001b[0;34m]\u001b[0m\u001b[0;34m)\u001b[0m \u001b[0;34m<=\u001b[0m \u001b[0;36m2002\u001b[0m\u001b[0;34m)\u001b[0m\u001b[0;34m:\u001b[0m\u001b[0;34m\u001b[0m\u001b[0;34m\u001b[0m\u001b[0m\n\u001b[0m\u001b[1;32m      8\u001b[0m         \u001b[0;32mreturn\u001b[0m \u001b[0;32mFalse\u001b[0m\u001b[0;34m\u001b[0m\u001b[0;34m\u001b[0m\u001b[0m\n\u001b[1;32m      9\u001b[0m     \u001b[0;32mif\u001b[0m \u001b[0;32mnot\u001b[0m \u001b[0;34m(\u001b[0m \u001b[0;36m2010\u001b[0m \u001b[0;34m<=\u001b[0m \u001b[0mint\u001b[0m\u001b[0;34m(\u001b[0m\u001b[0mpassport\u001b[0m\u001b[0;34m[\u001b[0m\u001b[0;34m'iyr'\u001b[0m\u001b[0;34m]\u001b[0m\u001b[0;34m)\u001b[0m \u001b[0;34m<=\u001b[0m \u001b[0;36m2020\u001b[0m\u001b[0;34m)\u001b[0m\u001b[0;34m:\u001b[0m\u001b[0;34m\u001b[0m\u001b[0;34m\u001b[0m\u001b[0m\n",
      "\u001b[0;31mKeyError\u001b[0m: 'byr'"
     ]
    }
   ],
   "source": [
    "i = 0\n",
    "for hm in ooh:\n",
    "#     to_dict_funct(hm)\n",
    "    print(i)\n",
    "    i+=1\n",
    "    validity(to_dict_funct(hm))"
   ]
  },
  {
   "cell_type": "code",
   "execution_count": 326,
   "metadata": {},
   "outputs": [
    {
     "data": {
      "text/plain": [
       "dict_keys(['eyr', 'cid', 'hcl', 'ecl', 'hgt', 'pid', 'iyr', 'byr'])"
      ]
     },
     "execution_count": 326,
     "metadata": {},
     "output_type": "execute_result"
    }
   ],
   "source": [
    "item.keys()"
   ]
  },
  {
   "cell_type": "code",
   "execution_count": 327,
   "metadata": {},
   "outputs": [
    {
     "data": {
      "text/plain": [
       "dict_keys(['eyr', 'ecl', 'cid', 'byr', 'iyr', 'pid', 'hcl', 'hgt'])"
      ]
     },
     "execution_count": 327,
     "metadata": {},
     "output_type": "execute_result"
    }
   ],
   "source": [
    "not_item.keys()"
   ]
  },
  {
   "cell_type": "code",
   "execution_count": 318,
   "metadata": {},
   "outputs": [
    {
     "name": "stdout",
     "output_type": "stream",
     "text": [
      ":(\n"
     ]
    }
   ],
   "source": [
    "grades = {\n",
    "        'alex' : 11,\n",
    "        'bob'  : 10,\n",
    "        'john' : 14,\n",
    "        'peter': 7\n",
    "       }\n",
    "students = ['alex', 'tim']\n",
    "if all(name in grades for name in students):\n",
    "    print(\"0\")\n",
    "else:\n",
    "    print(\":(\")\n",
    "    # whatever"
   ]
  },
  {
   "cell_type": "code",
   "execution_count": 331,
   "metadata": {},
   "outputs": [
    {
     "data": {
      "text/plain": [
       "{'byr': 1, 'iyr': 2, 'eyr': 3, 'hgt': 4, 'hcl': 5, 'ecl': 6, 'cid': 7}"
      ]
     },
     "execution_count": 331,
     "metadata": {},
     "output_type": "execute_result"
    }
   ],
   "source": [
    "#trashdic"
   ]
  },
  {
   "cell_type": "code",
   "execution_count": 335,
   "metadata": {},
   "outputs": [
    {
     "data": {
      "text/plain": [
       "'1926'"
      ]
     },
     "execution_count": 335,
     "metadata": {},
     "output_type": "execute_result"
    }
   ],
   "source": [
    "item['byr']"
   ]
  },
  {
   "cell_type": "code",
   "execution_count": 336,
   "metadata": {},
   "outputs": [
    {
     "data": {
      "text/plain": [
       "'170'"
      ]
     },
     "execution_count": 336,
     "metadata": {},
     "output_type": "execute_result"
    }
   ],
   "source": [
    "item['hgt']"
   ]
  },
  {
   "cell_type": "code",
   "execution_count": 340,
   "metadata": {},
   "outputs": [],
   "source": [
    "import re"
   ]
  },
  {
   "cell_type": "code",
   "execution_count": 479,
   "metadata": {},
   "outputs": [],
   "source": [
    "def validity(passport):\n",
    "    fields = ['byr' ,'iyr' ,'eyr' ,'hgt' ,'hcl' ,'ecl' ,'pid']\n",
    "    if not all(f in passport for f in fields):\n",
    "        return False\n",
    "    #numeric validation \n",
    "    if not ( 1920 <= int(passport['byr']) <= 2002):\n",
    "        return False\n",
    "    if not ( 2010 <= int(passport['iyr']) <= 2020):\n",
    "        return False\n",
    "    if not ( 2020 <= int(passport['eyr']) <= 2030):\n",
    "        return False\n",
    "    if 'cm' in passport['hgt'] and not (150 <= int(passport['hgt'][:-2]) <=193):\n",
    "        return False\n",
    "    elif 'in' in passport['hgt'] and not (59 <= int(passport['hgt'][:-2]) <= 76):\n",
    "        return False\n",
    "    if 'cm' not in passport['hgt'] and 'in' not in passport['hgt']:\n",
    "        return False\n",
    "    if  passport['ecl'] not in ['amb', 'blu', 'brn','gry','grn','hzl','oth']:\n",
    "        return False\n",
    "    if re.match(r'^\\#[0-9a-f]{6}$', passport['hcl']) is None:\n",
    "        return False\n",
    "    if re.match(r'^\\d{9}$', passport['pid']) is None:\n",
    "        return False\n",
    "    return True"
   ]
  },
  {
   "cell_type": "code",
   "execution_count": 391,
   "metadata": {},
   "outputs": [
    {
     "data": {
      "text/plain": [
       "False"
      ]
     },
     "execution_count": 391,
     "metadata": {},
     "output_type": "execute_result"
    }
   ],
   "source": [
    "validity(ooh[0])"
   ]
  },
  {
   "cell_type": "code",
   "execution_count": 392,
   "metadata": {},
   "outputs": [
    {
     "data": {
      "text/plain": [
       "True"
      ]
     },
     "execution_count": 392,
     "metadata": {},
     "output_type": "execute_result"
    }
   ],
   "source": [
    "validity(not_item)"
   ]
  },
  {
   "cell_type": "code",
   "execution_count": 480,
   "metadata": {},
   "outputs": [],
   "source": [
    "def part_two(data):\n",
    "    score = []\n",
    "    for passport in data:\n",
    "        print(passport)\n",
    "        passport = to_dict_funct(passport)\n",
    "        score.append(validity(passport))\n",
    "    return sum(score)"
   ]
  },
  {
   "cell_type": "code",
   "execution_count": 422,
   "metadata": {},
   "outputs": [
    {
     "ename": "NameError",
     "evalue": "name 'to_dict_func' is not defined",
     "output_type": "error",
     "traceback": [
      "\u001b[0;31m---------------------------------------------------------------------------\u001b[0m",
      "\u001b[0;31mNameError\u001b[0m                                 Traceback (most recent call last)",
      "\u001b[0;32m<ipython-input-422-e010c36fb4ca>\u001b[0m in \u001b[0;36m<module>\u001b[0;34m()\u001b[0m\n\u001b[0;32m----> 1\u001b[0;31m \u001b[0mto_dict_func\u001b[0m\u001b[0;34m(\u001b[0m\u001b[0mooh\u001b[0m\u001b[0;34m[\u001b[0m\u001b[0;36m0\u001b[0m\u001b[0;34m]\u001b[0m\u001b[0;34m)\u001b[0m\u001b[0;34m\u001b[0m\u001b[0;34m\u001b[0m\u001b[0m\n\u001b[0m",
      "\u001b[0;31mNameError\u001b[0m: name 'to_dict_func' is not defined"
     ]
    }
   ],
   "source": [
    "to_dict_func(ooh[0])"
   ]
  },
  {
   "cell_type": "code",
   "execution_count": 408,
   "metadata": {},
   "outputs": [
    {
     "name": "stdout",
     "output_type": "stream",
     "text": [
      "1104\n"
     ]
    }
   ],
   "source": [
    "# ooh = clean_results(ooh)\n",
    "# print(ooh)\n",
    "print(len(ooh))"
   ]
  },
  {
   "cell_type": "code",
   "execution_count": 413,
   "metadata": {},
   "outputs": [],
   "source": [
    "# ooh = clean_results(ooh)"
   ]
  },
  {
   "cell_type": "code",
   "execution_count": 397,
   "metadata": {},
   "outputs": [
    {
     "name": "stdout",
     "output_type": "stream",
     "text": [
      "[['hgt', '173cm'], ['hcl', '#341e13'], ['cid', '341'], ['pid', '112086592'], ['iyr', '2012'], ['byr', '2011'], ['ecl', 'amb'], ['eyr', '2030']]\n"
     ]
    }
   ],
   "source": [
    "item = to_dict_funct(ooh[0:10])"
   ]
  },
  {
   "cell_type": "code",
   "execution_count": 398,
   "metadata": {},
   "outputs": [
    {
     "name": "stdout",
     "output_type": "stream",
     "text": [
      "{'hgt': '173cm', 'hcl': '#341e13', 'cid': '341', 'pid': '112086592', 'iyr': '2012', 'byr': '2011', 'ecl': 'amb', 'eyr': '2030'}\n"
     ]
    }
   ],
   "source": [
    "print(item)"
   ]
  },
  {
   "cell_type": "code",
   "execution_count": 417,
   "metadata": {},
   "outputs": [
    {
     "data": {
      "text/plain": [
       "['eyr:1972 cid:100 hcl:#18171d ecl:amb hgt:170 pid:186cm iyr:2018 byr:1926 ',\n",
       " 'iyr:2019 hcl:#602927 eyr:1967 hgt:170cm ecl:grn pid:012533040 byr:1946 ',\n",
       " 'hcl:dab227 iyr:2012 ecl:brn hgt:182cm pid:021572410 eyr:2020 byr:1992 cid:277 ',\n",
       " 'hgt:59cm ecl:zzz eyr:2038 hcl:74454a iyr:2023 pid:3556412378 byr:2007 ',\n",
       " 'pid:087499704 hgt:74in ecl:grn iyr:2012 eyr:2030 byr:1980 hcl:#623a2f ',\n",
       " 'eyr:2029 ecl:blu cid:129 byr:1989 iyr:2014 pid:896056539 hcl:#a97842 hgt:165cm ',\n",
       " 'hcl:#888785 hgt:164cm byr:2001 iyr:2015 cid:88 pid:545766238 ecl:hzl eyr:2022 ',\n",
       " 'iyr:2010 hgt:158cm hcl:#b6652a ecl:blu byr:1944 eyr:2021 pid:093154719 ']"
      ]
     },
     "execution_count": 417,
     "metadata": {},
     "output_type": "execute_result"
    }
   ],
   "source": [
    "testdata"
   ]
  },
  {
   "cell_type": "code",
   "execution_count": 418,
   "metadata": {},
   "outputs": [
    {
     "data": {
      "text/plain": [
       "287"
      ]
     },
     "execution_count": 418,
     "metadata": {},
     "output_type": "execute_result"
    }
   ],
   "source": [
    "len(ooh)"
   ]
  },
  {
   "cell_type": "code",
   "execution_count": 482,
   "metadata": {},
   "outputs": [
    {
     "name": "stdout",
     "output_type": "stream",
     "text": [
      "eyr:2033 hgt:177cm pid:173cm ecl:utc byr:2029 hcl:#efcc98 iyr:2023 \n",
      "{'eyr': '2033', 'hgt': '177cm', 'pid': '173cm', 'ecl': 'utc', 'byr': '2029', 'hcl': '#efcc98', 'iyr': '2023'}\n",
      "pid:337605855 cid:249 byr:1952 hgt:155cm ecl:grn iyr:2017 eyr:2026 hcl:#866857 \n",
      "{'pid': '337605855', 'cid': '249', 'byr': '1952', 'hgt': '155cm', 'ecl': 'grn', 'iyr': '2017', 'eyr': '2026', 'hcl': '#866857'}\n",
      "cid:242 iyr:2011 pid:953198122 eyr:2029 ecl:blu hcl:#888785 \n",
      "{'cid': '242', 'iyr': '2011', 'pid': '953198122', 'eyr': '2029', 'ecl': 'blu', 'hcl': '#888785'}\n",
      "hgt:173cm hcl:#341e13 cid:341 pid:112086592 iyr:2012 byr:2011 ecl:amb eyr:2030 \n",
      "{'hgt': '173cm', 'hcl': '#341e13', 'cid': '341', 'pid': '112086592', 'iyr': '2012', 'byr': '2011', 'ecl': 'amb', 'eyr': '2030'}\n",
      "pid:790332032 iyr:2019 eyr:2023 byr:1969 ecl:brn hgt:163cm hcl:#623a2f \n",
      "{'pid': '790332032', 'iyr': '2019', 'eyr': '2023', 'byr': '1969', 'ecl': 'brn', 'hgt': '163cm', 'hcl': '#623a2f'}\n",
      "byr:1920 eyr:2023 cid:146 pid:890112986 hgt:171cm hcl:#b6652a iyr:2017 ecl:hzl \n",
      "{'byr': '1920', 'eyr': '2023', 'cid': '146', 'pid': '890112986', 'hgt': '171cm', 'hcl': '#b6652a', 'iyr': '2017', 'ecl': 'hzl'}\n",
      "hcl:#c0946f byr:1967 cid:199 ecl:gry iyr:2012 pid:987409259 hgt:157cm eyr:2021 \n",
      "{'hcl': '#c0946f', 'byr': '1967', 'cid': '199', 'ecl': 'gry', 'iyr': '2012', 'pid': '987409259', 'hgt': '157cm', 'eyr': '2021'}\n",
      "pid:316587303 iyr:2016 eyr:2023 ecl:blu byr:1959 hgt:186cm hcl:#733820 \n",
      "{'pid': '316587303', 'iyr': '2016', 'eyr': '2023', 'ecl': 'blu', 'byr': '1959', 'hgt': '186cm', 'hcl': '#733820'}\n",
      "hcl:#fffffd hgt:152cm byr:1996 ecl:gry eyr:2024 \n",
      "{'hcl': '#fffffd', 'hgt': '152cm', 'byr': '1996', 'ecl': 'gry', 'eyr': '2024'}\n",
      "ecl:brn hgt:185cm pid:648491325 byr:1967 hcl:#172f67 iyr:2014 eyr:2028 \n",
      "{'ecl': 'brn', 'hgt': '185cm', 'pid': '648491325', 'byr': '1967', 'hcl': '#172f67', 'iyr': '2014', 'eyr': '2028'}\n",
      "pid:328737320 iyr:2017 hcl:#fffffd hgt:178 ecl:#35fad5 byr:1959 \n",
      "{'pid': '328737320', 'iyr': '2017', 'hcl': '#fffffd', 'hgt': '178', 'ecl': '#35fad5', 'byr': '1959'}\n",
      "iyr:2010 byr:1943 eyr:2028 hgt:178cm hcl:#888785 pid:572750267 \n",
      "{'iyr': '2010', 'byr': '1943', 'eyr': '2028', 'hgt': '178cm', 'hcl': '#888785', 'pid': '572750267'}\n",
      "cid:175 ecl:brn eyr:2026 iyr:2017 hcl:#5d69b9 byr:1998 pid:289515215 hgt:151cm \n",
      "{'cid': '175', 'ecl': 'brn', 'eyr': '2026', 'iyr': '2017', 'hcl': '#5d69b9', 'byr': '1998', 'pid': '289515215', 'hgt': '151cm'}\n",
      "hgt:182cm ecl:blu eyr:2028 iyr:2011 hcl:#a97842 pid:758494126 \n",
      "{'hgt': '182cm', 'ecl': 'blu', 'eyr': '2028', 'iyr': '2011', 'hcl': '#a97842', 'pid': '758494126'}\n",
      "iyr:2023 hgt:174cm hcl:cafc2f ecl:utc cid:299 eyr:2026 pid:57963956 \n",
      "{'iyr': '2023', 'hgt': '174cm', 'hcl': 'cafc2f', 'ecl': 'utc', 'cid': '299', 'eyr': '2026', 'pid': '57963956'}\n",
      "pid:853993893 ecl:blu hgt:188cm cid:294 hcl:#341e13 byr:1975 eyr:2027 iyr:2015 \n",
      "{'pid': '853993893', 'ecl': 'blu', 'hgt': '188cm', 'cid': '294', 'hcl': '#341e13', 'byr': '1975', 'eyr': '2027', 'iyr': '2015'}\n",
      "ecl:amb hgt:70 iyr:2018 pid:241872490 byr:1962 eyr:2024 hcl:c5f0c3 \n",
      "{'ecl': 'amb', 'hgt': '70', 'iyr': '2018', 'pid': '241872490', 'byr': '1962', 'eyr': '2024', 'hcl': 'c5f0c3'}\n",
      "pid:994754974 eyr:2029 iyr:2017 cid:137 byr:1966 hcl:#733820 ecl:blu \n",
      "{'pid': '994754974', 'eyr': '2029', 'iyr': '2017', 'cid': '137', 'byr': '1966', 'hcl': '#733820', 'ecl': 'blu'}\n",
      "ecl:utc pid:937481632 hgt:190 eyr:2025 iyr:2027 byr:1949 cid:84 hcl:d3f4f5 \n",
      "{'ecl': 'utc', 'pid': '937481632', 'hgt': '190', 'eyr': '2025', 'iyr': '2027', 'byr': '1949', 'cid': '84', 'hcl': 'd3f4f5'}\n",
      "cid:129 ecl:brn hgt:91 eyr:1932 iyr:2020 pid:298540404 hcl:#888785 byr:1986 \n",
      "{'cid': '129', 'ecl': 'brn', 'hgt': '91', 'eyr': '1932', 'iyr': '2020', 'pid': '298540404', 'hcl': '#888785', 'byr': '1986'}\n",
      "pid:416051368 eyr:2020 iyr:2011 hgt:93 byr:2023 hcl:#efcc98 ecl:amb \n",
      "{'pid': '416051368', 'eyr': '2020', 'iyr': '2011', 'hgt': '93', 'byr': '2023', 'hcl': '#efcc98', 'ecl': 'amb'}\n",
      "byr:2010 hgt:181cm iyr:2020 eyr:2040 pid:785862801 ecl:#f84ccd \n",
      "{'byr': '2010', 'hgt': '181cm', 'iyr': '2020', 'eyr': '2040', 'pid': '785862801', 'ecl': '#f84ccd'}\n",
      "hgt:152cm iyr:2013 pid:932020343 eyr:2023 ecl:hzl byr:1920 hcl:#fffffd \n",
      "{'hgt': '152cm', 'iyr': '2013', 'pid': '932020343', 'eyr': '2023', 'ecl': 'hzl', 'byr': '1920', 'hcl': '#fffffd'}\n",
      "hgt:152cm iyr:2020 byr:1993 hcl:#18171d pid:120354938 eyr:2021 ecl:gry \n",
      "{'hgt': '152cm', 'iyr': '2020', 'byr': '1993', 'hcl': '#18171d', 'pid': '120354938', 'eyr': '2021', 'ecl': 'gry'}\n",
      "eyr:2025 byr:1996 hcl:#623a2f iyr:2018 ecl:oth cid:177 pid:904738945 hgt:164cm \n",
      "{'eyr': '2025', 'byr': '1996', 'hcl': '#623a2f', 'iyr': '2018', 'ecl': 'oth', 'cid': '177', 'pid': '904738945', 'hgt': '164cm'}\n",
      "pid:45042993 hgt:193 iyr:2018 byr:2026 eyr:2026 hcl:#623a2f cid:175 ecl:brn \n",
      "{'pid': '45042993', 'hgt': '193', 'iyr': '2018', 'byr': '2026', 'eyr': '2026', 'hcl': '#623a2f', 'cid': '175', 'ecl': 'brn'}\n",
      "byr:1956 ecl:hzl iyr:2020 pid:892810672 hgt:164cm eyr:2021 cid:186 hcl:#efcc98 \n",
      "{'byr': '1956', 'ecl': 'hzl', 'iyr': '2020', 'pid': '892810672', 'hgt': '164cm', 'eyr': '2021', 'cid': '186', 'hcl': '#efcc98'}\n",
      "cid:314 hgt:180cm ecl:amb hcl:#602927 byr:2027 iyr:1958 eyr:2020 pid:#b2b732 \n",
      "{'cid': '314', 'hgt': '180cm', 'ecl': 'amb', 'hcl': '#602927', 'byr': '2027', 'iyr': '1958', 'eyr': '2020', 'pid': '#b2b732'}\n",
      "cid:50 hcl:#a97842 hgt:155cm pid:667716485 ecl:gry iyr:2014 byr:1995 eyr:2029 \n",
      "{'cid': '50', 'hcl': '#a97842', 'hgt': '155cm', 'pid': '667716485', 'ecl': 'gry', 'iyr': '2014', 'byr': '1995', 'eyr': '2029'}\n",
      "eyr:2030 pid:783631610 hgt:74 byr:2014 hcl:z iyr:2003 ecl:grt \n",
      "{'eyr': '2030', 'pid': '783631610', 'hgt': '74', 'byr': '2014', 'hcl': 'z', 'iyr': '2003', 'ecl': 'grt'}\n",
      "ecl:#d4d852 iyr:2029 hcl:z hgt:185in eyr:2034 pid:#526166 \n",
      "{'ecl': '#d4d852', 'iyr': '2029', 'hcl': 'z', 'hgt': '185in', 'eyr': '2034', 'pid': '#526166'}\n",
      "iyr:1946 eyr:1957 byr:1941 pid:632690435 ecl:oth hcl:18a37c hgt:59cm \n",
      "{'iyr': '1946', 'eyr': '1957', 'byr': '1941', 'pid': '632690435', 'ecl': 'oth', 'hcl': '18a37c', 'hgt': '59cm'}\n",
      "iyr:2013 eyr:2026 pid:002380966 cid:95 hcl:#623a2f byr:1965 ecl:oth \n",
      "{'iyr': '2013', 'eyr': '2026', 'pid': '002380966', 'cid': '95', 'hcl': '#623a2f', 'byr': '1965', 'ecl': 'oth'}\n",
      "ecl:gry pid:479214778 hcl:#18171d byr:1928 cid:98 eyr:2020 iyr:2019 hgt:163cm \n",
      "{'ecl': 'gry', 'pid': '479214778', 'hcl': '#18171d', 'byr': '1928', 'cid': '98', 'eyr': '2020', 'iyr': '2019', 'hgt': '163cm'}\n",
      "hcl:#bd0f54 cid:225 eyr:2024 hgt:153cm iyr:2020 byr:1956 pid:048565668 ecl:hzl \n",
      "{'hcl': '#bd0f54', 'cid': '225', 'eyr': '2024', 'hgt': '153cm', 'iyr': '2020', 'byr': '1956', 'pid': '048565668', 'ecl': 'hzl'}\n",
      "ecl:#5d8b3b hgt:156cm eyr:2029 pid:#3df0cc byr:1967 cid:118 hcl:e23f0f \n",
      "{'ecl': '#5d8b3b', 'hgt': '156cm', 'eyr': '2029', 'pid': '#3df0cc', 'byr': '1967', 'cid': '118', 'hcl': 'e23f0f'}\n",
      "pid:437721309 hcl:#cfa07d hgt:181cm iyr:2019 cid:224 eyr:2028 byr:1946 ecl:gry \n",
      "{'pid': '437721309', 'hcl': '#cfa07d', 'hgt': '181cm', 'iyr': '2019', 'cid': '224', 'eyr': '2028', 'byr': '1946', 'ecl': 'gry'}\n",
      "byr:1962 eyr:2023 hgt:182cm pid:733248003 ecl:blu iyr:2014 hcl:#efcc98 \n",
      "{'byr': '1962', 'eyr': '2023', 'hgt': '182cm', 'pid': '733248003', 'ecl': 'blu', 'iyr': '2014', 'hcl': '#efcc98'}\n",
      "byr:1966 hgt:158cm eyr:2029 hcl:#602927 iyr:2013 pid:963663665 \n",
      "{'byr': '1966', 'hgt': '158cm', 'eyr': '2029', 'hcl': '#602927', 'iyr': '2013', 'pid': '963663665'}\n",
      "pid:529595074 byr:1940 eyr:2020 hcl:#c0946f cid:113 iyr:2015 ecl:oth hgt:191cm \n",
      "{'pid': '529595074', 'byr': '1940', 'eyr': '2020', 'hcl': '#c0946f', 'cid': '113', 'iyr': '2015', 'ecl': 'oth', 'hgt': '191cm'}\n",
      "ecl:hzl hcl:#a97842 hgt:157cm eyr:2025 iyr:2015 byr:1978 pid:579525362 \n",
      "{'ecl': 'hzl', 'hcl': '#a97842', 'hgt': '157cm', 'eyr': '2025', 'iyr': '2015', 'byr': '1978', 'pid': '579525362'}\n",
      "ecl:oth hcl:#18171d cid:76 iyr:2011 eyr:2021 byr:1953 hgt:173cm pid:976483712 \n",
      "{'ecl': 'oth', 'hcl': '#18171d', 'cid': '76', 'iyr': '2011', 'eyr': '2021', 'byr': '1953', 'hgt': '173cm', 'pid': '976483712'}\n",
      "ecl:brn hcl:#fffffd cid:242 pid:588299934 hgt:69in byr:1947 iyr:2010 eyr:2030 \n",
      "{'ecl': 'brn', 'hcl': '#fffffd', 'cid': '242', 'pid': '588299934', 'hgt': '69in', 'byr': '1947', 'iyr': '2010', 'eyr': '2030'}\n",
      "hcl:#fffffd ecl:gry cid:93 pid:731904973 byr:1939 eyr:2029 iyr:2016 \n",
      "{'hcl': '#fffffd', 'ecl': 'gry', 'cid': '93', 'pid': '731904973', 'byr': '1939', 'eyr': '2029', 'iyr': '2016'}\n",
      "pid:96716037 iyr:1938 eyr:2032 hgt:192 ecl:gmt byr:2029 hcl:02edc5 \n",
      "{'pid': '96716037', 'iyr': '1938', 'eyr': '2032', 'hgt': '192', 'ecl': 'gmt', 'byr': '2029', 'hcl': '02edc5'}\n",
      "byr:1958 iyr:2011 eyr:2029 ecl:gry pid:526931024 hcl:z hgt:59cm \n",
      "{'byr': '1958', 'iyr': '2011', 'eyr': '2029', 'ecl': 'gry', 'pid': '526931024', 'hcl': 'z', 'hgt': '59cm'}\n",
      "byr:1966 ecl:hzl pid:378066668 hcl:#c0946f iyr:2017 eyr:2026 cid:142 hgt:184cm \n",
      "{'byr': '1966', 'ecl': 'hzl', 'pid': '378066668', 'hcl': '#c0946f', 'iyr': '2017', 'eyr': '2026', 'cid': '142', 'hgt': '184cm'}\n",
      "pid:1134356373 iyr:2019 ecl:grn hcl:#ceb3a1 byr:1950 hgt:154in \n",
      "{'pid': '1134356373', 'iyr': '2019', 'ecl': 'grn', 'hcl': '#ceb3a1', 'byr': '1950', 'hgt': '154in'}\n",
      "hgt:157cm ecl:zzz byr:1976 pid:5047305958 iyr:2013 hcl:#341e13 \n",
      "{'hgt': '157cm', 'ecl': 'zzz', 'byr': '1976', 'pid': '5047305958', 'iyr': '2013', 'hcl': '#341e13'}\n",
      "eyr:2024 hcl:#a97842 hgt:179cm pid:543943316 cid:214 ecl:brn byr:1999 iyr:2017 \n",
      "{'eyr': '2024', 'hcl': '#a97842', 'hgt': '179cm', 'pid': '543943316', 'cid': '214', 'ecl': 'brn', 'byr': '1999', 'iyr': '2017'}\n",
      "byr:1983 eyr:2024 hgt:177cm ecl:hzl iyr:2013 pid:328883228 hcl:#ceb3a1 \n",
      "{'byr': '1983', 'eyr': '2024', 'hgt': '177cm', 'ecl': 'hzl', 'iyr': '2013', 'pid': '328883228', 'hcl': '#ceb3a1'}\n",
      "cid:226 pid:262286178 iyr:2010 ecl:grn byr:1962 eyr:2025 hcl:#efcc98 hgt:60in \n",
      "{'cid': '226', 'pid': '262286178', 'iyr': '2010', 'ecl': 'grn', 'byr': '1962', 'eyr': '2025', 'hcl': '#efcc98', 'hgt': '60in'}\n",
      "iyr:2029 ecl:#559ffe hcl:z cid:156 byr:2003 hgt:178 pid:93994500 \n",
      "{'iyr': '2029', 'ecl': '#559ffe', 'hcl': 'z', 'cid': '156', 'byr': '2003', 'hgt': '178', 'pid': '93994500'}\n",
      "iyr:2026 hcl:#eda7f3 ecl:amb byr:1921 eyr:2021 pid:153cm \n",
      "{'iyr': '2026', 'hcl': '#eda7f3', 'ecl': 'amb', 'byr': '1921', 'eyr': '2021', 'pid': '153cm'}\n",
      "byr:1988 ecl:amb hgt:178cm hcl:#2aea45 pid:70722502 eyr:2027 iyr:2015 \n",
      "{'byr': '1988', 'ecl': 'amb', 'hgt': '178cm', 'hcl': '#2aea45', 'pid': '70722502', 'eyr': '2027', 'iyr': '2015'}\n",
      "pid:555636800 eyr:2020 hgt:182cm iyr:2019 byr:1948 cid:325 hcl:#733820 \n",
      "{'pid': '555636800', 'eyr': '2020', 'hgt': '182cm', 'iyr': '2019', 'byr': '1948', 'cid': '325', 'hcl': '#733820'}\n",
      "eyr:1973 iyr:2024 hcl:z byr:2028 ecl:dne cid:169 pid:43596015 hgt:170in \n",
      "{'eyr': '1973', 'iyr': '2024', 'hcl': 'z', 'byr': '2028', 'ecl': 'dne', 'cid': '169', 'pid': '43596015', 'hgt': '170in'}\n",
      "hcl:#b6652a ecl:gry cid:264 hgt:178cm iyr:2027 pid:23042405 byr:1947 eyr:2024 \n",
      "{'hcl': '#b6652a', 'ecl': 'gry', 'cid': '264', 'hgt': '178cm', 'iyr': '2027', 'pid': '23042405', 'byr': '1947', 'eyr': '2024'}\n",
      "byr:1989 pid:266274644 ecl:blu eyr:2023 hcl:#733820 hgt:192cm iyr:2018 cid:272 \n",
      "{'byr': '1989', 'pid': '266274644', 'ecl': 'blu', 'eyr': '2023', 'hcl': '#733820', 'hgt': '192cm', 'iyr': '2018', 'cid': '272'}\n",
      "iyr:2013 hcl:z hgt:73cm byr:2014 pid:192cm ecl:#1627a7 \n",
      "{'iyr': '2013', 'hcl': 'z', 'hgt': '73cm', 'byr': '2014', 'pid': '192cm', 'ecl': '#1627a7'}\n",
      "pid:816749378 hgt:178cm hcl:#733820 eyr:2029 byr:1993 \n",
      "{'pid': '816749378', 'hgt': '178cm', 'hcl': '#733820', 'eyr': '2029', 'byr': '1993'}\n",
      "hcl:0cacc5 byr:1944 iyr:2028 eyr:2024 hgt:163in pid:74169361 ecl:dne \n",
      "{'hcl': '0cacc5', 'byr': '1944', 'iyr': '2028', 'eyr': '2024', 'hgt': '163in', 'pid': '74169361', 'ecl': 'dne'}\n",
      "hcl:#ceb3a1 ecl:grn eyr:2027 pid:481186415 hgt:176cm cid:325 byr:1986 \n",
      "{'hcl': '#ceb3a1', 'ecl': 'grn', 'eyr': '2027', 'pid': '481186415', 'hgt': '176cm', 'cid': '325', 'byr': '1986'}\n",
      "eyr:2028 hgt:174cm ecl:brn hcl:#888785 iyr:2015 pid:064161451 byr:1969 \n",
      "{'eyr': '2028', 'hgt': '174cm', 'ecl': 'brn', 'hcl': '#888785', 'iyr': '2015', 'pid': '064161451', 'byr': '1969'}\n",
      "ecl:brn cid:323 hgt:167 byr:1993 iyr:1953 hcl:z eyr:2023 pid:161542750 \n",
      "{'ecl': 'brn', 'cid': '323', 'hgt': '167', 'byr': '1993', 'iyr': '1953', 'hcl': 'z', 'eyr': '2023', 'pid': '161542750'}\n",
      "ecl:#895336 eyr:2033 hgt:67cm cid:254 iyr:1967 hcl:z byr:1954 \n",
      "{'ecl': '#895336', 'eyr': '2033', 'hgt': '67cm', 'cid': '254', 'iyr': '1967', 'hcl': 'z', 'byr': '1954'}\n",
      "ecl:#9dbea3 iyr:2018 eyr:2035 hgt:183 pid:747501524 hcl:#fd8515 cid:110 byr:1997 \n",
      "{'ecl': '#9dbea3', 'iyr': '2018', 'eyr': '2035', 'hgt': '183', 'pid': '747501524', 'hcl': '#fd8515', 'cid': '110', 'byr': '1997'}\n",
      "ecl:utc iyr:2014 hgt:183in byr:2007 eyr:2026 hcl:#cfa07d cid:334 \n",
      "{'ecl': 'utc', 'iyr': '2014', 'hgt': '183in', 'byr': '2007', 'eyr': '2026', 'hcl': '#cfa07d', 'cid': '334'}\n",
      "ecl:gry hcl:#b6652a pid:250420128 eyr:2024 byr:1939 hgt:170cm \n",
      "{'ecl': 'gry', 'hcl': '#b6652a', 'pid': '250420128', 'eyr': '2024', 'byr': '1939', 'hgt': '170cm'}\n",
      "hcl:#18171d eyr:2030 byr:1925 pid:204206116 iyr:2014 hgt:174cm ecl:hzl \n",
      "{'hcl': '#18171d', 'eyr': '2030', 'byr': '1925', 'pid': '204206116', 'iyr': '2014', 'hgt': '174cm', 'ecl': 'hzl'}\n",
      "iyr:2020 hcl:#efcc98 pid:393444692 ecl:oth hgt:152cm byr:1957 eyr:2021 \n",
      "{'iyr': '2020', 'hcl': '#efcc98', 'pid': '393444692', 'ecl': 'oth', 'hgt': '152cm', 'byr': '1957', 'eyr': '2021'}\n",
      "byr:1973 eyr:2024 iyr:2014 hcl:#602927 pid:832320186 hgt:166cm ecl:grn \n",
      "{'byr': '1973', 'eyr': '2024', 'iyr': '2014', 'hcl': '#602927', 'pid': '832320186', 'hgt': '166cm', 'ecl': 'grn'}\n",
      "pid:192524664 hgt:182cm hcl:#18171d ecl:oth eyr:2030 byr:1942 iyr:2013 \n",
      "{'pid': '192524664', 'hgt': '182cm', 'hcl': '#18171d', 'ecl': 'oth', 'eyr': '2030', 'byr': '1942', 'iyr': '2013'}\n",
      "hgt:129 byr:2016 hcl:6734a1 ecl:#915282 iyr:1949 cid:130 pid:677408864 eyr:2030 \n",
      "{'hgt': '129', 'byr': '2016', 'hcl': '6734a1', 'ecl': '#915282', 'iyr': '1949', 'cid': '130', 'pid': '677408864', 'eyr': '2030'}\n",
      "eyr:2028 ecl:gry hgt:171cm byr:1960 iyr:2020 pid:688526729 cid:262 hcl:#733820 \n",
      "{'eyr': '2028', 'ecl': 'gry', 'hgt': '171cm', 'byr': '1960', 'iyr': '2020', 'pid': '688526729', 'cid': '262', 'hcl': '#733820'}\n",
      "ecl:grn iyr:2019 pid:775867641 hcl:#bf1e29 byr:1920 hgt:163cm \n",
      "{'ecl': 'grn', 'iyr': '2019', 'pid': '775867641', 'hcl': '#bf1e29', 'byr': '1920', 'hgt': '163cm'}\n",
      "eyr:2029 hcl:#866857 iyr:2024 pid:170cm byr:1931 hgt:177cm ecl:hzl cid:312 \n",
      "{'eyr': '2029', 'hcl': '#866857', 'iyr': '2024', 'pid': '170cm', 'byr': '1931', 'hgt': '177cm', 'ecl': 'hzl', 'cid': '312'}\n",
      "iyr:2019 ecl:#19fef5 pid:2080468234 eyr:2008 hgt:72 hcl:e14dfe byr:1980 cid:272 \n",
      "{'iyr': '2019', 'ecl': '#19fef5', 'pid': '2080468234', 'eyr': '2008', 'hgt': '72', 'hcl': 'e14dfe', 'byr': '1980', 'cid': '272'}\n",
      "byr:2025 cid:163 iyr:2020 pid:758946748 hgt:161cm ecl:amb eyr:2023 hcl:026d4d \n",
      "{'byr': '2025', 'cid': '163', 'iyr': '2020', 'pid': '758946748', 'hgt': '161cm', 'ecl': 'amb', 'eyr': '2023', 'hcl': '026d4d'}\n",
      "iyr:2021 cid:109 eyr:2032 byr:2010 hcl:#fffffd pid:874586711 ecl:hzl hgt:142 \n",
      "{'iyr': '2021', 'cid': '109', 'eyr': '2032', 'byr': '2010', 'hcl': '#fffffd', 'pid': '874586711', 'ecl': 'hzl', 'hgt': '142'}\n",
      "eyr:2023 hcl:z iyr:2019 byr:2013 ecl:#b42611 pid:164cm hgt:60cm \n",
      "{'eyr': '2023', 'hcl': 'z', 'iyr': '2019', 'byr': '2013', 'ecl': '#b42611', 'pid': '164cm', 'hgt': '60cm'}\n",
      "byr:1935 cid:226 hcl:#602927 ecl:blu pid:700452129 eyr:2029 iyr:2016 hgt:180cm \n",
      "{'byr': '1935', 'cid': '226', 'hcl': '#602927', 'ecl': 'blu', 'pid': '700452129', 'eyr': '2029', 'iyr': '2016', 'hgt': '180cm'}\n",
      "hgt:179cm pid:181cm ecl:gry cid:309 eyr:2029 hcl:#6b5442 byr:1987 iyr:2010 \n",
      "{'hgt': '179cm', 'pid': '181cm', 'ecl': 'gry', 'cid': '309', 'eyr': '2029', 'hcl': '#6b5442', 'byr': '1987', 'iyr': '2010'}\n",
      "ecl:gry byr:1986 hcl:#cce4b8 pid:101583943 iyr:2010 hgt:65cm eyr:2021 \n",
      "{'ecl': 'gry', 'byr': '1986', 'hcl': '#cce4b8', 'pid': '101583943', 'iyr': '2010', 'hgt': '65cm', 'eyr': '2021'}\n",
      "cid:168 pid:#8556c9 hcl:413944 eyr:2036 byr:2013 iyr:2012 ecl:#66dc1c hgt:59cm \n",
      "{'cid': '168', 'pid': '#8556c9', 'hcl': '413944', 'eyr': '2036', 'byr': '2013', 'iyr': '2012', 'ecl': '#66dc1c', 'hgt': '59cm'}\n",
      "eyr:1984 byr:2017 pid:#cbc84e hcl:z cid:189 iyr:2021 ecl:blu hgt:152cm \n",
      "{'eyr': '1984', 'byr': '2017', 'pid': '#cbc84e', 'hcl': 'z', 'cid': '189', 'iyr': '2021', 'ecl': 'blu', 'hgt': '152cm'}\n",
      "byr:1993 hcl:#004c11 eyr:2026 iyr:2010 ecl:brn hgt:188cm pid:889959941 \n",
      "{'byr': '1993', 'hcl': '#004c11', 'eyr': '2026', 'iyr': '2010', 'ecl': 'brn', 'hgt': '188cm', 'pid': '889959941'}\n",
      "hgt:172 byr:2008 eyr:2030 iyr:1959 ecl:oth hcl:#a8ebbb \n",
      "{'hgt': '172', 'byr': '2008', 'eyr': '2030', 'iyr': '1959', 'ecl': 'oth', 'hcl': '#a8ebbb'}\n",
      "iyr:2013 hcl:#8f97b1 hgt:182cm ecl:grn cid:89 eyr:2029 byr:1974 \n",
      "{'iyr': '2013', 'hcl': '#8f97b1', 'hgt': '182cm', 'ecl': 'grn', 'cid': '89', 'eyr': '2029', 'byr': '1974'}\n",
      "eyr:2025 hcl:#6b5442 pid:222418968 byr:1951 cid:105 ecl:hzl iyr:2011 hgt:181cm \n",
      "{'eyr': '2025', 'hcl': '#6b5442', 'pid': '222418968', 'byr': '1951', 'cid': '105', 'ecl': 'hzl', 'iyr': '2011', 'hgt': '181cm'}\n",
      "iyr:2017 ecl:brn pid:481721303 hgt:190cm eyr:2037 byr:1990 hcl:#ceb3a1 \n",
      "{'iyr': '2017', 'ecl': 'brn', 'pid': '481721303', 'hgt': '190cm', 'eyr': '2037', 'byr': '1990', 'hcl': '#ceb3a1'}\n",
      "hcl:z pid:85905429 byr:1923 cid:260 eyr:2031 ecl:gry iyr:2022 hgt:180cm \n",
      "{'hcl': 'z', 'pid': '85905429', 'byr': '1923', 'cid': '260', 'eyr': '2031', 'ecl': 'gry', 'iyr': '2022', 'hgt': '180cm'}\n",
      "hcl:#fffffd hgt:76cm ecl:grn pid:39254112 byr:2010 iyr:1961 eyr:2028 \n",
      "{'hcl': '#fffffd', 'hgt': '76cm', 'ecl': 'grn', 'pid': '39254112', 'byr': '2010', 'iyr': '1961', 'eyr': '2028'}\n",
      "ecl:brn iyr:2016 eyr:2027 hcl:#efcc98 pid:753268957 hgt:60in byr:1943 \n",
      "{'ecl': 'brn', 'iyr': '2016', 'eyr': '2027', 'hcl': '#efcc98', 'pid': '753268957', 'hgt': '60in', 'byr': '1943'}\n",
      "ecl:oth pid:087762106 hgt:190cm byr:1974 cid:171 hcl:#c63f21 eyr:2020 \n",
      "{'ecl': 'oth', 'pid': '087762106', 'hgt': '190cm', 'byr': '1974', 'cid': '171', 'hcl': '#c63f21', 'eyr': '2020'}\n",
      "ecl:#8c1b6c byr:1962 iyr:2007 pid:106672731 hgt:172in cid:239 eyr:2026 hcl:#b6652a \n",
      "{'ecl': '#8c1b6c', 'byr': '1962', 'iyr': '2007', 'pid': '106672731', 'hgt': '172in', 'cid': '239', 'eyr': '2026', 'hcl': '#b6652a'}\n",
      "hgt:170cm eyr:2021 cid:219 hcl:#a97842 pid:040224991 byr:1950 iyr:2018 \n",
      "{'hgt': '170cm', 'eyr': '2021', 'cid': '219', 'hcl': '#a97842', 'pid': '040224991', 'byr': '1950', 'iyr': '2018'}\n",
      "byr:2029 eyr:2036 cid:309 iyr:2016 hgt:167cm hcl:#fffffd ecl:#1ab23b \n",
      "{'byr': '2029', 'eyr': '2036', 'cid': '309', 'iyr': '2016', 'hgt': '167cm', 'hcl': '#fffffd', 'ecl': '#1ab23b'}\n",
      "iyr:2013 ecl:gry eyr:2020 pid:947828194 hcl:#18171d hgt:163cm byr:1971 \n",
      "{'iyr': '2013', 'ecl': 'gry', 'eyr': '2020', 'pid': '947828194', 'hcl': '#18171d', 'hgt': '163cm', 'byr': '1971'}\n",
      "hcl:#fffffd iyr:2011 pid:150105713 eyr:2029 hgt:168cm byr:1925 ecl:hzl \n",
      "{'hcl': '#fffffd', 'iyr': '2011', 'pid': '150105713', 'eyr': '2029', 'hgt': '168cm', 'byr': '1925', 'ecl': 'hzl'}\n",
      "cid:253 hcl:#341e13 eyr:2025 hgt:184cm pid:651786830 byr:1936 iyr:2013 ecl:hzl \n",
      "{'cid': '253', 'hcl': '#341e13', 'eyr': '2025', 'hgt': '184cm', 'pid': '651786830', 'byr': '1936', 'iyr': '2013', 'ecl': 'hzl'}\n",
      "pid:7328393469 hgt:175cm ecl:gry iyr:2012 byr:1963 hcl:#623a2f eyr:2026 \n",
      "{'pid': '7328393469', 'hgt': '175cm', 'ecl': 'gry', 'iyr': '2012', 'byr': '1963', 'hcl': '#623a2f', 'eyr': '2026'}\n",
      "eyr:2029 pid:669044398 hgt:161cm hcl:#cfa07d ecl:gry iyr:2018 \n",
      "{'eyr': '2029', 'pid': '669044398', 'hgt': '161cm', 'hcl': '#cfa07d', 'ecl': 'gry', 'iyr': '2018'}\n",
      "pid:920006222 byr:1941 ecl:grn eyr:2027 cid:87 hcl:#733820 iyr:2018 hgt:171cm \n",
      "{'pid': '920006222', 'byr': '1941', 'ecl': 'grn', 'eyr': '2027', 'cid': '87', 'hcl': '#733820', 'iyr': '2018', 'hgt': '171cm'}\n",
      "byr:1964 hgt:157cm hcl:#a97842 pid:756972774 eyr:2024 iyr:2013 ecl:gry \n",
      "{'byr': '1964', 'hgt': '157cm', 'hcl': '#a97842', 'pid': '756972774', 'eyr': '2024', 'iyr': '2013', 'ecl': 'gry'}\n",
      "iyr:2010 cid:279 hgt:189cm byr:1959 ecl:brn eyr:2022 pid:937686753 hcl:#602927 \n",
      "{'iyr': '2010', 'cid': '279', 'hgt': '189cm', 'byr': '1959', 'ecl': 'brn', 'eyr': '2022', 'pid': '937686753', 'hcl': '#602927'}\n",
      "iyr:2013 eyr:2027 cid:223 pid:145547438 hcl:#6e6f47 hgt:165cm ecl:amb \n",
      "{'iyr': '2013', 'eyr': '2027', 'cid': '223', 'pid': '145547438', 'hcl': '#6e6f47', 'hgt': '165cm', 'ecl': 'amb'}\n",
      "byr:2009 ecl:oth hcl:#623a2f hgt:166cm eyr:2034 pid:120339592 iyr:2012 \n",
      "{'byr': '2009', 'ecl': 'oth', 'hcl': '#623a2f', 'hgt': '166cm', 'eyr': '2034', 'pid': '120339592', 'iyr': '2012'}\n",
      "eyr:2026 hcl:z byr:2018 pid:7809314464 iyr:2012 hgt:158cm ecl:hzl \n",
      "{'eyr': '2026', 'hcl': 'z', 'byr': '2018', 'pid': '7809314464', 'iyr': '2012', 'hgt': '158cm', 'ecl': 'hzl'}\n",
      "cid:291 hgt:168 ecl:#7734de iyr:2021 hcl:5b4ef1 pid:3381158334 eyr:1956 byr:2003 \n",
      "{'cid': '291', 'hgt': '168', 'ecl': '#7734de', 'iyr': '2021', 'hcl': '5b4ef1', 'pid': '3381158334', 'eyr': '1956', 'byr': '2003'}\n",
      "iyr:2015 hcl:#cfa07d byr:1971 eyr:2023 ecl:oth pid:560419063 cid:155 hgt:170cm \n",
      "{'iyr': '2015', 'hcl': '#cfa07d', 'byr': '1971', 'eyr': '2023', 'ecl': 'oth', 'pid': '560419063', 'cid': '155', 'hgt': '170cm'}\n",
      "eyr:2021 hgt:189cm iyr:2014 hcl:#6b5442 ecl:brn cid:287 byr:1951 pid:936881112 \n",
      "{'eyr': '2021', 'hgt': '189cm', 'iyr': '2014', 'hcl': '#6b5442', 'ecl': 'brn', 'cid': '287', 'byr': '1951', 'pid': '936881112'}\n",
      "iyr:2013 eyr:2020 ecl:hzl hgt:150cm cid:210 pid:032458640 byr:1920 hcl:#6b5442 \n",
      "{'iyr': '2013', 'eyr': '2020', 'ecl': 'hzl', 'hgt': '150cm', 'cid': '210', 'pid': '032458640', 'byr': '1920', 'hcl': '#6b5442'}\n",
      "hgt:180cm hcl:#cfa07d ecl:grn eyr:2027 pid:140859202 iyr:2014 cid:232 byr:1932 \n",
      "{'hgt': '180cm', 'hcl': '#cfa07d', 'ecl': 'grn', 'eyr': '2027', 'pid': '140859202', 'iyr': '2014', 'cid': '232', 'byr': '1932'}\n",
      "pid:68300657 byr:1988 hgt:181cm ecl:hzl iyr:1951 hcl:e18469 eyr:2013 \n",
      "{'pid': '68300657', 'byr': '1988', 'hgt': '181cm', 'ecl': 'hzl', 'iyr': '1951', 'hcl': 'e18469', 'eyr': '2013'}\n",
      "pid:157572693 hgt:185cm hcl:#065fe8 ecl:gry eyr:2027 iyr:2014 \n",
      "{'pid': '157572693', 'hgt': '185cm', 'hcl': '#065fe8', 'ecl': 'gry', 'eyr': '2027', 'iyr': '2014'}\n",
      "eyr:2029 hgt:164cm hcl:z ecl:grn cid:270 iyr:2019 byr:1993 pid:338068138 \n",
      "{'eyr': '2029', 'hgt': '164cm', 'hcl': 'z', 'ecl': 'grn', 'cid': '270', 'iyr': '2019', 'byr': '1993', 'pid': '338068138'}\n",
      "iyr:2016 cid:131 byr:1990 hcl:#7d3b0c ecl:grn pid:066023454 hgt:154cm eyr:2025 \n",
      "{'iyr': '2016', 'cid': '131', 'byr': '1990', 'hcl': '#7d3b0c', 'ecl': 'grn', 'pid': '066023454', 'hgt': '154cm', 'eyr': '2025'}\n",
      "iyr:2019 eyr:2024 hgt:174cm pid:855792798 byr:1920 hcl:#cfa07d \n",
      "{'iyr': '2019', 'eyr': '2024', 'hgt': '174cm', 'pid': '855792798', 'byr': '1920', 'hcl': '#cfa07d'}\n",
      "eyr:2020 hgt:74in iyr:2013 ecl:amb byr:1920 hcl:3f6214 pid:957164804 \n",
      "{'eyr': '2020', 'hgt': '74in', 'iyr': '2013', 'ecl': 'amb', 'byr': '1920', 'hcl': '3f6214', 'pid': '957164804'}\n",
      "pid:756767000 hcl:#220540 byr:1922 hgt:172cm eyr:2023 cid:305 ecl:hzl iyr:2019 \n",
      "{'pid': '756767000', 'hcl': '#220540', 'byr': '1922', 'hgt': '172cm', 'eyr': '2023', 'cid': '305', 'ecl': 'hzl', 'iyr': '2019'}\n",
      "hgt:193in eyr:2025 pid:117240526 iyr:2017 hcl:#888785 byr:1928 ecl:blu \n",
      "{'hgt': '193in', 'eyr': '2025', 'pid': '117240526', 'iyr': '2017', 'hcl': '#888785', 'byr': '1928', 'ecl': 'blu'}\n",
      "byr:1942 ecl:blu cid:347 hcl:#fffffd eyr:2023 iyr:2017 hgt:154cm pid:836554235 \n",
      "{'byr': '1942', 'ecl': 'blu', 'cid': '347', 'hcl': '#fffffd', 'eyr': '2023', 'iyr': '2017', 'hgt': '154cm', 'pid': '836554235'}\n",
      "eyr:2023 hcl:#efcc98 pid:364475403 byr:1962 iyr:2015 ecl:brn hgt:59in cid:289 \n",
      "{'eyr': '2023', 'hcl': '#efcc98', 'pid': '364475403', 'byr': '1962', 'iyr': '2015', 'ecl': 'brn', 'hgt': '59in', 'cid': '289'}\n",
      "byr:2021 hcl:ca4bcf hgt:88 iyr:2017 ecl:gmt pid:181cm eyr:2032 \n",
      "{'byr': '2021', 'hcl': 'ca4bcf', 'hgt': '88', 'iyr': '2017', 'ecl': 'gmt', 'pid': '181cm', 'eyr': '2032'}\n",
      "byr:1937 iyr:2014 hgt:154cm ecl:brn hcl:#866857 eyr:2022 pid:234591437 \n",
      "{'byr': '1937', 'iyr': '2014', 'hgt': '154cm', 'ecl': 'brn', 'hcl': '#866857', 'eyr': '2022', 'pid': '234591437'}\n",
      "iyr:2002 cid:139 byr:1982 hcl:#c0946f pid:#62721b hgt:159in eyr:1966 ecl:brn \n",
      "{'iyr': '2002', 'cid': '139', 'byr': '1982', 'hcl': '#c0946f', 'pid': '#62721b', 'hgt': '159in', 'eyr': '1966', 'ecl': 'brn'}\n",
      "eyr:2036 ecl:oth byr:2026 hgt:96 pid:137651094 hcl:z \n",
      "{'eyr': '2036', 'ecl': 'oth', 'byr': '2026', 'hgt': '96', 'pid': '137651094', 'hcl': 'z'}\n",
      "pid:373485985 iyr:2030 ecl:gry byr:2011 hgt:65cm hcl:#733820 \n",
      "{'pid': '373485985', 'iyr': '2030', 'ecl': 'gry', 'byr': '2011', 'hgt': '65cm', 'hcl': '#733820'}\n",
      "pid:390979357 ecl:gry hgt:164cm hcl:#ceb3a1 eyr:2029 byr:1932 iyr:2015 \n",
      "{'pid': '390979357', 'ecl': 'gry', 'hgt': '164cm', 'hcl': '#ceb3a1', 'eyr': '2029', 'byr': '1932', 'iyr': '2015'}\n",
      "ecl:hzl hgt:68in eyr:2023 pid:829734763 iyr:2016 hcl:#733820 byr:1997 \n",
      "{'ecl': 'hzl', 'hgt': '68in', 'eyr': '2023', 'pid': '829734763', 'iyr': '2016', 'hcl': '#733820', 'byr': '1997'}\n",
      "hgt:150cm byr:1926 iyr:2019 pid:521908229 eyr:2029 ecl:brn hcl:#623a2f \n",
      "{'hgt': '150cm', 'byr': '1926', 'iyr': '2019', 'pid': '521908229', 'eyr': '2029', 'ecl': 'brn', 'hcl': '#623a2f'}\n",
      "eyr:2023 byr:1974 iyr:2018 cid:58 ecl:grn pid:310883188 hcl:#866857 hgt:164cm \n",
      "{'eyr': '2023', 'byr': '1974', 'iyr': '2018', 'cid': '58', 'ecl': 'grn', 'pid': '310883188', 'hcl': '#866857', 'hgt': '164cm'}\n",
      "byr:1963 iyr:2019 hgt:162cm eyr:2021 hcl:#fffffd ecl:oth pid:104734523 \n",
      "{'byr': '1963', 'iyr': '2019', 'hgt': '162cm', 'eyr': '2021', 'hcl': '#fffffd', 'ecl': 'oth', 'pid': '104734523'}\n",
      "hcl:#888785 cid:150 eyr:2020 byr:1988 iyr:2018 ecl:oth hgt:179cm pid:635972018 \n",
      "{'hcl': '#888785', 'cid': '150', 'eyr': '2020', 'byr': '1988', 'iyr': '2018', 'ecl': 'oth', 'hgt': '179cm', 'pid': '635972018'}\n",
      "iyr:2014 hcl:#7d3b0c ecl:hzl pid:717760687 byr:1929 eyr:2027 hgt:183cm \n",
      "{'iyr': '2014', 'hcl': '#7d3b0c', 'ecl': 'hzl', 'pid': '717760687', 'byr': '1929', 'eyr': '2027', 'hgt': '183cm'}\n",
      "iyr:2019 byr:2000 eyr:2025 pid:506581828 hcl:#602927 ecl:oth hgt:162cm \n",
      "{'iyr': '2019', 'byr': '2000', 'eyr': '2025', 'pid': '506581828', 'hcl': '#602927', 'ecl': 'oth', 'hgt': '162cm'}\n",
      "pid:#fd3377 ecl:#618bce hcl:#ceb3a1 iyr:1944 hgt:182cm cid:57 byr:2022 eyr:1995 \n",
      "{'pid': '#fd3377', 'ecl': '#618bce', 'hcl': '#ceb3a1', 'iyr': '1944', 'hgt': '182cm', 'cid': '57', 'byr': '2022', 'eyr': '1995'}\n",
      "pid:4790730010 hgt:192cm cid:222 byr:2022 hcl:4798e7 ecl:#5126d5 iyr:1954 eyr:2040 \n",
      "{'pid': '4790730010', 'hgt': '192cm', 'cid': '222', 'byr': '2022', 'hcl': '4798e7', 'ecl': '#5126d5', 'iyr': '1954', 'eyr': '2040'}\n",
      "hcl:#b6652a ecl:brn cid:181 pid:983890186 hgt:189cm byr:1998 eyr:2022 iyr:2011 \n",
      "{'hcl': '#b6652a', 'ecl': 'brn', 'cid': '181', 'pid': '983890186', 'hgt': '189cm', 'byr': '1998', 'eyr': '2022', 'iyr': '2011'}\n",
      "iyr:2018 eyr:2022 cid:58 byr:1994 hgt:169cm ecl:hzl pid:036522894 hcl:#2c9ee8 \n",
      "{'iyr': '2018', 'eyr': '2022', 'cid': '58', 'byr': '1994', 'hgt': '169cm', 'ecl': 'hzl', 'pid': '036522894', 'hcl': '#2c9ee8'}\n",
      "iyr:1979 hcl:e09b9c byr:2016 hgt:121 eyr:1962 pid:#fb14be cid:265 ecl:lzr \n",
      "{'iyr': '1979', 'hcl': 'e09b9c', 'byr': '2016', 'hgt': '121', 'eyr': '1962', 'pid': '#fb14be', 'cid': '265', 'ecl': 'lzr'}\n",
      "eyr:2024 hgt:63in hcl:#efcc98 iyr:2018 byr:1953 pid:881102827 ecl:amb \n",
      "{'eyr': '2024', 'hgt': '63in', 'hcl': '#efcc98', 'iyr': '2018', 'byr': '1953', 'pid': '881102827', 'ecl': 'amb'}\n",
      "ecl:oth hgt:177cm eyr:2028 iyr:2011 hcl:#efcc98 pid:113579849 byr:1957 \n",
      "{'ecl': 'oth', 'hgt': '177cm', 'eyr': '2028', 'iyr': '2011', 'hcl': '#efcc98', 'pid': '113579849', 'byr': '1957'}\n",
      "ecl:#fe1b74 iyr:1926 hgt:70cm pid:70807766 hcl:556dca byr:2030 eyr:2032 \n",
      "{'ecl': '#fe1b74', 'iyr': '1926', 'hgt': '70cm', 'pid': '70807766', 'hcl': '556dca', 'byr': '2030', 'eyr': '2032'}\n",
      "byr:1997 ecl:blu hgt:105 pid:178655906 iyr:2025 hcl:#6b5442 eyr:2021 \n",
      "{'byr': '1997', 'ecl': 'blu', 'hgt': '105', 'pid': '178655906', 'iyr': '2025', 'hcl': '#6b5442', 'eyr': '2021'}\n",
      "eyr:2030 ecl:grt hgt:161cm hcl:#ceb3a1 iyr:2016 pid:318930966 cid:59 byr:1924 \n",
      "{'eyr': '2030', 'ecl': 'grt', 'hgt': '161cm', 'hcl': '#ceb3a1', 'iyr': '2016', 'pid': '318930966', 'cid': '59', 'byr': '1924'}\n",
      "cid:200 hgt:67in pid:229395752 byr:1936 ecl:oth iyr:2013 eyr:2020 hcl:#c0946f \n",
      "{'cid': '200', 'hgt': '67in', 'pid': '229395752', 'byr': '1936', 'ecl': 'oth', 'iyr': '2013', 'eyr': '2020', 'hcl': '#c0946f'}\n",
      "byr:1990 iyr:2018 cid:99 hcl:#6b5442 hgt:155 pid:350832537 ecl:blu eyr:2021 \n",
      "{'byr': '1990', 'iyr': '2018', 'cid': '99', 'hcl': '#6b5442', 'hgt': '155', 'pid': '350832537', 'ecl': 'blu', 'eyr': '2021'}\n",
      "eyr:2039 byr:2025 pid:247367429 hcl:z iyr:2013 ecl:amb cid:118 \n",
      "{'eyr': '2039', 'byr': '2025', 'pid': '247367429', 'hcl': 'z', 'iyr': '2013', 'ecl': 'amb', 'cid': '118'}\n",
      "eyr:2027 hcl:z ecl:utc cid:274 hgt:175in iyr:2016 byr:1977 pid:478855994 \n",
      "{'eyr': '2027', 'hcl': 'z', 'ecl': 'utc', 'cid': '274', 'hgt': '175in', 'iyr': '2016', 'byr': '1977', 'pid': '478855994'}\n",
      "eyr:2020 pid:636743032 hcl:#64a8b8 iyr:2018 ecl:grn hgt:68in byr:1969 \n",
      "{'eyr': '2020', 'pid': '636743032', 'hcl': '#64a8b8', 'iyr': '2018', 'ecl': 'grn', 'hgt': '68in', 'byr': '1969'}\n",
      "pid:515635081 iyr:2013 byr:1980 eyr:2024 hgt:173cm ecl:gry hcl:#b6652a \n",
      "{'pid': '515635081', 'iyr': '2013', 'byr': '1980', 'eyr': '2024', 'hgt': '173cm', 'ecl': 'gry', 'hcl': '#b6652a'}\n",
      "ecl:utc byr:2026 iyr:1999 eyr:1937 hgt:66cm hcl:z pid:2247643960 \n",
      "{'ecl': 'utc', 'byr': '2026', 'iyr': '1999', 'eyr': '1937', 'hgt': '66cm', 'hcl': 'z', 'pid': '2247643960'}\n",
      "iyr:2013 byr:1942 hgt:154cm eyr:2020 hcl:#18171d cid:323 pid:302753381 ecl:oth \n",
      "{'iyr': '2013', 'byr': '1942', 'hgt': '154cm', 'eyr': '2020', 'hcl': '#18171d', 'cid': '323', 'pid': '302753381', 'ecl': 'oth'}\n",
      "ecl:xry pid:346719476 iyr:1999 eyr:2020 hgt:154cm hcl:z byr:2027 \n",
      "{'ecl': 'xry', 'pid': '346719476', 'iyr': '1999', 'eyr': '2020', 'hgt': '154cm', 'hcl': 'z', 'byr': '2027'}\n",
      "hgt:160cm eyr:2025 hcl:#fffffd byr:1998 pid:678119271 ecl:blu iyr:2014 \n",
      "{'hgt': '160cm', 'eyr': '2025', 'hcl': '#fffffd', 'byr': '1998', 'pid': '678119271', 'ecl': 'blu', 'iyr': '2014'}\n",
      "hgt:161cm iyr:2011 ecl:blu byr:1921 pid:236833613 eyr:2021 hcl:#623a2f \n",
      "{'hgt': '161cm', 'iyr': '2011', 'ecl': 'blu', 'byr': '1921', 'pid': '236833613', 'eyr': '2021', 'hcl': '#623a2f'}\n",
      "ecl:hzl hcl:#18171d hgt:151cm pid:541887993 byr:1995 iyr:2019 eyr:2021 \n",
      "{'ecl': 'hzl', 'hcl': '#18171d', 'hgt': '151cm', 'pid': '541887993', 'byr': '1995', 'iyr': '2019', 'eyr': '2021'}\n",
      "pid:496474711 byr:1966 ecl:gry eyr:2025 hgt:176cm hcl:#b6652a iyr:2018 \n",
      "{'pid': '496474711', 'byr': '1966', 'ecl': 'gry', 'eyr': '2025', 'hgt': '176cm', 'hcl': '#b6652a', 'iyr': '2018'}\n",
      "iyr:2010 hcl:#efcc98 pid:351846405 eyr:2024 hgt:150cm byr:1941 \n",
      "{'iyr': '2010', 'hcl': '#efcc98', 'pid': '351846405', 'eyr': '2024', 'hgt': '150cm', 'byr': '1941'}\n",
      "hgt:151cm ecl:gry hcl:#a97842 pid:586789406 eyr:2022 iyr:2013 byr:1982 \n",
      "{'hgt': '151cm', 'ecl': 'gry', 'hcl': '#a97842', 'pid': '586789406', 'eyr': '2022', 'iyr': '2013', 'byr': '1982'}\n",
      "byr:1994 eyr:2028 ecl:gry hcl:#888785 iyr:2010 hgt:165cm cid:183 \n",
      "{'byr': '1994', 'eyr': '2028', 'ecl': 'gry', 'hcl': '#888785', 'iyr': '2010', 'hgt': '165cm', 'cid': '183'}\n",
      "iyr:2015 byr:1933 hcl:#733820 hgt:167cm ecl:blu pid:914665208 eyr:2027 \n",
      "{'iyr': '2015', 'byr': '1933', 'hcl': '#733820', 'hgt': '167cm', 'ecl': 'blu', 'pid': '914665208', 'eyr': '2027'}\n",
      "eyr:2031 hcl:6804ef ecl:amb byr:2024 hgt:157cm iyr:1938 pid:#0418fb \n",
      "{'eyr': '2031', 'hcl': '6804ef', 'ecl': 'amb', 'byr': '2024', 'hgt': '157cm', 'iyr': '1938', 'pid': '#0418fb'}\n",
      "byr:1936 ecl:oth hgt:190cm cid:91 pid:711544430 iyr:2020 eyr:2025 hcl:#888785 \n",
      "{'byr': '1936', 'ecl': 'oth', 'hgt': '190cm', 'cid': '91', 'pid': '711544430', 'iyr': '2020', 'eyr': '2025', 'hcl': '#888785'}\n",
      "pid:381452527 eyr:2027 hcl:#efcc98 ecl:brn byr:1956 hgt:63in \n",
      "{'pid': '381452527', 'eyr': '2027', 'hcl': '#efcc98', 'ecl': 'brn', 'byr': '1956', 'hgt': '63in'}\n",
      "ecl:oth iyr:2014 hcl:#ceb3a1 cid:254 pid:544612871 byr:1985 eyr:2023 hgt:172cm \n",
      "{'ecl': 'oth', 'iyr': '2014', 'hcl': '#ceb3a1', 'cid': '254', 'pid': '544612871', 'byr': '1985', 'eyr': '2023', 'hgt': '172cm'}\n",
      "hcl:#efcc98 hgt:191cm byr:1948 ecl:blu eyr:2028 pid:953894279 iyr:2017 \n",
      "{'hcl': '#efcc98', 'hgt': '191cm', 'byr': '1948', 'ecl': 'blu', 'eyr': '2028', 'pid': '953894279', 'iyr': '2017'}\n",
      "byr:1968 pid:875469219 hcl:#efcc98 hgt:176cm cid:141 iyr:2017 \n",
      "{'byr': '1968', 'pid': '875469219', 'hcl': '#efcc98', 'hgt': '176cm', 'cid': '141', 'iyr': '2017'}\n",
      "eyr:2022 hcl:#733820 ecl:hzl pid:870733357 iyr:2013 byr:1949 hgt:150cm cid:252 \n",
      "{'eyr': '2022', 'hcl': '#733820', 'ecl': 'hzl', 'pid': '870733357', 'iyr': '2013', 'byr': '1949', 'hgt': '150cm', 'cid': '252'}\n",
      "ecl:gry hcl:#602927 pid:632246684 byr:1986 eyr:2030 hgt:152cm iyr:2013 \n",
      "{'ecl': 'gry', 'hcl': '#602927', 'pid': '632246684', 'byr': '1986', 'eyr': '2030', 'hgt': '152cm', 'iyr': '2013'}\n",
      "eyr:2029 iyr:2016 byr:1969 pid:595125675 ecl:gry hcl:#cfa07d hgt:184cm \n",
      "{'eyr': '2029', 'iyr': '2016', 'byr': '1969', 'pid': '595125675', 'ecl': 'gry', 'hcl': '#cfa07d', 'hgt': '184cm'}\n",
      "byr:1947 hcl:z cid:188 eyr:2038 pid:177cm iyr:2011 hgt:166cm ecl:#c1376b \n",
      "{'byr': '1947', 'hcl': 'z', 'cid': '188', 'eyr': '2038', 'pid': '177cm', 'iyr': '2011', 'hgt': '166cm', 'ecl': '#c1376b'}\n",
      "ecl:hzl hgt:170cm cid:307 eyr:2022 byr:1971 hcl:#b6652a pid:047040501 \n",
      "{'ecl': 'hzl', 'hgt': '170cm', 'cid': '307', 'eyr': '2022', 'byr': '1971', 'hcl': '#b6652a', 'pid': '047040501'}\n",
      "hgt:126 ecl:zzz byr:2019 pid:170207910 eyr:2035 hcl:23df48 iyr:1932 \n",
      "{'hgt': '126', 'ecl': 'zzz', 'byr': '2019', 'pid': '170207910', 'eyr': '2035', 'hcl': '23df48', 'iyr': '1932'}\n",
      "hgt:152cm cid:270 eyr:2036 ecl:#408f6e iyr:1952 pid:5808880830 byr:2022 hcl:0b1ba6 \n",
      "{'hgt': '152cm', 'cid': '270', 'eyr': '2036', 'ecl': '#408f6e', 'iyr': '1952', 'pid': '5808880830', 'byr': '2022', 'hcl': '0b1ba6'}\n",
      "eyr:2021 hgt:179cm byr:1938 pid:140937061 iyr:2030 hcl:#a97842 ecl:oth \n",
      "{'eyr': '2021', 'hgt': '179cm', 'byr': '1938', 'pid': '140937061', 'iyr': '2030', 'hcl': '#a97842', 'ecl': 'oth'}\n",
      "hgt:67cm eyr:2028 pid:816355657 iyr:2019 byr:2008 hcl:z ecl:#5b4f31 \n",
      "{'hgt': '67cm', 'eyr': '2028', 'pid': '816355657', 'iyr': '2019', 'byr': '2008', 'hcl': 'z', 'ecl': '#5b4f31'}\n",
      "cid:192 iyr:2018 eyr:2020 byr:1983 pid:873720366 ecl:grn hgt:187cm hcl:#6b5442 \n",
      "{'cid': '192', 'iyr': '2018', 'eyr': '2020', 'byr': '1983', 'pid': '873720366', 'ecl': 'grn', 'hgt': '187cm', 'hcl': '#6b5442'}\n",
      "byr:1955 hgt:71in iyr:2018 pid:320019385 hcl:#6b5442 cid:324 eyr:2027 \n",
      "{'byr': '1955', 'hgt': '71in', 'iyr': '2018', 'pid': '320019385', 'hcl': '#6b5442', 'cid': '324', 'eyr': '2027'}\n",
      "pid:957860464 hcl:#602927 iyr:2011 byr:2026 cid:261 eyr:2006 \n",
      "{'pid': '957860464', 'hcl': '#602927', 'iyr': '2011', 'byr': '2026', 'cid': '261', 'eyr': '2006'}\n",
      "byr:1989 ecl:gry cid:143 pid:258434299 eyr:2027 hgt:192cm iyr:2017 hcl:#7d3b0c \n",
      "{'byr': '1989', 'ecl': 'gry', 'cid': '143', 'pid': '258434299', 'eyr': '2027', 'hgt': '192cm', 'iyr': '2017', 'hcl': '#7d3b0c'}\n",
      "pid:#1742ae ecl:#a61090 iyr:2028 hcl:717dd0 hgt:139 cid:183 eyr:2035 \n",
      "{'pid': '#1742ae', 'ecl': '#a61090', 'iyr': '2028', 'hcl': '717dd0', 'hgt': '139', 'cid': '183', 'eyr': '2035'}\n",
      "eyr:2028 pid:039325804 hgt:167cm hcl:#888785 ecl:oth cid:155 iyr:2013 byr:1923 \n",
      "{'eyr': '2028', 'pid': '039325804', 'hgt': '167cm', 'hcl': '#888785', 'ecl': 'oth', 'cid': '155', 'iyr': '2013', 'byr': '1923'}\n",
      "byr:1956 iyr:2010 hcl:#d683bf eyr:2023 hgt:70in cid:197 pid:143320690 ecl:hzl \n",
      "{'byr': '1956', 'iyr': '2010', 'hcl': '#d683bf', 'eyr': '2023', 'hgt': '70in', 'cid': '197', 'pid': '143320690', 'ecl': 'hzl'}\n",
      "ecl:#4004e3 cid:278 iyr:1950 pid:745107377 byr:2007 eyr:2036 hcl:8447eb hgt:74cm \n",
      "{'ecl': '#4004e3', 'cid': '278', 'iyr': '1950', 'pid': '745107377', 'byr': '2007', 'eyr': '2036', 'hcl': '8447eb', 'hgt': '74cm'}\n",
      "hcl:#ceb3a1 hgt:177cm iyr:2010 pid:640032134 ecl:gry eyr:2027 byr:1958 \n",
      "{'hcl': '#ceb3a1', 'hgt': '177cm', 'iyr': '2010', 'pid': '640032134', 'ecl': 'gry', 'eyr': '2027', 'byr': '1958'}\n",
      "hgt:187cm iyr:1921 ecl:#1c7d96 eyr:1987 byr:2028 pid:#28e5a1 cid:144 hcl:9fc25d \n",
      "{'hgt': '187cm', 'iyr': '1921', 'ecl': '#1c7d96', 'eyr': '1987', 'byr': '2028', 'pid': '#28e5a1', 'cid': '144', 'hcl': '9fc25d'}\n",
      "iyr:2012 byr:1996 cid:289 hgt:177cm hcl:#fffffd pid:687240168 eyr:2030 ecl:gry \n",
      "{'iyr': '2012', 'byr': '1996', 'cid': '289', 'hgt': '177cm', 'hcl': '#fffffd', 'pid': '687240168', 'eyr': '2030', 'ecl': 'gry'}\n",
      "pid:860410143 ecl:dne eyr:2031 cid:206 hgt:187in byr:1927 hcl:8c2149 iyr:2012 \n",
      "{'pid': '860410143', 'ecl': 'dne', 'eyr': '2031', 'cid': '206', 'hgt': '187in', 'byr': '1927', 'hcl': '8c2149', 'iyr': '2012'}\n",
      "iyr:2010 byr:1963 cid:139 pid:160019759 eyr:2030 hgt:172cm hcl:#602927 \n",
      "{'iyr': '2010', 'byr': '1963', 'cid': '139', 'pid': '160019759', 'eyr': '2030', 'hgt': '172cm', 'hcl': '#602927'}\n",
      "pid:309851270 iyr:2014 ecl:hzl byr:1939 cid:71 eyr:2030 hcl:#b216fb hgt:161cm \n",
      "{'pid': '309851270', 'iyr': '2014', 'ecl': 'hzl', 'byr': '1939', 'cid': '71', 'eyr': '2030', 'hcl': '#b216fb', 'hgt': '161cm'}\n",
      "ecl:gry cid:138 iyr:2014 hgt:177cm byr:1942 pid:900269082 eyr:2024 hcl:#fffffd \n",
      "{'ecl': 'gry', 'cid': '138', 'iyr': '2014', 'hgt': '177cm', 'byr': '1942', 'pid': '900269082', 'eyr': '2024', 'hcl': '#fffffd'}\n",
      "iyr:2019 hgt:158cm hcl:#18171d pid:941939350 eyr:2024 ecl:brn byr:1944 \n",
      "{'iyr': '2019', 'hgt': '158cm', 'hcl': '#18171d', 'pid': '941939350', 'eyr': '2024', 'ecl': 'brn', 'byr': '1944'}\n",
      "byr:2023 ecl:brn cid:101 eyr:2016 pid:190078757 hgt:188in \n",
      "{'byr': '2023', 'ecl': 'brn', 'cid': '101', 'eyr': '2016', 'pid': '190078757', 'hgt': '188in'}\n",
      "cid:188 ecl:blu pid:075499609 byr:1970 hcl:#fffffd hgt:164cm eyr:2028 iyr:2015 \n",
      "{'cid': '188', 'ecl': 'blu', 'pid': '075499609', 'byr': '1970', 'hcl': '#fffffd', 'hgt': '164cm', 'eyr': '2028', 'iyr': '2015'}\n",
      "byr:2011 hcl:z ecl:gry pid:408316491 hgt:64cm iyr:2017 eyr:1968 \n",
      "{'byr': '2011', 'hcl': 'z', 'ecl': 'gry', 'pid': '408316491', 'hgt': '64cm', 'iyr': '2017', 'eyr': '1968'}\n",
      "ecl:oth hcl:#6b5442 pid:623099801 hgt:163cm byr:1928 \n",
      "{'ecl': 'oth', 'hcl': '#6b5442', 'pid': '623099801', 'hgt': '163cm', 'byr': '1928'}\n",
      "pid:165230004 ecl:grn byr:1935 hcl:#c0946f iyr:2012 hgt:185cm \n",
      "{'pid': '165230004', 'ecl': 'grn', 'byr': '1935', 'hcl': '#c0946f', 'iyr': '2012', 'hgt': '185cm'}\n",
      "hgt:162cm pid:069876432 byr:1960 cid:326 iyr:2013 hcl:#cfa07d eyr:2021 ecl:grn \n",
      "{'hgt': '162cm', 'pid': '069876432', 'byr': '1960', 'cid': '326', 'iyr': '2013', 'hcl': '#cfa07d', 'eyr': '2021', 'ecl': 'grn'}\n",
      "ecl:#f3d8ba hgt:182cm eyr:2020 byr:2007 hcl:z iyr:2014 pid:6141297559 \n",
      "{'ecl': '#f3d8ba', 'hgt': '182cm', 'eyr': '2020', 'byr': '2007', 'hcl': 'z', 'iyr': '2014', 'pid': '6141297559'}\n",
      "pid:867747198 hcl:#efcc98 eyr:2030 byr:1989 hgt:181cm \n",
      "{'pid': '867747198', 'hcl': '#efcc98', 'eyr': '2030', 'byr': '1989', 'hgt': '181cm'}\n",
      "byr:2000 eyr:2021 hgt:166cm hcl:#fffffd iyr:2019 pid:546346187 cid:111 ecl:grn \n",
      "{'byr': '2000', 'eyr': '2021', 'hgt': '166cm', 'hcl': '#fffffd', 'iyr': '2019', 'pid': '546346187', 'cid': '111', 'ecl': 'grn'}\n",
      "eyr:2034 hcl:#623a2f byr:1958 pid:60553207 ecl:#76b538 hgt:59 cid:75 \n",
      "{'eyr': '2034', 'hcl': '#623a2f', 'byr': '1958', 'pid': '60553207', 'ecl': '#76b538', 'hgt': '59', 'cid': '75'}\n",
      "hcl:#623a2f eyr:2023 pid:251940892 byr:1998 iyr:2012 hgt:181cm ecl:gry \n",
      "{'hcl': '#623a2f', 'eyr': '2023', 'pid': '251940892', 'byr': '1998', 'iyr': '2012', 'hgt': '181cm', 'ecl': 'gry'}\n",
      "iyr:2020 cid:83 byr:1938 eyr:2024 ecl:amb pid:046668488 hgt:181cm hcl:#341e13 \n",
      "{'iyr': '2020', 'cid': '83', 'byr': '1938', 'eyr': '2024', 'ecl': 'amb', 'pid': '046668488', 'hgt': '181cm', 'hcl': '#341e13'}\n",
      "ecl:grn eyr:2036 iyr:1951 byr:2029 hcl:z hgt:177in pid:135470038 \n",
      "{'ecl': 'grn', 'eyr': '2036', 'iyr': '1951', 'byr': '2029', 'hcl': 'z', 'hgt': '177in', 'pid': '135470038'}\n",
      "iyr:2015 eyr:2023 byr:1961 cid:81 hcl:#a97842 pid:710065884 hgt:152cm ecl:#1f9801 \n",
      "{'iyr': '2015', 'eyr': '2023', 'byr': '1961', 'cid': '81', 'hcl': '#a97842', 'pid': '710065884', 'hgt': '152cm', 'ecl': '#1f9801'}\n",
      "byr:2014 pid:25253929 hcl:z ecl:#f3fb41 eyr:2025 cid:255 iyr:1998 hgt:155cm \n",
      "{'byr': '2014', 'pid': '25253929', 'hcl': 'z', 'ecl': '#f3fb41', 'eyr': '2025', 'cid': '255', 'iyr': '1998', 'hgt': '155cm'}\n",
      "ecl:gry pid:919070381 hcl:#efcc98 iyr:2019 eyr:2021 byr:1995 \n",
      "{'ecl': 'gry', 'pid': '919070381', 'hcl': '#efcc98', 'iyr': '2019', 'eyr': '2021', 'byr': '1995'}\n",
      "byr:1942 eyr:2029 hgt:191cm hcl:#18171d pid:649719423 iyr:2018 ecl:brn \n",
      "{'byr': '1942', 'eyr': '2029', 'hgt': '191cm', 'hcl': '#18171d', 'pid': '649719423', 'iyr': '2018', 'ecl': 'brn'}\n",
      "ecl:gry byr:1963 iyr:2016 hgt:188cm pid:024539026 eyr:2022 \n",
      "{'ecl': 'gry', 'byr': '1963', 'iyr': '2016', 'hgt': '188cm', 'pid': '024539026', 'eyr': '2022'}\n",
      "hgt:176cm ecl:hzl eyr:1923 pid:176188310 hcl:#b6652a byr:1939 iyr:2011 \n",
      "{'hgt': '176cm', 'ecl': 'hzl', 'eyr': '1923', 'pid': '176188310', 'hcl': '#b6652a', 'byr': '1939', 'iyr': '2011'}\n",
      "iyr:2011 hcl:#888785 eyr:2030 ecl:gry byr:1920 \n",
      "{'iyr': '2011', 'hcl': '#888785', 'eyr': '2030', 'ecl': 'gry', 'byr': '1920'}\n",
      "pid:#0468a7 hcl:851fe0 eyr:2036 hgt:60cm byr:2030 iyr:1995 ecl:utc \n",
      "{'pid': '#0468a7', 'hcl': '851fe0', 'eyr': '2036', 'hgt': '60cm', 'byr': '2030', 'iyr': '1995', 'ecl': 'utc'}\n",
      "hcl:#866857 iyr:2016 ecl:oth pid:414233531 eyr:2022 byr:1957 hgt:169cm cid:229 \n",
      "{'hcl': '#866857', 'iyr': '2016', 'ecl': 'oth', 'pid': '414233531', 'eyr': '2022', 'byr': '1957', 'hgt': '169cm', 'cid': '229'}\n",
      "cid:185 ecl:#5f6f53 pid:#20f317 byr:2024 eyr:1988 hcl:z iyr:2023 hgt:158in \n",
      "{'cid': '185', 'ecl': '#5f6f53', 'pid': '#20f317', 'byr': '2024', 'eyr': '1988', 'hcl': 'z', 'iyr': '2023', 'hgt': '158in'}\n",
      "pid:015894427 eyr:2027 hgt:177cm ecl:blu cid:222 hcl:#c0946f iyr:2010 byr:1993 \n",
      "{'pid': '015894427', 'eyr': '2027', 'hgt': '177cm', 'ecl': 'blu', 'cid': '222', 'hcl': '#c0946f', 'iyr': '2010', 'byr': '1993'}\n",
      "cid:101 hgt:162cm hcl:#c0946f pid:666662343 ecl:grn byr:1974 iyr:2019 eyr:2029 \n",
      "{'cid': '101', 'hgt': '162cm', 'hcl': '#c0946f', 'pid': '666662343', 'ecl': 'grn', 'byr': '1974', 'iyr': '2019', 'eyr': '2029'}\n",
      "pid:782547454 hcl:z ecl:#b0805f iyr:2013 eyr:2023 hgt:159cm byr:1935 cid:230 \n",
      "{'pid': '782547454', 'hcl': 'z', 'ecl': '#b0805f', 'iyr': '2013', 'eyr': '2023', 'hgt': '159cm', 'byr': '1935', 'cid': '230'}\n",
      "pid:298008321 hcl:231e1b hgt:166cm ecl:oth iyr:2026 eyr:2020 \n",
      "{'pid': '298008321', 'hcl': '231e1b', 'hgt': '166cm', 'ecl': 'oth', 'iyr': '2026', 'eyr': '2020'}\n",
      "pid:230201309 iyr:2010 eyr:2025 hcl:#6b5442 cid:238 ecl:grn hgt:174cm \n",
      "{'pid': '230201309', 'iyr': '2010', 'eyr': '2025', 'hcl': '#6b5442', 'cid': '238', 'ecl': 'grn', 'hgt': '174cm'}\n",
      "cid:287 eyr:2026 hcl:#733820 pid:201750712 iyr:2010 ecl:oth byr:1985 hgt:185cm \n",
      "{'cid': '287', 'eyr': '2026', 'hcl': '#733820', 'pid': '201750712', 'iyr': '2010', 'ecl': 'oth', 'byr': '1985', 'hgt': '185cm'}\n",
      "hcl:#a97842 hgt:70in eyr:2029 pid:419407059 ecl:grn byr:1987 iyr:2016 \n",
      "{'hcl': '#a97842', 'hgt': '70in', 'eyr': '2029', 'pid': '419407059', 'ecl': 'grn', 'byr': '1987', 'iyr': '2016'}\n",
      "hgt:191cm byr:1951 eyr:2027 hcl:#8a9477 iyr:2015 ecl:amb pid:769071985 \n",
      "{'hgt': '191cm', 'byr': '1951', 'eyr': '2027', 'hcl': '#8a9477', 'iyr': '2015', 'ecl': 'amb', 'pid': '769071985'}\n",
      "hcl:#6b5442 iyr:2012 ecl:blu cid:336 pid:391608810 byr:1995 eyr:2022 hgt:161cm \n",
      "{'hcl': '#6b5442', 'iyr': '2012', 'ecl': 'blu', 'cid': '336', 'pid': '391608810', 'byr': '1995', 'eyr': '2022', 'hgt': '161cm'}\n",
      "iyr:2020 byr:1938 pid:927067439 eyr:2027 hgt:173cm hcl:306963 ecl:xry \n",
      "{'iyr': '2020', 'byr': '1938', 'pid': '927067439', 'eyr': '2027', 'hgt': '173cm', 'hcl': '306963', 'ecl': 'xry'}\n",
      "byr:1991 iyr:2021 hgt:175cm hcl:68b4f3 ecl:utc pid:037777327 eyr:2026 \n",
      "{'byr': '1991', 'iyr': '2021', 'hgt': '175cm', 'hcl': '68b4f3', 'ecl': 'utc', 'pid': '037777327', 'eyr': '2026'}\n",
      "hgt:64in eyr:2025 hcl:#da6977 cid:137 byr:1990 iyr:2013 pid:918997697 ecl:amb \n",
      "{'hgt': '64in', 'eyr': '2025', 'hcl': '#da6977', 'cid': '137', 'byr': '1990', 'iyr': '2013', 'pid': '918997697', 'ecl': 'amb'}\n",
      "iyr:2011 ecl:gry hgt:173cm eyr:2023 pid:802831612 hcl:#733820 byr:1976 \n",
      "{'iyr': '2011', 'ecl': 'gry', 'hgt': '173cm', 'eyr': '2023', 'pid': '802831612', 'hcl': '#733820', 'byr': '1976'}\n",
      "byr:1938 eyr:2021 pid:575395401 cid:234 hcl:#866857 ecl:hzl hgt:176cm \n",
      "{'byr': '1938', 'eyr': '2021', 'pid': '575395401', 'cid': '234', 'hcl': '#866857', 'ecl': 'hzl', 'hgt': '176cm'}\n",
      "hcl:#ceb3a1 ecl:hzl eyr:2035 iyr:2014 byr:2019 \n",
      "{'hcl': '#ceb3a1', 'ecl': 'hzl', 'eyr': '2035', 'iyr': '2014', 'byr': '2019'}\n",
      "ecl:hzl pid:961361236 hgt:193cm hcl:#efcc98 iyr:2011 eyr:2030 byr:1967 \n",
      "{'ecl': 'hzl', 'pid': '961361236', 'hgt': '193cm', 'hcl': '#efcc98', 'iyr': '2011', 'eyr': '2030', 'byr': '1967'}\n",
      "eyr:1936 ecl:blu hgt:153cm hcl:98d3f0 pid:7296832671 byr:1931 iyr:1962 \n",
      "{'eyr': '1936', 'ecl': 'blu', 'hgt': '153cm', 'hcl': '98d3f0', 'pid': '7296832671', 'byr': '1931', 'iyr': '1962'}\n",
      "iyr:2016 eyr:2024 hcl:#6b5442 ecl:grn pid:265815316 byr:1966 hgt:165cm \n",
      "{'iyr': '2016', 'eyr': '2024', 'hcl': '#6b5442', 'ecl': 'grn', 'pid': '265815316', 'byr': '1966', 'hgt': '165cm'}\n",
      "pid:203025149 eyr:2029 iyr:2010 cid:124 byr:1999 ecl:blu \n",
      "{'pid': '203025149', 'eyr': '2029', 'iyr': '2010', 'cid': '124', 'byr': '1999', 'ecl': 'blu'}\n",
      "iyr:2011 eyr:2028 pid:#7e0612 byr:1924 hcl:#7d3b0c ecl:oth hgt:82 \n",
      "{'iyr': '2011', 'eyr': '2028', 'pid': '#7e0612', 'byr': '1924', 'hcl': '#7d3b0c', 'ecl': 'oth', 'hgt': '82'}\n",
      "ecl:hzl byr:1941 hcl:#b6652a eyr:2020 pid:409573276 iyr:1976 hgt:166cm \n",
      "{'ecl': 'hzl', 'byr': '1941', 'hcl': '#b6652a', 'eyr': '2020', 'pid': '409573276', 'iyr': '1976', 'hgt': '166cm'}\n",
      "ecl:grn eyr:2030 hgt:163cm iyr:2011 pid:121609314 byr:1961 hcl:#426e1a \n",
      "{'ecl': 'grn', 'eyr': '2030', 'hgt': '163cm', 'iyr': '2011', 'pid': '121609314', 'byr': '1961', 'hcl': '#426e1a'}\n",
      "pid:#49ea2c eyr:2029 hcl:#6b5442 iyr:1931 hgt:62cm ecl:brn byr:2012 \n",
      "{'pid': '#49ea2c', 'eyr': '2029', 'hcl': '#6b5442', 'iyr': '1931', 'hgt': '62cm', 'ecl': 'brn', 'byr': '2012'}\n",
      "eyr:2038 hcl:8d1f49 ecl:#6d4ea1 pid:0853660207 byr:2020 hgt:71cm \n",
      "{'eyr': '2038', 'hcl': '8d1f49', 'ecl': '#6d4ea1', 'pid': '0853660207', 'byr': '2020', 'hgt': '71cm'}\n",
      "ecl:hzl hgt:170cm iyr:2011 byr:1966 eyr:2028 pid:609548717 hcl:#c0946f \n",
      "{'ecl': 'hzl', 'hgt': '170cm', 'iyr': '2011', 'byr': '1966', 'eyr': '2028', 'pid': '609548717', 'hcl': '#c0946f'}\n",
      "byr:1921 hcl:#c0946f ecl:blu iyr:2019 eyr:2024 pid:643387204 \n",
      "{'byr': '1921', 'hcl': '#c0946f', 'ecl': 'blu', 'iyr': '2019', 'eyr': '2024', 'pid': '643387204'}\n",
      "cid:324 hgt:162cm ecl:amb hcl:#18171d byr:1961 eyr:2027 iyr:2010 pid:939720354 \n",
      "{'cid': '324', 'hgt': '162cm', 'ecl': 'amb', 'hcl': '#18171d', 'byr': '1961', 'eyr': '2027', 'iyr': '2010', 'pid': '939720354'}\n",
      "byr:1933 hcl:#fffffd pid:353343882 eyr:2025 hgt:171cm ecl:amb cid:329 iyr:2017 \n",
      "{'byr': '1933', 'hcl': '#fffffd', 'pid': '353343882', 'eyr': '2025', 'hgt': '171cm', 'ecl': 'amb', 'cid': '329', 'iyr': '2017'}\n",
      "byr:2004 iyr:2022 pid:157cm eyr:2035 ecl:#eafe47 hgt:129 hcl:z \n",
      "{'byr': '2004', 'iyr': '2022', 'pid': '157cm', 'eyr': '2035', 'ecl': '#eafe47', 'hgt': '129', 'hcl': 'z'}\n",
      "cid:55 iyr:2025 hgt:177in pid:493884348 hcl:#888785 byr:1925 ecl:#b11d27 eyr:2036 \n",
      "{'cid': '55', 'iyr': '2025', 'hgt': '177in', 'pid': '493884348', 'hcl': '#888785', 'byr': '1925', 'ecl': '#b11d27', 'eyr': '2036'}\n",
      "ecl:hzl hgt:171cm iyr:2012 pid:479669573 cid:335 hcl:#fffffd byr:1953 eyr:2029 \n",
      "{'ecl': 'hzl', 'hgt': '171cm', 'iyr': '2012', 'pid': '479669573', 'cid': '335', 'hcl': '#fffffd', 'byr': '1953', 'eyr': '2029'}\n",
      "byr:1930 hcl:5bdf31 pid:#b21f8a hgt:164cm cid:134 iyr:2023 ecl:lzr \n",
      "{'byr': '1930', 'hcl': '5bdf31', 'pid': '#b21f8a', 'hgt': '164cm', 'cid': '134', 'iyr': '2023', 'ecl': 'lzr'}\n",
      "iyr:2018 eyr:2026 ecl:grn pid:541667478 hcl:#6b5442 byr:1992 hgt:155cm \n",
      "{'iyr': '2018', 'eyr': '2026', 'ecl': 'grn', 'pid': '541667478', 'hcl': '#6b5442', 'byr': '1992', 'hgt': '155cm'}\n",
      "hcl:2a1c4f iyr:2011 hgt:192cm eyr:2028 byr:2029 cid:270 ecl:dne pid:7995627426 \n",
      "{'hcl': '2a1c4f', 'iyr': '2011', 'hgt': '192cm', 'eyr': '2028', 'byr': '2029', 'cid': '270', 'ecl': 'dne', 'pid': '7995627426'}\n",
      "byr:1929 ecl:oth pid:954905104 iyr:2016 hgt:68in hcl:#7d3b0c eyr:2020 \n",
      "{'byr': '1929', 'ecl': 'oth', 'pid': '954905104', 'iyr': '2016', 'hgt': '68in', 'hcl': '#7d3b0c', 'eyr': '2020'}\n",
      "cid:167 byr:2000 hgt:186cm iyr:2013 hcl:#ff4019 pid:384287209 eyr:2024 ecl:amb \n",
      "{'cid': '167', 'byr': '2000', 'hgt': '186cm', 'iyr': '2013', 'hcl': '#ff4019', 'pid': '384287209', 'eyr': '2024', 'ecl': 'amb'}\n",
      "eyr:2022 iyr:2018 byr:1972 cid:290 hgt:170cm ecl:grn pid:127269636 \n",
      "{'eyr': '2022', 'iyr': '2018', 'byr': '1972', 'cid': '290', 'hgt': '170cm', 'ecl': 'grn', 'pid': '127269636'}\n",
      "byr:1997 ecl:amb hgt:150cm pid:056368047 hcl:#fffffd eyr:2020 iyr:2020 \n",
      "{'byr': '1997', 'ecl': 'amb', 'hgt': '150cm', 'pid': '056368047', 'hcl': '#fffffd', 'eyr': '2020', 'iyr': '2020'}\n",
      "ecl:gry hgt:167in byr:2020 cid:131 pid:651833067 hcl:#623a2f iyr:2027 eyr:2038 \n",
      "{'ecl': 'gry', 'hgt': '167in', 'byr': '2020', 'cid': '131', 'pid': '651833067', 'hcl': '#623a2f', 'iyr': '2027', 'eyr': '2038'}\n",
      "hcl:#56c370 iyr:2014 byr:1941 pid:654258425 hgt:184cm eyr:2025 ecl:hzl \n",
      "{'hcl': '#56c370', 'iyr': '2014', 'byr': '1941', 'pid': '654258425', 'hgt': '184cm', 'eyr': '2025', 'ecl': 'hzl'}\n",
      "pid:571765355 byr:2021 hcl:z eyr:1921 cid:106 iyr:1978 ecl:#1162c5 hgt:184in \n",
      "{'pid': '571765355', 'byr': '2021', 'hcl': 'z', 'eyr': '1921', 'cid': '106', 'iyr': '1978', 'ecl': '#1162c5', 'hgt': '184in'}\n",
      "iyr:2015 hcl:#18171d cid:237 pid:348578306 ecl:blu byr:1988 eyr:2025 hgt:155cm \n",
      "{'iyr': '2015', 'hcl': '#18171d', 'cid': '237', 'pid': '348578306', 'ecl': 'blu', 'byr': '1988', 'eyr': '2025', 'hgt': '155cm'}\n",
      "byr:1963 hcl:#733820 cid:145 eyr:2030 ecl:oth pid:964094037 hgt:164cm iyr:2018 \n",
      "{'byr': '1963', 'hcl': '#733820', 'cid': '145', 'eyr': '2030', 'ecl': 'oth', 'pid': '964094037', 'hgt': '164cm', 'iyr': '2018'}\n",
      "pid:595618708 ecl:amb hcl:#866857 hgt:186cm eyr:2024 byr:1924 iyr:2014 \n",
      "{'pid': '595618708', 'ecl': 'amb', 'hcl': '#866857', 'hgt': '186cm', 'eyr': '2024', 'byr': '1924', 'iyr': '2014'}\n",
      "ecl:hzl pid:484466493 hgt:176cm iyr:2016 byr:1983 hcl:#ceb3a1 \n",
      "{'ecl': 'hzl', 'pid': '484466493', 'hgt': '176cm', 'iyr': '2016', 'byr': '1983', 'hcl': '#ceb3a1'}\n",
      "ecl:gry hcl:#6b5442 hgt:185cm eyr:2029 pid:045583320 byr:1974 iyr:2020 \n",
      "{'ecl': 'gry', 'hcl': '#6b5442', 'hgt': '185cm', 'eyr': '2029', 'pid': '045583320', 'byr': '1974', 'iyr': '2020'}\n",
      "ecl:brn hcl:352cf1 cid:149 hgt:184cm byr:2011 eyr:2031 pid:21942403 iyr:2028 \n",
      "{'ecl': 'brn', 'hcl': '352cf1', 'cid': '149', 'hgt': '184cm', 'byr': '2011', 'eyr': '2031', 'pid': '21942403', 'iyr': '2028'}\n",
      "ecl:brn eyr:2029 pid:083295950 byr:1995 hgt:176cm hcl:#c0946f cid:68 iyr:2014 \n",
      "{'ecl': 'brn', 'eyr': '2029', 'pid': '083295950', 'byr': '1995', 'hgt': '176cm', 'hcl': '#c0946f', 'cid': '68', 'iyr': '2014'}\n",
      "hgt:170cm byr:1945 hcl:#623a2f iyr:2013 pid:912213595 ecl:gry eyr:2020 \n",
      "{'hgt': '170cm', 'byr': '1945', 'hcl': '#623a2f', 'iyr': '2013', 'pid': '912213595', 'ecl': 'gry', 'eyr': '2020'}\n",
      "ecl:gry hcl:#18171d iyr:2015 hgt:185cm eyr:2023 byr:1950 \n",
      "{'ecl': 'gry', 'hcl': '#18171d', 'iyr': '2015', 'hgt': '185cm', 'eyr': '2023', 'byr': '1950'}\n",
      "byr:1997 hgt:68in pid:368643584 hcl:#623a2f ecl:hzl eyr:2029 iyr:2012 cid:239 \n",
      "{'byr': '1997', 'hgt': '68in', 'pid': '368643584', 'hcl': '#623a2f', 'ecl': 'hzl', 'eyr': '2029', 'iyr': '2012', 'cid': '239'}\n",
      "iyr:2003 eyr:2020 cid:99 byr:2027 hcl:2c10a6 hgt:74cm ecl:brn \n",
      "{'iyr': '2003', 'eyr': '2020', 'cid': '99', 'byr': '2027', 'hcl': '2c10a6', 'hgt': '74cm', 'ecl': 'brn'}\n",
      "pid:151cm hcl:46a5fd eyr:2031 iyr:2014 byr:2005 ecl:xry hgt:176cm \n",
      "{'pid': '151cm', 'hcl': '46a5fd', 'eyr': '2031', 'iyr': '2014', 'byr': '2005', 'ecl': 'xry', 'hgt': '176cm'}\n",
      "byr:2011 ecl:oth pid:821123244 iyr:2022 hcl:839b47 eyr:2039 hgt:150in \n",
      "{'byr': '2011', 'ecl': 'oth', 'pid': '821123244', 'iyr': '2022', 'hcl': '839b47', 'eyr': '2039', 'hgt': '150in'}\n",
      "pid:604669618 hgt:152cm iyr:2013 byr:1954 eyr:2021 ecl:amb hcl:#623a2f \n",
      "{'pid': '604669618', 'hgt': '152cm', 'iyr': '2013', 'byr': '1954', 'eyr': '2021', 'ecl': 'amb', 'hcl': '#623a2f'}\n",
      "hgt:182cm byr:1993 cid:177 hcl:#b6652a ecl:gry iyr:2011 pid:441649857 eyr:2027 \n",
      "{'hgt': '182cm', 'byr': '1993', 'cid': '177', 'hcl': '#b6652a', 'ecl': 'gry', 'iyr': '2011', 'pid': '441649857', 'eyr': '2027'}\n",
      "cid:296 hgt:98 ecl:grt iyr:2028 hcl:#a97842 byr:2022 pid:69736889 eyr:1935 \n",
      "{'cid': '296', 'hgt': '98', 'ecl': 'grt', 'iyr': '2028', 'hcl': '#a97842', 'byr': '2022', 'pid': '69736889', 'eyr': '1935'}\n",
      "iyr:2016 hcl:#cfa07d byr:1941 hgt:182cm pid:720595987 ecl:gry eyr:2022 \n",
      "{'iyr': '2016', 'hcl': '#cfa07d', 'byr': '1941', 'hgt': '182cm', 'pid': '720595987', 'ecl': 'gry', 'eyr': '2022'}\n",
      "iyr:2018 hgt:164cm hcl:#650d28 byr:1973 cid:108 pid:#b0df80 ecl:blu eyr:2020 \n",
      "{'iyr': '2018', 'hgt': '164cm', 'hcl': '#650d28', 'byr': '1973', 'cid': '108', 'pid': '#b0df80', 'ecl': 'blu', 'eyr': '2020'}\n",
      "hcl:z pid:315901778 iyr:2013 byr:1999 ecl:#49f691 eyr:2026 hgt:179cm \n",
      "{'hcl': 'z', 'pid': '315901778', 'iyr': '2013', 'byr': '1999', 'ecl': '#49f691', 'eyr': '2026', 'hgt': '179cm'}\n",
      "byr:1925 pid:555786686 hgt:189cm hcl:#cfa07d iyr:2012 ecl:gry eyr:2028 \n",
      "{'byr': '1925', 'pid': '555786686', 'hgt': '189cm', 'hcl': '#cfa07d', 'iyr': '2012', 'ecl': 'gry', 'eyr': '2028'}\n",
      "iyr:2016 hgt:168cm eyr:2027 cid:60 ecl:gry hcl:#cfa07d pid:322944081 byr:1993 \n",
      "{'iyr': '2016', 'hgt': '168cm', 'eyr': '2027', 'cid': '60', 'ecl': 'gry', 'hcl': '#cfa07d', 'pid': '322944081', 'byr': '1993'}\n",
      "pid:163cm hgt:189cm iyr:1997 hcl:03db25 eyr:1970 byr:2016 ecl:#6c59eb \n",
      "{'pid': '163cm', 'hgt': '189cm', 'iyr': '1997', 'hcl': '03db25', 'eyr': '1970', 'byr': '2016', 'ecl': '#6c59eb'}\n",
      "pid:766719295 iyr:2017 hgt:168cm hcl:z ecl:grt eyr:2022 byr:2010 \n",
      "{'pid': '766719295', 'iyr': '2017', 'hgt': '168cm', 'hcl': 'z', 'ecl': 'grt', 'eyr': '2022', 'byr': '2010'}\n",
      "hgt:173cm pid:247156751 cid:109 eyr:2022 iyr:2012 ecl:gry byr:1989 \n",
      "{'hgt': '173cm', 'pid': '247156751', 'cid': '109', 'eyr': '2022', 'iyr': '2012', 'ecl': 'gry', 'byr': '1989'}\n",
      "cid:288 hcl:77241f hgt:157cm byr:1956 pid:587115461 iyr:2016 ecl:lzr eyr:2034 \n",
      "{'cid': '288', 'hcl': '77241f', 'hgt': '157cm', 'byr': '1956', 'pid': '587115461', 'iyr': '2016', 'ecl': 'lzr', 'eyr': '2034'}\n",
      "hcl:5307c9 ecl:#cc4aff pid:#d80d30 cid:224 hgt:72cm byr:2025 eyr:2039 iyr:2025 \n",
      "{'hcl': '5307c9', 'ecl': '#cc4aff', 'pid': '#d80d30', 'cid': '224', 'hgt': '72cm', 'byr': '2025', 'eyr': '2039', 'iyr': '2025'}\n",
      "eyr:2027 byr:2015 hgt:184 hcl:98fb9d pid:58151347 iyr:2029 \n",
      "{'eyr': '2027', 'byr': '2015', 'hgt': '184', 'hcl': '98fb9d', 'pid': '58151347', 'iyr': '2029'}\n",
      "hgt:183cm cid:187 byr:2019 ecl:xry iyr:2013 pid:164cm hcl:#18171d eyr:2021 \n",
      "{'hgt': '183cm', 'cid': '187', 'byr': '2019', 'ecl': 'xry', 'iyr': '2013', 'pid': '164cm', 'hcl': '#18171d', 'eyr': '2021'}\n"
     ]
    },
    {
     "data": {
      "text/plain": [
       "127"
      ]
     },
     "execution_count": 482,
     "metadata": {},
     "output_type": "execute_result"
    }
   ],
   "source": [
    "part_two(ooh)"
   ]
  },
  {
   "cell_type": "code",
   "execution_count": null,
   "metadata": {},
   "outputs": [],
   "source": []
  }
 ],
 "metadata": {
  "kernelspec": {
   "display_name": "Python 3",
   "language": "python",
   "name": "python3"
  },
  "language_info": {
   "codemirror_mode": {
    "name": "ipython",
    "version": 3
   },
   "file_extension": ".py",
   "mimetype": "text/x-python",
   "name": "python",
   "nbconvert_exporter": "python",
   "pygments_lexer": "ipython3",
   "version": "3.7.2"
  }
 },
 "nbformat": 4,
 "nbformat_minor": 2
}
