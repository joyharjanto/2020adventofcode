{
 "cells": [
  {
   "cell_type": "markdown",
   "metadata": {},
   "source": [
    "## day seven: 1/2 "
   ]
  },
  {
   "cell_type": "code",
   "execution_count": 1,
   "metadata": {},
   "outputs": [
    {
     "name": "stdout",
     "output_type": "stream",
     "text": [
      "['light red bags contain 1 bright white bag, 2 muted yellow bags.\\n', 'dark orange bags contain 3 bright white bags, 4 muted yellow bags.\\n', 'bright white bags contain 1 shiny gold bag.\\n', 'muted yellow bags contain 2 shiny gold bags, 9 faded blue bags.\\n', 'shiny gold bags contain 1 dark olive bag, 2 vibrant plum bags.\\n', 'dark olive bags contain 3 faded blue bags, 4 dotted black bags.\\n', 'vibrant plum bags contain 5 faded blue bags, 6 dotted black bags.\\n', 'faded blue bags contain no other bags.\\n', 'dotted black bags contain no other bags.']\n"
     ]
    }
   ],
   "source": [
    "with open(\"test.txt\", \"r\") as fp:\n",
    "    test=fp.readlines()\n",
    "    \n",
    "print(test)"
   ]
  },
  {
   "cell_type": "code",
   "execution_count": 9,
   "metadata": {},
   "outputs": [],
   "source": [
    "# test_list = []\n",
    "# for sentence in test:\n",
    "#     test_list.append(sentence.split('contain'))"
   ]
  },
  {
   "cell_type": "code",
   "execution_count": 16,
   "metadata": {},
   "outputs": [
    {
     "data": {
      "text/plain": [
       "'light red bag contain 1 bright white bag, 2 muted yellow bag.\\n'"
      ]
     },
     "execution_count": 16,
     "metadata": {},
     "output_type": "execute_result"
    }
   ],
   "source": [
    "test[0].replace('bags','bag')"
   ]
  },
  {
   "cell_type": "code",
   "execution_count": 33,
   "metadata": {},
   "outputs": [
    {
     "name": "stdout",
     "output_type": "stream",
     "text": [
      "['light red bag contain 1 bright white bag, 2 muted yellow bag.', 'dark orange bag contain 3 bright white bag, 4 muted yellow bag.', 'bright white bag contain 1 shiny gold bag.', 'muted yellow bag contain 2 shiny gold bag, 9 faded blue bag.', 'shiny gold bag contain 1 dark olive bag, 2 vibrant plum bag.', 'dark olive bag contain 3 faded blue bag, 4 dotted black bag.', 'vibrant plum bag contain 5 faded blue bag, 6 dotted black bag.', 'faded blue bag contain no other bag.', 'dotted black bag contain no other bag.']\n"
     ]
    }
   ],
   "source": [
    "for i in range(0, len(test)):\n",
    "    test[i] = test[i].replace('bags','bag')\n",
    "    test[i] = test[i].replace('\\n','')\n",
    "print(test)"
   ]
  },
  {
   "cell_type": "code",
   "execution_count": 34,
   "metadata": {},
   "outputs": [
    {
     "name": "stdout",
     "output_type": "stream",
     "text": [
      "['light red bag ', ' 1 bright white bag, 2 muted yellow bag.']\n",
      "light red bag \n",
      "[' 1 bright white bag', ' 2 muted yellow bag.']\n"
     ]
    }
   ],
   "source": [
    "check = test[0].split('contain')\n",
    "print(check)\n",
    "empty = []\n",
    "print(check[0])\n",
    "print(check[1].split(','))\n"
   ]
  },
  {
   "cell_type": "code",
   "execution_count": null,
   "metadata": {},
   "outputs": [],
   "source": []
  }
 ],
 "metadata": {
  "kernelspec": {
   "display_name": "Python 3",
   "language": "python",
   "name": "python3"
  },
  "language_info": {
   "codemirror_mode": {
    "name": "ipython",
    "version": 3
   },
   "file_extension": ".py",
   "mimetype": "text/x-python",
   "name": "python",
   "nbconvert_exporter": "python",
   "pygments_lexer": "ipython3",
   "version": "3.7.2"
  }
 },
 "nbformat": 4,
 "nbformat_minor": 2
}
